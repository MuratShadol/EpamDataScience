{
  "nbformat": 4,
  "nbformat_minor": 0,
  "metadata": {
    "colab": {
      "name": "Classification2.ipynb",
      "provenance": [],
      "collapsed_sections": []
    },
    "kernelspec": {
      "name": "python3",
      "display_name": "Python 3"
    },
    "language_info": {
      "name": "python"
    }
  },
  "cells": [
    {
      "cell_type": "code",
      "metadata": {
        "colab": {
          "base_uri": "https://localhost:8080/"
        },
        "id": "FE6V3_aRHJCn",
        "outputId": "afe3537c-e250-4edc-8661-dde02d5aeedf"
      },
      "source": [
        "import pandas as pd\n",
        "import numpy as np\n",
        "import matplotlib.pyplot as plt\n",
        "import seaborn as sns\n",
        "import warnings \n",
        "import re\n",
        "from bs4 import BeautifulSoup\n",
        "warnings.filterwarnings('ignore')\n",
        "from sklearn.model_selection import train_test_split, StratifiedKFold, GridSearchCV\n",
        "from sklearn.linear_model import SGDClassifier\n",
        "from sklearn.metrics import roc_curve, roc_auc_score\n",
        "from sklearn.svm import SVC\n",
        "from sklearn.naive_bayes import MultinomialNB\n",
        "from sklearn.pipeline import Pipeline\n",
        "from sklearn.metrics import classification_report\n",
        "from sklearn.feature_extraction.text import TfidfVectorizer\n",
        "import nltk\n",
        "nltk.download('stopwords')\n",
        "from nltk.corpus import stopwords\n",
        "from nltk.stem.porter import PorterStemmer\n",
        "from nltk.stem import WordNetLemmatizer\n",
        "from nltk.tokenize.toktok import ToktokTokenizer\n",
        "from collections import Counter\n",
        "from google_drive_downloader import GoogleDriveDownloader as gdd\n"
      ],
      "execution_count": null,
      "outputs": [
        {
          "output_type": "stream",
          "text": [
            "[nltk_data] Downloading package stopwords to /root/nltk_data...\n",
            "[nltk_data]   Package stopwords is already up-to-date!\n"
          ],
          "name": "stdout"
        }
      ]
    },
    {
      "cell_type": "code",
      "metadata": {
        "colab": {
          "base_uri": "https://localhost:8080/"
        },
        "id": "GYuZNJyhxkhM",
        "outputId": "8cf6dd65-4085-4336-b86b-33b170f55fda"
      },
      "source": [
        "nltk.download('stopwords')\n",
        "nltk.download('wordnet')"
      ],
      "execution_count": null,
      "outputs": [
        {
          "output_type": "stream",
          "text": [
            "[nltk_data] Downloading package stopwords to /root/nltk_data...\n",
            "[nltk_data]   Package stopwords is already up-to-date!\n",
            "[nltk_data] Downloading package wordnet to /root/nltk_data...\n",
            "[nltk_data]   Unzipping corpora/wordnet.zip.\n"
          ],
          "name": "stdout"
        },
        {
          "output_type": "execute_result",
          "data": {
            "text/plain": [
              "True"
            ]
          },
          "metadata": {},
          "execution_count": 60
        }
      ]
    },
    {
      "cell_type": "code",
      "metadata": {
        "id": "t4LYFpXUIi9f"
      },
      "source": [
        "gdd.download_file_from_google_drive(file_id='14TaFIFoslOAAljV2uj5rU9biAuocKScX', dest_path= '/LargeMovieReviewDataset.csv')"
      ],
      "execution_count": null,
      "outputs": []
    },
    {
      "cell_type": "code",
      "metadata": {
        "id": "EJR7-rDqJFU6"
      },
      "source": [
        "data = pd.read_csv('/LargeMovieReviewDataset.csv')"
      ],
      "execution_count": null,
      "outputs": []
    },
    {
      "cell_type": "code",
      "metadata": {
        "colab": {
          "base_uri": "https://localhost:8080/"
        },
        "id": "4DmSm22-JM8d",
        "outputId": "b1b29836-080b-4f5c-d475-006f77bb5969"
      },
      "source": [
        "data.info()"
      ],
      "execution_count": null,
      "outputs": [
        {
          "output_type": "stream",
          "text": [
            "<class 'pandas.core.frame.DataFrame'>\n",
            "RangeIndex: 50000 entries, 0 to 49999\n",
            "Data columns (total 2 columns):\n",
            " #   Column     Non-Null Count  Dtype \n",
            "---  ------     --------------  ----- \n",
            " 0   review     50000 non-null  object\n",
            " 1   sentiment  50000 non-null  object\n",
            "dtypes: object(2)\n",
            "memory usage: 781.4+ KB\n"
          ],
          "name": "stdout"
        }
      ]
    },
    {
      "cell_type": "code",
      "metadata": {
        "id": "k8Cb4LW1JPBF"
      },
      "source": [
        "target = data.sentiment"
      ],
      "execution_count": null,
      "outputs": []
    },
    {
      "cell_type": "code",
      "metadata": {
        "colab": {
          "base_uri": "https://localhost:8080/",
          "height": 441
        },
        "id": "Dnh_7luAJoJ6",
        "outputId": "249d9920-f4e1-4502-d577-5d79fff1a5cf"
      },
      "source": [
        "ax = sns.countplot(x = data[\"sentiment\"], palette=\"Set1\")  \n",
        "plt.show()\n",
        "\n",
        "target.value_counts()"
      ],
      "execution_count": null,
      "outputs": [
        {
          "output_type": "display_data",
          "data": {
            "image/png": "[encoded data removed]",
            "text/plain": [
              "<Figure size 432x432 with 1 Axes>"
            ]
          },
          "metadata": {
            "needs_background": "light"
          }
        },
        {
          "output_type": "execute_result",
          "data": {
            "text/plain": [
              "positive    25000\n",
              "negative    25000\n",
              "Name: sentiment, dtype: int64"
            ]
          },
          "metadata": {},
          "execution_count": 107
        }
      ]
    },
    {
      "cell_type": "markdown",
      "metadata": {
        "id": "KkUPvQ1-nJL8"
      },
      "source": [
        "The dataset is balanced"
      ]
    },
    {
      "cell_type": "code",
      "metadata": {
        "colab": {
          "base_uri": "https://localhost:8080/",
          "height": 171
        },
        "id": "eN2X16iEdU-G",
        "outputId": "49b00489-1cc3-47e4-bbe8-cd0c20089562"
      },
      "source": [
        "data.describe()"
      ],
      "execution_count": null,
      "outputs": [
        {
          "output_type": "execute_result",
          "data": {
            "text/html": [
              "<div>\n",
              "<style scoped>\n",
              "    .dataframe tbody tr th:only-of-type {\n",
              "        vertical-align: middle;\n",
              "    }\n",
              "\n",
              "    .dataframe tbody tr th {\n",
              "        vertical-align: top;\n",
              "    }\n",
              "\n",
              "    .dataframe thead th {\n",
              "        text-align: right;\n",
              "    }\n",
              "</style>\n",
              "<table border=\"1\" class=\"dataframe\">\n",
              "  <thead>\n",
              "    <tr style=\"text-align: right;\">\n",
              "      <th></th>\n",
              "      <th>review</th>\n",
              "      <th>sentiment</th>\n",
              "    </tr>\n",
              "  </thead>\n",
              "  <tbody>\n",
              "    <tr>\n",
              "      <th>count</th>\n",
              "      <td>50000</td>\n",
              "      <td>50000</td>\n",
              "    </tr>\n",
              "    <tr>\n",
              "      <th>unique</th>\n",
              "      <td>49582</td>\n",
              "      <td>2</td>\n",
              "    </tr>\n",
              "    <tr>\n",
              "      <th>top</th>\n",
              "      <td>Loved today's show!!! It was a variety and not...</td>\n",
              "      <td>positive</td>\n",
              "    </tr>\n",
              "    <tr>\n",
              "      <th>freq</th>\n",
              "      <td>5</td>\n",
              "      <td>25000</td>\n",
              "    </tr>\n",
              "  </tbody>\n",
              "</table>\n",
              "</div>"
            ],
            "text/plain": [
              "                                                   review sentiment\n",
              "count                                               50000     50000\n",
              "unique                                              49582         2\n",
              "top     Loved today's show!!! It was a variety and not...  positive\n",
              "freq                                                    5     25000"
            ]
          },
          "metadata": {},
          "execution_count": 108
        }
      ]
    },
    {
      "cell_type": "markdown",
      "metadata": {
        "id": "27a_PqVanUss"
      },
      "source": [
        "Not all reviews are unique which means that some of them are doubled or something "
      ]
    },
    {
      "cell_type": "code",
      "metadata": {
        "id": "JC71MIydrPBk"
      },
      "source": [
        "#Convert sentiment columns into nnumerical features\n",
        "data.sentiment = data.sentiment.apply(lambda x: 1 if x == 'positive' else 0)\n",
        "target = data.sentiment"
      ],
      "execution_count": null,
      "outputs": []
    },
    {
      "cell_type": "code",
      "metadata": {
        "colab": {
          "base_uri": "https://localhost:8080/",
          "height": 106
        },
        "id": "MNHzfPXplubi",
        "outputId": "f4748892-d0c9-44c6-f177-b2083eea13a8"
      },
      "source": [
        "#To see what we need to clear let's take a look at one review\n",
        "review = data.review.loc[1]\n",
        "review"
      ],
      "execution_count": null,
      "outputs": [
        {
          "output_type": "execute_result",
          "data": {
            "application/vnd.google.colaboratory.intrinsic+json": {
              "type": "string"
            },
            "text/plain": [
              "'A wonderful little production. <br /><br />The filming technique is very unassuming- very old-time-BBC fashion and gives a comforting, and sometimes discomforting, sense of realism to the entire piece. <br /><br />The actors are extremely well chosen- Michael Sheen not only \"has got all the polari\" but he has all the voices down pat too! You can truly see the seamless editing guided by the references to Williams\\' diary entries, not only is it well worth the watching but it is a terrificly written and performed piece. A masterful production about one of the great master\\'s of comedy and his life. <br /><br />The realism really comes home with the little things: the fantasy of the guard which, rather than use the traditional \\'dream\\' techniques remains solid then disappears. It plays on our knowledge and our senses, particularly with the scenes concerning Orton and Halliwell and the sets (particularly of their flat with Halliwell\\'s murals decorating every surface) are terribly well done.'"
            ]
          },
          "metadata": {},
          "execution_count": 86
        }
      ]
    },
    {
      "cell_type": "markdown",
      "metadata": {
        "id": "zkdOO87xS9B7"
      },
      "source": [
        "There are some html contents,   '/',   ')' and etc to clean. Then I do stemming or lemmatization (We'll see what works better). Then remove stopwords (I do it after stemming or lemmatization to be convinced that stopwords will definitely remove). After that I'll do embedding. \n",
        "\n",
        "Firstly, I do it on one review to compare methods\n",
        "\n",
        "\n",
        "\n"
      ]
    },
    {
      "cell_type": "code",
      "metadata": {
        "colab": {
          "base_uri": "https://localhost:8080/",
          "height": 106
        },
        "id": "ld7-ocFPdTL2",
        "outputId": "b42cdb10-16a4-43d1-a8f5-8f7f4e0c49b8"
      },
      "source": [
        "#Remove html tags\n",
        "soup = BeautifulSoup(review, 'html.parser')\n",
        "review = soup.get_text()\n",
        "review"
      ],
      "execution_count": null,
      "outputs": [
        {
          "output_type": "execute_result",
          "data": {
            "application/vnd.google.colaboratory.intrinsic+json": {
              "type": "string"
            },
            "text/plain": [
              "'A wonderful little production. The filming technique is very unassuming- very old-time-BBC fashion and gives a comforting, and sometimes discomforting, sense of realism to the entire piece. The actors are extremely well chosen- Michael Sheen not only \"has got all the polari\" but he has all the voices down pat too! You can truly see the seamless editing guided by the references to Williams\\' diary entries, not only is it well worth the watching but it is a terrificly written and performed piece. A masterful production about one of the great master\\'s of comedy and his life. The realism really comes home with the little things: the fantasy of the guard which, rather than use the traditional \\'dream\\' techniques remains solid then disappears. It plays on our knowledge and our senses, particularly with the scenes concerning Orton and Halliwell and the sets (particularly of their flat with Halliwell\\'s murals decorating every surface) are terribly well done.'"
            ]
          },
          "metadata": {},
          "execution_count": 87
        }
      ]
    },
    {
      "cell_type": "code",
      "metadata": {
        "colab": {
          "base_uri": "https://localhost:8080/",
          "height": 106
        },
        "id": "KICpU0nHSWrW",
        "outputId": "db49a560-4608-4a20-b000-b692b22bdcb3"
      },
      "source": [
        "#Using Regular Expressions remove everything except lower/upper case letters\n",
        "review = re.sub('\\[[^]]*\\]', ' ', review)\n",
        "review = re.sub('[^a-zA-Z]', ' ', review)\n",
        "review"
      ],
      "execution_count": null,
      "outputs": [
        {
          "output_type": "execute_result",
          "data": {
            "application/vnd.google.colaboratory.intrinsic+json": {
              "type": "string"
            },
            "text/plain": [
              "'A wonderful little production  The filming technique is very unassuming  very old time BBC fashion and gives a comforting  and sometimes discomforting  sense of realism to the entire piece  The actors are extremely well chosen  Michael Sheen not only  has got all the polari  but he has all the voices down pat too  You can truly see the seamless editing guided by the references to Williams  diary entries  not only is it well worth the watching but it is a terrificly written and performed piece  A masterful production about one of the great master s of comedy and his life  The realism really comes home with the little things  the fantasy of the guard which  rather than use the traditional  dream  techniques remains solid then disappears  It plays on our knowledge and our senses  particularly with the scenes concerning Orton and Halliwell and the sets  particularly of their flat with Halliwell s murals decorating every surface  are terribly well done '"
            ]
          },
          "metadata": {},
          "execution_count": 41
        }
      ]
    },
    {
      "cell_type": "code",
      "metadata": {
        "colab": {
          "base_uri": "https://localhost:8080/",
          "height": 106
        },
        "id": "fj5qM3vbdFZI",
        "outputId": "c69b9663-f98c-4d3c-dc5f-455f93d0f074"
      },
      "source": [
        "#Make all lowercase\n",
        "review = review.lower()\n",
        "review"
      ],
      "execution_count": null,
      "outputs": [
        {
          "output_type": "execute_result",
          "data": {
            "application/vnd.google.colaboratory.intrinsic+json": {
              "type": "string"
            },
            "text/plain": [
              "'a wonderful little production  the filming technique is very unassuming  very old time bbc fashion and gives a comforting  and sometimes discomforting  sense of realism to the entire piece  the actors are extremely well chosen  michael sheen not only  has got all the polari  but he has all the voices down pat too  you can truly see the seamless editing guided by the references to williams  diary entries  not only is it well worth the watching but it is a terrificly written and performed piece  a masterful production about one of the great master s of comedy and his life  the realism really comes home with the little things  the fantasy of the guard which  rather than use the traditional  dream  techniques remains solid then disappears  it plays on our knowledge and our senses  particularly with the scenes concerning orton and halliwell and the sets  particularly of their flat with halliwell s murals decorating every surface  are terribly well done '"
            ]
          },
          "metadata": {},
          "execution_count": 42
        }
      ]
    },
    {
      "cell_type": "code",
      "metadata": {
        "colab": {
          "base_uri": "https://localhost:8080/",
          "height": 88
        },
        "id": "IJC02DEInJ_H",
        "outputId": "633dddfe-aa57-495f-e9b6-f7eba1610952"
      },
      "source": [
        "#Stemming function\n",
        "def Porter(text):\n",
        "    ps = PorterStemmer()\n",
        "    text= ' '.join([ps.stem(word) for word in text.split()])\n",
        "    return text\n",
        "    \n",
        "review_stem = Porter(review)\n",
        "review_stem"
      ],
      "execution_count": null,
      "outputs": [
        {
          "output_type": "execute_result",
          "data": {
            "application/vnd.google.colaboratory.intrinsic+json": {
              "type": "string"
            },
            "text/plain": [
              "'a wonder littl product the film techniqu is veri unassum veri old time bbc fashion and give a comfort and sometim discomfort sens of realism to the entir piec the actor are extrem well chosen michael sheen not onli ha got all the polari but he ha all the voic down pat too you can truli see the seamless edit guid by the refer to william diari entri not onli is it well worth the watch but it is a terrificli written and perform piec a master product about one of the great master s of comedi and hi life the realism realli come home with the littl thing the fantasi of the guard which rather than use the tradit dream techniqu remain solid then disappear it play on our knowledg and our sens particularli with the scene concern orton and halliwel and the set particularli of their flat with halliwel s mural decor everi surfac are terribl well done'"
            ]
          },
          "metadata": {},
          "execution_count": 57
        }
      ]
    },
    {
      "cell_type": "code",
      "metadata": {
        "colab": {
          "base_uri": "https://localhost:8080/",
          "height": 106
        },
        "id": "v4yPsMi4pl1N",
        "outputId": "45f3db78-8be5-4f9f-c89c-435d11922414"
      },
      "source": [
        "def WordNetLem(text):\n",
        "    lem = WordNetLemmatizer()\n",
        "    text= ' '.join([lem.lemmatize(word) for word in text.split()])\n",
        "    return text\n",
        "\n",
        "review_lem = WordNetLem(review)\n",
        "review_lem"
      ],
      "execution_count": null,
      "outputs": [
        {
          "output_type": "execute_result",
          "data": {
            "application/vnd.google.colaboratory.intrinsic+json": {
              "type": "string"
            },
            "text/plain": [
              "'a wonderful little production the filming technique is very unassuming very old time bbc fashion and give a comforting and sometimes discomforting sense of realism to the entire piece the actor are extremely well chosen michael sheen not only ha got all the polari but he ha all the voice down pat too you can truly see the seamless editing guided by the reference to williams diary entry not only is it well worth the watching but it is a terrificly written and performed piece a masterful production about one of the great master s of comedy and his life the realism really come home with the little thing the fantasy of the guard which rather than use the traditional dream technique remains solid then disappears it play on our knowledge and our sens particularly with the scene concerning orton and halliwell and the set particularly of their flat with halliwell s mural decorating every surface are terribly well done'"
            ]
          },
          "metadata": {},
          "execution_count": 61
        }
      ]
    },
    {
      "cell_type": "markdown",
      "metadata": {
        "id": "QXQ6IFtnyCYt"
      },
      "source": [
        "I can see that some words like very became veri after stemming, but stayed the same after lemmatization. I think I should use Lemmatization because of that."
      ]
    },
    {
      "cell_type": "code",
      "metadata": {
        "colab": {
          "base_uri": "https://localhost:8080/",
          "height": 88
        },
        "id": "GQ8vJ34N-eI3",
        "outputId": "c97ad0e3-d2dd-4ee3-b9aa-769e75f482d4"
      },
      "source": [
        "tokenizer = ToktokTokenizer()\n",
        "\n",
        "def stopwords_remove(text):\n",
        "    tokens = tokenizer.tokenize(text)\n",
        "    text = [word for word in tokens if not word in set(stopwords.words('english'))]\n",
        "    filtered_text = ' '.join(text)    \n",
        "    return filtered_text\n",
        "review_lem = stopwords_remove(review_lem)\n",
        "review_lem"
      ],
      "execution_count": null,
      "outputs": [
        {
          "output_type": "execute_result",
          "data": {
            "application/vnd.google.colaboratory.intrinsic+json": {
              "type": "string"
            },
            "text/plain": [
              "'wonderful little production filming technique unassuming old time bbc fashion give comforting sometimes discomforting sense realism entire piece actor extremely well chosen michael sheen ha got polari ha voice pat truly see seamless editing guided reference williams diary entry well worth watching terrificly written performed piece masterful production one great master comedy life realism really come home little thing fantasy guard rather use traditional dream technique remains solid disappears play knowledge sens particularly scene concerning orton halliwell set particularly flat halliwell mural decorating every surface terribly well done'"
            ]
          },
          "metadata": {},
          "execution_count": 117
        }
      ]
    },
    {
      "cell_type": "markdown",
      "metadata": {
        "id": "PvvcOQ8GElHg"
      },
      "source": [
        "Yeah, articles and other stopwords have removed. Now let's do the same on whole dataset "
      ]
    },
    {
      "cell_type": "code",
      "metadata": {
        "id": "7QFloaqQ2lkP"
      },
      "source": [
        "#Split the data\n",
        "X_train, X_test, Y_train, Y_test = train_test_split(data['review'], target, test_size=0.25, random_state=42)"
      ],
      "execution_count": null,
      "outputs": []
    },
    {
      "cell_type": "code",
      "metadata": {
        "id": "2ndtpkuA2s5m"
      },
      "source": [
        "#Cleaning and appending to train and test corpus\n",
        "corpus_train = []\n",
        "corpus_test  = []\n",
        "\n",
        "for i in range(X_train.shape[0]):\n",
        "    soup = BeautifulSoup(X_train.iloc[i], \"html.parser\")\n",
        "    review = soup.get_text()\n",
        "    review = re.sub('\\[[^]]*\\]', ' ', review)\n",
        "    review = re.sub('[^a-zA-Z]', ' ', review)\n",
        "    review = review.lower()\n",
        "    review = WordNetLem(review)\n",
        "    review = stopwords_remove(review)\n",
        "    corpus_train.append(review)\n",
        "\n",
        "for j in range(X_test.shape[0]):\n",
        "    soup = BeautifulSoup(X_test.iloc[j], \"html.parser\")\n",
        "    review = soup.get_text()\n",
        "    review = re.sub('\\[[^]]*\\]', ' ', review)\n",
        "    review = re.sub('[^a-zA-Z]', ' ', review)\n",
        "    review = review.lower()\n",
        "    review = WordNetLem(review)\n",
        "    review = stopwords_remove(review)\n",
        "    corpus_test.append(review)"
      ],
      "execution_count": null,
      "outputs": []
    },
    {
      "cell_type": "code",
      "metadata": {
        "colab": {
          "base_uri": "https://localhost:8080/",
          "height": 53
        },
        "id": "Pe6KCPbU_9Om",
        "outputId": "e9457bf4-1cc5-48ac-9c07-b106efd5fdeb"
      },
      "source": [
        "corpus_train[7]"
      ],
      "execution_count": null,
      "outputs": [
        {
          "output_type": "execute_result",
          "data": {
            "application/vnd.google.colaboratory.intrinsic+json": {
              "type": "string"
            },
            "text/plain": [
              "'production value video poor unwatchable performance took second place overwhelmingly creative hijinks studio wank thirty special effect per minute filmed cloud smoke one two second duration per shot frequently background spotlight shine directly camera lighting wa terrible filming constant zooming total lack visual continuity may good dancing available live audience video viewer never know'"
            ]
          },
          "metadata": {},
          "execution_count": 129
        }
      ]
    },
    {
      "cell_type": "code",
      "metadata": {
        "colab": {
          "base_uri": "https://localhost:8080/",
          "height": 106
        },
        "id": "YYQYXz8yyBGe",
        "outputId": "f964d923-2345-40b3-d181-7b2d69a09ef3"
      },
      "source": [
        "corpus_test[7]"
      ],
      "execution_count": null,
      "outputs": [
        {
          "output_type": "execute_result",
          "data": {
            "application/vnd.google.colaboratory.intrinsic+json": {
              "type": "string"
            },
            "text/plain": [
              "'okay get purgatory thing first time watched episode seemed like something significant wa going put finger time costa mesa fire tv really caught attention helped wa writing essay inferno let see discussed yet twop review mentioned tony flight stair go broken elevator yeah significant number lot reason especially religious one ya hunch consulted wikipedia guess dante divided level purgatorio excluding ante purgatory paradise stuff bottom stair tony get allegedly random monk slap scene soon monk appeared fit perfectly place tony trying get purgatory tell got worried christian commercial death disease sin came getting desperate christian heaven looking kinda iffy time meet monk thinking hey maybe guy help sound like contemplating religion e g buddhism wondering path could take salvation tony necessarily literally thinking becoming buddhist appears finnerty tried messed slap face basically tell tony quick fix suddenly embrace buddhism get tony wa initially concerned getting heaven conference entrance realizes going easy first saw name v driver license problem tony led sort double life killing people sleeping around kept secret people feel free affair quasi melfi kevin finnerty figure fool people kf card like hotel receptionist get purgatory helicopter helicopter heaven keeping track everything doe reading theory infinnerty though seems like kf identity reminder infinite different path tony could taken life possibly along car joke involving infiniti made sense otherwise aaaand point brain fizzle'"
            ]
          },
          "metadata": {},
          "execution_count": 123
        }
      ]
    },
    {
      "cell_type": "markdown",
      "metadata": {
        "id": "ZIbvyjaIFdhP"
      },
      "source": [
        "Okay, everything works, let's keep going"
      ]
    },
    {
      "cell_type": "code",
      "metadata": {
        "colab": {
          "base_uri": "https://localhost:8080/",
          "height": 404
        },
        "id": "R3RcRfr2FdKe",
        "outputId": "2622b761-5f15-434f-a696-52ecf14c00a1"
      },
      "source": [
        "#Visualizing the most important words \n",
        "counter=Counter(str(corpus_train).split())\n",
        "most=counter.most_common()\n",
        "x=[]\n",
        "y=[]\n",
        "for word,count in most[:10]:\n",
        "        x.append(word)\n",
        "        y.append(count)\n",
        "sns.barplot(x=y,y=x)\n",
        "plt.title('Words Importance')\n",
        "plt.xlabel('Count')\n",
        "plt.ylabel('Words')\n",
        "plt.show()"
      ],
      "execution_count": null,
      "outputs": [
        {
          "output_type": "display_data",
          "data": {
            "image/png": "[encoded data removed]",
            "text/plain": [
              "<Figure size 432x432 with 1 Axes>"
            ]
          },
          "metadata": {
            "needs_background": "light"
          }
        }
      ]
    },
    {
      "cell_type": "markdown",
      "metadata": {
        "id": "2Ie24SNdKIFt"
      },
      "source": [
        "This words will be the heaviest in making model solution"
      ]
    },
    {
      "cell_type": "code",
      "metadata": {
        "id": "0rzpp2-TiYuC"
      },
      "source": [
        "tfidf_vec = TfidfVectorizer(ngram_range=(1, 3))\n",
        "\n",
        "tfidf_vec_train = tfidf_vec.fit_transform(corpus_train)\n",
        "tfidf_vec_test = tfidf_vec.transform(corpus_test)"
      ],
      "execution_count": null,
      "outputs": []
    },
    {
      "cell_type": "markdown",
      "metadata": {
        "id": "QPahHwvciMrS"
      },
      "source": [
        "**SVM**"
      ]
    },
    {
      "cell_type": "code",
      "metadata": {
        "id": "R6nzxaLQFbjx"
      },
      "source": [
        "tuned_parameters = [{'clf__kernel': ['rbf'], 'clf__gamma': [1e-3, 1e-4],\n",
        "                     'clf__C': [1, 10, 100, 1000]},]"
      ],
      "execution_count": null,
      "outputs": []
    },
    {
      "cell_type": "code",
      "metadata": {
        "id": "5-OL-pahiU8i"
      },
      "source": [
        "my_pipeline_1 = Pipeline([('clf', SVC())])\n",
        "\n",
        "\n",
        "parameters = {'clf__C': [0.05, 0.1, 1, 5]}\n",
        "\n",
        "grid_search = GridSearchCV(my_pipeline_1, param_grid=tuned_parameters,\n",
        "                           cv=StratifiedKFold(3), scoring='f1', verbose=2)\n"
      ],
      "execution_count": null,
      "outputs": []
    },
    {
      "cell_type": "code",
      "metadata": {
        "id": "Zg_v1sN-k4Z2"
      },
      "source": [
        "grid_search.fit(tfidf_vec_train, Y_train) "
      ],
      "execution_count": null,
      "outputs": []
    },
    {
      "cell_type": "code",
      "metadata": {
        "id": "WIv1BBszlhnZ"
      },
      "source": [
        "grid_search.best_params_"
      ],
      "execution_count": null,
      "outputs": []
    },
    {
      "cell_type": "code",
      "metadata": {
        "id": "8O9HNxJ0IWe_"
      },
      "source": [
        "SVM_probs =  grid_search.predict_proba(tfidf_vec_test)             "
      ],
      "execution_count": null,
      "outputs": []
    },
    {
      "cell_type": "code",
      "metadata": {
        "id": "tz9A_U3Olikq"
      },
      "source": [
        "y_pred_SVM = grid_search.predict(tfidf_vec_test)"
      ],
      "execution_count": null,
      "outputs": []
    },
    {
      "cell_type": "code",
      "metadata": {
        "id": "Vg741QtGllex"
      },
      "source": [
        "print(classification_report(Y_test, y_pred_SVM))"
      ],
      "execution_count": null,
      "outputs": []
    },
    {
      "cell_type": "markdown",
      "metadata": {
        "id": "B63FJ_5Elpy7"
      },
      "source": [
        "**NAIVE BAYES**"
      ]
    },
    {
      "cell_type": "code",
      "metadata": {
        "id": "_egP-aiSlwif"
      },
      "source": [
        "tuned_parameters_1 = [{'clf__alpha': [0, 0.5, 1.0, 5, 10], 'clf__fit_prior':[True, False]}]"
      ],
      "execution_count": null,
      "outputs": []
    },
    {
      "cell_type": "code",
      "metadata": {
        "id": "-rKeGQexmA9T"
      },
      "source": [
        "my_pipeline_2 = Pipeline([('clf', MultinomialNB())])\n",
        "\n",
        "grid_search = GridSearchCV(my_pipeline_2, param_grid=tuned_parameters_1,\n",
        "                           cv=StratifiedKFold(3), scoring='f1', verbose=2)\n"
      ],
      "execution_count": null,
      "outputs": []
    },
    {
      "cell_type": "code",
      "metadata": {
        "colab": {
          "base_uri": "https://localhost:8080/"
        },
        "id": "NhBAzkW_mMI2",
        "outputId": "c31e0e4b-76c4-4f0d-9a43-f06fb77af287"
      },
      "source": [
        "grid_search.fit(tfidf_vec_train, Y_train)"
      ],
      "execution_count": null,
      "outputs": [
        {
          "output_type": "stream",
          "text": [
            "Fitting 3 folds for each of 10 candidates, totalling 30 fits\n",
            "[CV] clf__alpha=0, clf__fit_prior=True ...............................\n"
          ],
          "name": "stdout"
        },
        {
          "output_type": "stream",
          "text": [
            "[Parallel(n_jobs=1)]: Using backend SequentialBackend with 1 concurrent workers.\n"
          ],
          "name": "stderr"
        },
        {
          "output_type": "stream",
          "text": [
            "[CV] ................ clf__alpha=0, clf__fit_prior=True, total=   0.9s\n",
            "[CV] clf__alpha=0, clf__fit_prior=True ...............................\n"
          ],
          "name": "stdout"
        },
        {
          "output_type": "stream",
          "text": [
            "[Parallel(n_jobs=1)]: Done   1 out of   1 | elapsed:    0.9s remaining:    0.0s\n"
          ],
          "name": "stderr"
        },
        {
          "output_type": "stream",
          "text": [
            "[CV] ................ clf__alpha=0, clf__fit_prior=True, total=   0.8s\n",
            "[CV] clf__alpha=0, clf__fit_prior=True ...............................\n",
            "[CV] ................ clf__alpha=0, clf__fit_prior=True, total=   0.8s\n",
            "[CV] clf__alpha=0, clf__fit_prior=False ..............................\n",
            "[CV] ............... clf__alpha=0, clf__fit_prior=False, total=   0.7s\n",
            "[CV] clf__alpha=0, clf__fit_prior=False ..............................\n",
            "[CV] ............... clf__alpha=0, clf__fit_prior=False, total=   0.7s\n",
            "[CV] clf__alpha=0, clf__fit_prior=False ..............................\n",
            "[CV] ............... clf__alpha=0, clf__fit_prior=False, total=   0.7s\n",
            "[CV] clf__alpha=0.5, clf__fit_prior=True .............................\n",
            "[CV] .............. clf__alpha=0.5, clf__fit_prior=True, total=   0.8s\n",
            "[CV] clf__alpha=0.5, clf__fit_prior=True .............................\n",
            "[CV] .............. clf__alpha=0.5, clf__fit_prior=True, total=   0.8s\n",
            "[CV] clf__alpha=0.5, clf__fit_prior=True .............................\n",
            "[CV] .............. clf__alpha=0.5, clf__fit_prior=True, total=   0.8s\n",
            "[CV] clf__alpha=0.5, clf__fit_prior=False ............................\n",
            "[CV] ............. clf__alpha=0.5, clf__fit_prior=False, total=   0.8s\n",
            "[CV] clf__alpha=0.5, clf__fit_prior=False ............................\n",
            "[CV] ............. clf__alpha=0.5, clf__fit_prior=False, total=   0.8s\n",
            "[CV] clf__alpha=0.5, clf__fit_prior=False ............................\n",
            "[CV] ............. clf__alpha=0.5, clf__fit_prior=False, total=   0.8s\n",
            "[CV] clf__alpha=1.0, clf__fit_prior=True .............................\n",
            "[CV] .............. clf__alpha=1.0, clf__fit_prior=True, total=   0.6s\n",
            "[CV] clf__alpha=1.0, clf__fit_prior=True .............................\n",
            "[CV] .............. clf__alpha=1.0, clf__fit_prior=True, total=   0.6s\n",
            "[CV] clf__alpha=1.0, clf__fit_prior=True .............................\n",
            "[CV] .............. clf__alpha=1.0, clf__fit_prior=True, total=   0.7s\n",
            "[CV] clf__alpha=1.0, clf__fit_prior=False ............................\n",
            "[CV] ............. clf__alpha=1.0, clf__fit_prior=False, total=   0.6s\n",
            "[CV] clf__alpha=1.0, clf__fit_prior=False ............................\n",
            "[CV] ............. clf__alpha=1.0, clf__fit_prior=False, total=   0.6s\n",
            "[CV] clf__alpha=1.0, clf__fit_prior=False ............................\n",
            "[CV] ............. clf__alpha=1.0, clf__fit_prior=False, total=   0.7s\n",
            "[CV] clf__alpha=5, clf__fit_prior=True ...............................\n",
            "[CV] ................ clf__alpha=5, clf__fit_prior=True, total=   0.7s\n",
            "[CV] clf__alpha=5, clf__fit_prior=True ...............................\n",
            "[CV] ................ clf__alpha=5, clf__fit_prior=True, total=   0.7s\n",
            "[CV] clf__alpha=5, clf__fit_prior=True ...............................\n",
            "[CV] ................ clf__alpha=5, clf__fit_prior=True, total=   0.7s\n",
            "[CV] clf__alpha=5, clf__fit_prior=False ..............................\n",
            "[CV] ............... clf__alpha=5, clf__fit_prior=False, total=   0.7s\n",
            "[CV] clf__alpha=5, clf__fit_prior=False ..............................\n",
            "[CV] ............... clf__alpha=5, clf__fit_prior=False, total=   0.7s\n",
            "[CV] clf__alpha=5, clf__fit_prior=False ..............................\n",
            "[CV] ............... clf__alpha=5, clf__fit_prior=False, total=   0.7s\n",
            "[CV] clf__alpha=10, clf__fit_prior=True ..............................\n",
            "[CV] ............... clf__alpha=10, clf__fit_prior=True, total=   0.7s\n",
            "[CV] clf__alpha=10, clf__fit_prior=True ..............................\n",
            "[CV] ............... clf__alpha=10, clf__fit_prior=True, total=   0.7s\n",
            "[CV] clf__alpha=10, clf__fit_prior=True ..............................\n",
            "[CV] ............... clf__alpha=10, clf__fit_prior=True, total=   0.7s\n",
            "[CV] clf__alpha=10, clf__fit_prior=False .............................\n",
            "[CV] .............. clf__alpha=10, clf__fit_prior=False, total=   0.7s\n",
            "[CV] clf__alpha=10, clf__fit_prior=False .............................\n",
            "[CV] .............. clf__alpha=10, clf__fit_prior=False, total=   0.7s\n",
            "[CV] clf__alpha=10, clf__fit_prior=False .............................\n",
            "[CV] .............. clf__alpha=10, clf__fit_prior=False, total=   0.7s\n"
          ],
          "name": "stdout"
        },
        {
          "output_type": "stream",
          "text": [
            "[Parallel(n_jobs=1)]: Done  30 out of  30 | elapsed:   21.7s finished\n"
          ],
          "name": "stderr"
        },
        {
          "output_type": "execute_result",
          "data": {
            "text/plain": [
              "GridSearchCV(cv=StratifiedKFold(n_splits=3, random_state=None, shuffle=False),\n",
              "             error_score=nan,\n",
              "             estimator=Pipeline(memory=None,\n",
              "                                steps=[('clf',\n",
              "                                        MultinomialNB(alpha=1.0,\n",
              "                                                      class_prior=None,\n",
              "                                                      fit_prior=True))],\n",
              "                                verbose=False),\n",
              "             iid='deprecated', n_jobs=None,\n",
              "             param_grid=[{'clf__alpha': [0, 0.5, 1.0, 5, 10],\n",
              "                          'clf__fit_prior': [True, False]}],\n",
              "             pre_dispatch='2*n_jobs', refit=True, return_train_score=False,\n",
              "             scoring='f1', verbose=2)"
            ]
          },
          "metadata": {},
          "execution_count": 221
        }
      ]
    },
    {
      "cell_type": "code",
      "metadata": {
        "colab": {
          "base_uri": "https://localhost:8080/"
        },
        "id": "qrSeD90YmbTd",
        "outputId": "d30096f3-f3e8-4f1e-b12b-d00ce9b79b62"
      },
      "source": [
        "grid_search.best_params_"
      ],
      "execution_count": null,
      "outputs": [
        {
          "output_type": "execute_result",
          "data": {
            "text/plain": [
              "{'clf__alpha': 0.5, 'clf__fit_prior': False}"
            ]
          },
          "metadata": {},
          "execution_count": 222
        }
      ]
    },
    {
      "cell_type": "code",
      "metadata": {
        "id": "jzx3XFn_mefT"
      },
      "source": [
        "y_pred_NB = grid_search.predict(tfidf_vec_test)"
      ],
      "execution_count": null,
      "outputs": []
    },
    {
      "cell_type": "code",
      "metadata": {
        "id": "YJZpPWa7EJnz"
      },
      "source": [
        "nb_probs =  grid_search.predict_proba(tfidf_vec_test)             "
      ],
      "execution_count": null,
      "outputs": []
    },
    {
      "cell_type": "code",
      "metadata": {
        "colab": {
          "base_uri": "https://localhost:8080/"
        },
        "id": "mZF9sCmPmiQ1",
        "outputId": "35993a2a-0b74-48a7-f4f8-7134438b1fe8"
      },
      "source": [
        "print(classification_report(Y_test, y_pred_NB))"
      ],
      "execution_count": null,
      "outputs": [
        {
          "output_type": "stream",
          "text": [
            "              precision    recall  f1-score   support\n",
            "\n",
            "           0       0.89      0.90      0.89      6157\n",
            "           1       0.90      0.89      0.90      6343\n",
            "\n",
            "    accuracy                           0.90     12500\n",
            "   macro avg       0.90      0.90      0.90     12500\n",
            "weighted avg       0.90      0.90      0.90     12500\n",
            "\n"
          ],
          "name": "stdout"
        }
      ]
    },
    {
      "cell_type": "markdown",
      "metadata": {
        "id": "tNuMHZMnojXx"
      },
      "source": [
        "**SGDClassifier**"
      ]
    },
    {
      "cell_type": "code",
      "metadata": {
        "id": "v4aFBzbsnJK9"
      },
      "source": [
        "tuned_parameters_2 = [{'clf__alpha':[0.0001, 0.00001], 'clf__penalty': ['l2', 'l1', 'elasticnet'], 'clf__loss' : [\"modified_huber\"]}]"
      ],
      "execution_count": null,
      "outputs": []
    },
    {
      "cell_type": "code",
      "metadata": {
        "id": "V2ovfnCypR_m"
      },
      "source": [
        "my_pipeline_3 = Pipeline([('clf', SGDClassifier())])\n",
        "\n",
        "grid_search = GridSearchCV(my_pipeline_3, param_grid=tuned_parameters_2,\n",
        "                           cv=StratifiedKFold(3), scoring='f1', verbose=2)"
      ],
      "execution_count": null,
      "outputs": []
    },
    {
      "cell_type": "code",
      "metadata": {
        "id": "-rCcMnUTpvoo"
      },
      "source": [
        "grid_search.fit(tfidf_vec_train, Y_train)"
      ],
      "execution_count": null,
      "outputs": []
    },
    {
      "cell_type": "code",
      "metadata": {
        "colab": {
          "base_uri": "https://localhost:8080/"
        },
        "id": "MIYE8dNlpxf7",
        "outputId": "ab1fc5f9-a6a9-41f3-fa93-24a89d821ded"
      },
      "source": [
        "grid_search.best_params_"
      ],
      "execution_count": null,
      "outputs": [
        {
          "output_type": "execute_result",
          "data": {
            "text/plain": [
              "{'clf__alpha': 1e-05,\n",
              " 'clf__loss': 'modified_huber',\n",
              " 'clf__penalty': 'elasticnet'}"
            ]
          },
          "metadata": {},
          "execution_count": 230
        }
      ]
    },
    {
      "cell_type": "code",
      "metadata": {
        "id": "WPuvBEgtpz8S"
      },
      "source": [
        "y_pred_SGD = grid_search.predict(tfidf_vec_test)"
      ],
      "execution_count": null,
      "outputs": []
    },
    {
      "cell_type": "code",
      "metadata": {
        "colab": {
          "base_uri": "https://localhost:8080/"
        },
        "id": "3Y4QinocEd9F",
        "outputId": "e63ea3ce-27ed-4fc8-a721-df1eb306060c"
      },
      "source": [
        "sgd_probs =  grid_search.predict_proba(tfidf_vec_test)           "
      ],
      "execution_count": null,
      "outputs": [
        {
          "output_type": "execute_result",
          "data": {
            "text/plain": [
              "array([[0.86640936, 0.13359064],\n",
              "       [0.        , 1.        ],\n",
              "       [1.        , 0.        ],\n",
              "       ...,\n",
              "       [0.99256245, 0.00743755],\n",
              "       [0.        , 1.        ],\n",
              "       [0.        , 1.        ]])"
            ]
          },
          "metadata": {},
          "execution_count": 257
        }
      ]
    },
    {
      "cell_type": "code",
      "metadata": {
        "colab": {
          "base_uri": "https://localhost:8080/"
        },
        "id": "I6NXwafhp1uM",
        "outputId": "f174b419-cdb3-4631-f564-2959a20b2dd8"
      },
      "source": [
        "print(classification_report(Y_test, y_pred_SGD))"
      ],
      "execution_count": null,
      "outputs": [
        {
          "output_type": "stream",
          "text": [
            "              precision    recall  f1-score   support\n",
            "\n",
            "           0       0.92      0.89      0.91      6157\n",
            "           1       0.90      0.93      0.91      6343\n",
            "\n",
            "    accuracy                           0.91     12500\n",
            "   macro avg       0.91      0.91      0.91     12500\n",
            "weighted avg       0.91      0.91      0.91     12500\n",
            "\n"
          ],
          "name": "stdout"
        }
      ]
    },
    {
      "cell_type": "markdown",
      "metadata": {
        "id": "K5qyd3xPEoYE"
      },
      "source": [
        "Roc-auc"
      ]
    },
    {
      "cell_type": "code",
      "metadata": {
        "colab": {
          "base_uri": "https://localhost:8080/",
          "height": 334
        },
        "id": "g0tJv3vcw4cj",
        "outputId": "a576101d-2a3d-4400-9c72-3bf49e64c6ad"
      },
      "source": [
        "nb_auc = roc_auc_score(Y_test, nb_probs)\n",
        "svm_auc = roc_auc_score(Y_test, svm_probs)\n",
        "sgd_auc = roc_auc_score(Y_test, sgd_probs) #Error: bad input shape (12500, 2). I don't know how to fix it"
      ],
      "execution_count": null,
      "outputs": [
        {
          "output_type": "error",
          "ename": "ValueError",
          "evalue": "ignored",
          "traceback": [
            "\u001b[0;31m---------------------------------------------------------------------------\u001b[0m",
            "\u001b[0;31mValueError\u001b[0m                                Traceback (most recent call last)",
            "\u001b[0;32m<ipython-input-264-2a14abf7cf56>\u001b[0m in \u001b[0;36m<module>\u001b[0;34m()\u001b[0m\n\u001b[1;32m      1\u001b[0m \u001b[0mnb_auc\u001b[0m \u001b[0;34m=\u001b[0m \u001b[0mroc_auc_score\u001b[0m\u001b[0;34m(\u001b[0m\u001b[0mY_test\u001b[0m\u001b[0;34m,\u001b[0m \u001b[0mnb_probs\u001b[0m\u001b[0;34m)\u001b[0m\u001b[0;34m\u001b[0m\u001b[0;34m\u001b[0m\u001b[0m\n\u001b[0;32m----> 2\u001b[0;31m \u001b[0msgd_auc\u001b[0m \u001b[0;34m=\u001b[0m \u001b[0mroc_auc_score\u001b[0m\u001b[0;34m(\u001b[0m\u001b[0mY_test\u001b[0m\u001b[0;34m,\u001b[0m \u001b[0msgd_probs\u001b[0m\u001b[0;34m[\u001b[0m\u001b[0;34m:\u001b[0m\u001b[0;36m12500\u001b[0m\u001b[0;34m]\u001b[0m\u001b[0;34m)\u001b[0m\u001b[0;34m\u001b[0m\u001b[0;34m\u001b[0m\u001b[0m\n\u001b[0m",
            "\u001b[0;32m/usr/local/lib/python3.7/dist-packages/sklearn/metrics/_ranking.py\u001b[0m in \u001b[0;36mroc_auc_score\u001b[0;34m(y_true, y_score, average, sample_weight, max_fpr, multi_class, labels)\u001b[0m\n\u001b[1;32m    388\u001b[0m                                              max_fpr=max_fpr),\n\u001b[1;32m    389\u001b[0m                                      \u001b[0my_true\u001b[0m\u001b[0;34m,\u001b[0m \u001b[0my_score\u001b[0m\u001b[0;34m,\u001b[0m \u001b[0maverage\u001b[0m\u001b[0;34m,\u001b[0m\u001b[0;34m\u001b[0m\u001b[0;34m\u001b[0m\u001b[0m\n\u001b[0;32m--> 390\u001b[0;31m                                      sample_weight=sample_weight)\n\u001b[0m\u001b[1;32m    391\u001b[0m     \u001b[0;32melse\u001b[0m\u001b[0;34m:\u001b[0m  \u001b[0;31m# multilabel-indicator\u001b[0m\u001b[0;34m\u001b[0m\u001b[0;34m\u001b[0m\u001b[0m\n\u001b[1;32m    392\u001b[0m         return _average_binary_score(partial(_binary_roc_auc_score,\n",
            "\u001b[0;32m/usr/local/lib/python3.7/dist-packages/sklearn/metrics/_base.py\u001b[0m in \u001b[0;36m_average_binary_score\u001b[0;34m(binary_metric, y_true, y_score, average, sample_weight)\u001b[0m\n\u001b[1;32m     75\u001b[0m \u001b[0;34m\u001b[0m\u001b[0m\n\u001b[1;32m     76\u001b[0m     \u001b[0;32mif\u001b[0m \u001b[0my_type\u001b[0m \u001b[0;34m==\u001b[0m \u001b[0;34m\"binary\"\u001b[0m\u001b[0;34m:\u001b[0m\u001b[0;34m\u001b[0m\u001b[0;34m\u001b[0m\u001b[0m\n\u001b[0;32m---> 77\u001b[0;31m         \u001b[0;32mreturn\u001b[0m \u001b[0mbinary_metric\u001b[0m\u001b[0;34m(\u001b[0m\u001b[0my_true\u001b[0m\u001b[0;34m,\u001b[0m \u001b[0my_score\u001b[0m\u001b[0;34m,\u001b[0m \u001b[0msample_weight\u001b[0m\u001b[0;34m=\u001b[0m\u001b[0msample_weight\u001b[0m\u001b[0;34m)\u001b[0m\u001b[0;34m\u001b[0m\u001b[0;34m\u001b[0m\u001b[0m\n\u001b[0m\u001b[1;32m     78\u001b[0m \u001b[0;34m\u001b[0m\u001b[0m\n\u001b[1;32m     79\u001b[0m     \u001b[0mcheck_consistent_length\u001b[0m\u001b[0;34m(\u001b[0m\u001b[0my_true\u001b[0m\u001b[0;34m,\u001b[0m \u001b[0my_score\u001b[0m\u001b[0;34m,\u001b[0m \u001b[0msample_weight\u001b[0m\u001b[0;34m)\u001b[0m\u001b[0;34m\u001b[0m\u001b[0;34m\u001b[0m\u001b[0m\n",
            "\u001b[0;32m/usr/local/lib/python3.7/dist-packages/sklearn/metrics/_ranking.py\u001b[0m in \u001b[0;36m_binary_roc_auc_score\u001b[0;34m(y_true, y_score, sample_weight, max_fpr)\u001b[0m\n\u001b[1;32m    223\u001b[0m \u001b[0;34m\u001b[0m\u001b[0m\n\u001b[1;32m    224\u001b[0m     fpr, tpr, _ = roc_curve(y_true, y_score,\n\u001b[0;32m--> 225\u001b[0;31m                             sample_weight=sample_weight)\n\u001b[0m\u001b[1;32m    226\u001b[0m     \u001b[0;32mif\u001b[0m \u001b[0mmax_fpr\u001b[0m \u001b[0;32mis\u001b[0m \u001b[0;32mNone\u001b[0m \u001b[0;32mor\u001b[0m \u001b[0mmax_fpr\u001b[0m \u001b[0;34m==\u001b[0m \u001b[0;36m1\u001b[0m\u001b[0;34m:\u001b[0m\u001b[0;34m\u001b[0m\u001b[0;34m\u001b[0m\u001b[0m\n\u001b[1;32m    227\u001b[0m         \u001b[0;32mreturn\u001b[0m \u001b[0mauc\u001b[0m\u001b[0;34m(\u001b[0m\u001b[0mfpr\u001b[0m\u001b[0;34m,\u001b[0m \u001b[0mtpr\u001b[0m\u001b[0;34m)\u001b[0m\u001b[0;34m\u001b[0m\u001b[0;34m\u001b[0m\u001b[0m\n",
            "\u001b[0;32m/usr/local/lib/python3.7/dist-packages/sklearn/metrics/_ranking.py\u001b[0m in \u001b[0;36mroc_curve\u001b[0;34m(y_true, y_score, pos_label, sample_weight, drop_intermediate)\u001b[0m\n\u001b[1;32m    769\u001b[0m     \"\"\"\n\u001b[1;32m    770\u001b[0m     fps, tps, thresholds = _binary_clf_curve(\n\u001b[0;32m--> 771\u001b[0;31m         y_true, y_score, pos_label=pos_label, sample_weight=sample_weight)\n\u001b[0m\u001b[1;32m    772\u001b[0m \u001b[0;34m\u001b[0m\u001b[0m\n\u001b[1;32m    773\u001b[0m     \u001b[0;31m# Attempt to drop thresholds corresponding to points in between and\u001b[0m\u001b[0;34m\u001b[0m\u001b[0;34m\u001b[0m\u001b[0;34m\u001b[0m\u001b[0m\n",
            "\u001b[0;32m/usr/local/lib/python3.7/dist-packages/sklearn/metrics/_ranking.py\u001b[0m in \u001b[0;36m_binary_clf_curve\u001b[0;34m(y_true, y_score, pos_label, sample_weight)\u001b[0m\n\u001b[1;32m    538\u001b[0m     \u001b[0mcheck_consistent_length\u001b[0m\u001b[0;34m(\u001b[0m\u001b[0my_true\u001b[0m\u001b[0;34m,\u001b[0m \u001b[0my_score\u001b[0m\u001b[0;34m,\u001b[0m \u001b[0msample_weight\u001b[0m\u001b[0;34m)\u001b[0m\u001b[0;34m\u001b[0m\u001b[0;34m\u001b[0m\u001b[0m\n\u001b[1;32m    539\u001b[0m     \u001b[0my_true\u001b[0m \u001b[0;34m=\u001b[0m \u001b[0mcolumn_or_1d\u001b[0m\u001b[0;34m(\u001b[0m\u001b[0my_true\u001b[0m\u001b[0;34m)\u001b[0m\u001b[0;34m\u001b[0m\u001b[0;34m\u001b[0m\u001b[0m\n\u001b[0;32m--> 540\u001b[0;31m     \u001b[0my_score\u001b[0m \u001b[0;34m=\u001b[0m \u001b[0mcolumn_or_1d\u001b[0m\u001b[0;34m(\u001b[0m\u001b[0my_score\u001b[0m\u001b[0;34m)\u001b[0m\u001b[0;34m\u001b[0m\u001b[0;34m\u001b[0m\u001b[0m\n\u001b[0m\u001b[1;32m    541\u001b[0m     \u001b[0massert_all_finite\u001b[0m\u001b[0;34m(\u001b[0m\u001b[0my_true\u001b[0m\u001b[0;34m)\u001b[0m\u001b[0;34m\u001b[0m\u001b[0;34m\u001b[0m\u001b[0m\n\u001b[1;32m    542\u001b[0m     \u001b[0massert_all_finite\u001b[0m\u001b[0;34m(\u001b[0m\u001b[0my_score\u001b[0m\u001b[0;34m)\u001b[0m\u001b[0;34m\u001b[0m\u001b[0;34m\u001b[0m\u001b[0m\n",
            "\u001b[0;32m/usr/local/lib/python3.7/dist-packages/sklearn/utils/validation.py\u001b[0m in \u001b[0;36mcolumn_or_1d\u001b[0;34m(y, warn)\u001b[0m\n\u001b[1;32m    795\u001b[0m         \u001b[0;32mreturn\u001b[0m \u001b[0mnp\u001b[0m\u001b[0;34m.\u001b[0m\u001b[0mravel\u001b[0m\u001b[0;34m(\u001b[0m\u001b[0my\u001b[0m\u001b[0;34m)\u001b[0m\u001b[0;34m\u001b[0m\u001b[0;34m\u001b[0m\u001b[0m\n\u001b[1;32m    796\u001b[0m \u001b[0;34m\u001b[0m\u001b[0m\n\u001b[0;32m--> 797\u001b[0;31m     \u001b[0;32mraise\u001b[0m \u001b[0mValueError\u001b[0m\u001b[0;34m(\u001b[0m\u001b[0;34m\"bad input shape {0}\"\u001b[0m\u001b[0;34m.\u001b[0m\u001b[0mformat\u001b[0m\u001b[0;34m(\u001b[0m\u001b[0mshape\u001b[0m\u001b[0;34m)\u001b[0m\u001b[0;34m)\u001b[0m\u001b[0;34m\u001b[0m\u001b[0;34m\u001b[0m\u001b[0m\n\u001b[0m\u001b[1;32m    798\u001b[0m \u001b[0;34m\u001b[0m\u001b[0m\n\u001b[1;32m    799\u001b[0m \u001b[0;34m\u001b[0m\u001b[0m\n",
            "\u001b[0;31mValueError\u001b[0m: bad input shape (12500, 2)"
          ]
        }
      ]
    },
    {
      "cell_type": "code",
      "metadata": {
        "colab": {
          "base_uri": "https://localhost:8080/"
        },
        "id": "6m6Xmc9Zxhfu",
        "outputId": "d4620305-f861-45cb-b685-940a800ec0da"
      },
      "source": [
        "print('naive bayes aucroc score', nb_auc)\n",
        "print('svm aucroc score: ', svm_auc)\n",
        "#print('sgd aucroc score', sgd_auc)"
      ],
      "execution_count": null,
      "outputs": [
        {
          "output_type": "stream",
          "text": [
            "naive bayes aucroc score 0.9653039850026569\n"
          ],
          "name": "stdout"
        }
      ]
    },
    {
      "cell_type": "code",
      "metadata": {
        "id": "jC2Ek-cwzYhT"
      },
      "source": [
        "nb_fpr, nb_tpr, _ = roc_curve(Y_test, nb_probs)\n",
        "svm_fpr, svm_tpr, _ = roc_curve(Y_test, svm_probs)\n",
        "#sgd_fpr, sgd_tpr, _ = roc_curve(Y_test, sgd_probs)"
      ],
      "execution_count": null,
      "outputs": []
    },
    {
      "cell_type": "code",
      "metadata": {
        "id": "QYDk8j7u0BRj"
      },
      "source": [
        "plt.plot(nb_fpr, nb_tpr, linestyle= '--', label = 'Naive Bayes prediction (AUCROC = %0.3f)'%nb_auc)\n",
        "plt.plot(svm_fpr, svm_tpr, linestyle= '--', label = 'SVM prediction (AUCROC = %0.3f)'%svm_auc)\n",
        "#plt.plot(sgd_fpr, sgd_fpr, linestyle= '--', label = 'SGD prediction (AUCROC = %0.3f)'%sgd_auc)\n",
        "\n",
        "plt.title('ROC Plot')\n",
        "plt.xlabel('False Positive Rate')\n",
        "plt.ylabel('True positive Rate')\n",
        "plt.legend()\n",
        "plt.show()"
      ],
      "execution_count": null,
      "outputs": []
    },
    {
      "cell_type": "code",
      "metadata": {
        "id": "90hcHBwjW4QQ"
      },
      "source": [
        ""
      ],
      "execution_count": null,
      "outputs": []
    },
    {
      "cell_type": "code",
      "metadata": {
        "colab": {
          "base_uri": "https://localhost:8080/"
        },
        "id": "sO1q6hK3W34K",
        "outputId": "53f6f254-b6b1-418c-d51e-df259bcf9efb"
      },
      "source": [
        "import numpy as np \n",
        "A = np.array([1, 2, 3])\n",
        "B = np.array([8, 9, 10])\n",
        "np.linalg.norm(A-B)"
      ],
      "execution_count": null,
      "outputs": [
        {
          "output_type": "execute_result",
          "data": {
            "text/plain": [
              "12.12435565298214"
            ]
          },
          "metadata": {},
          "execution_count": 4
        }
      ]
    },
    {
      "cell_type": "markdown",
      "metadata": {
        "id": "I2gMP2HEqPb4"
      },
      "source": [
        "**Conclusion**\n"
      ]
    },
    {
      "cell_type": "markdown",
      "metadata": {
        "id": "jPJl9GCK15xF"
      },
      "source": [
        "With the help of the roc curve and roc auc score, we can see naive bayes model worked great."
      ]
    },
    {
      "cell_type": "markdown",
      "metadata": {
        "id": "LDral5RB2IKf"
      },
      "source": [
        "*That's all. Have a great day !*"
      ]
    }
  ]
}