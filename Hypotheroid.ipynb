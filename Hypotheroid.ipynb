{
  "nbformat": 4,
  "nbformat_minor": 5,
  "metadata": {
    "colab": {
      "name": "Hypotheroid.ipynb",
      "provenance": []
    },
    "kernelspec": {
      "display_name": "Python 3",
      "language": "python",
      "name": "python3"
    },
    "language_info": {
      "codemirror_mode": {
        "name": "ipython",
        "version": 3
      },
      "file_extension": ".py",
      "mimetype": "text/x-python",
      "name": "python",
      "nbconvert_exporter": "python",
      "pygments_lexer": "ipython3",
      "version": "3.8.8"
    }
  },
  "cells": [
    {
      "cell_type": "code",
      "metadata": {
        "id": "fb853ca2"
      },
      "source": [
        "import numpy as np\n",
        "import pandas as pd\n",
        "import seaborn as sns\n",
        "import matplotlib.pyplot as plt\n",
        "import warnings\n",
        "from sklearn import metrics\n",
        "from sklearn.neighbors import KNeighborsClassifier\n",
        "from sklearn.linear_model import LogisticRegression\n",
        "from sklearn.model_selection import train_test_split\n",
        "from google_drive_downloader import GoogleDriveDownloader as gdd\n",
        "warnings.filterwarnings('ignore')"
      ],
      "id": "fb853ca2",
      "execution_count": null,
      "outputs": []
    },
    {
      "cell_type": "markdown",
      "metadata": {
        "id": "31fgZCZw8-d3"
      },
      "source": [
        "## Work"
      ],
      "id": "31fgZCZw8-d3"
    },
    {
      "cell_type": "code",
      "metadata": {
        "colab": {
          "base_uri": "https://localhost:8080/"
        },
        "id": "JZD3dana6ejN",
        "outputId": "2dc72e7a-ea28-41de-a859-201c75174e55"
      },
      "source": [
        "gdd.download_file_from_google_drive(file_id='1m53GMGvefv99ZeTOuhjb5wLkTSwfMTCf', dest_path= '/dataset_57_hypothyroid.csv')"
      ],
      "id": "JZD3dana6ejN",
      "execution_count": null,
      "outputs": [
        {
          "name": "stdout",
          "output_type": "stream",
          "text": [
            "Downloading 1m53GMGvefv99ZeTOuhjb5wLkTSwfMTCf into /dataset_57_hypothyroid.csv... Done.\n"
          ]
        }
      ]
    },
    {
      "cell_type": "code",
      "metadata": {
        "id": "60721b8b"
      },
      "source": [
        "df = pd.read_csv(\"/dataset_57_hypothyroid.csv\")"
      ],
      "id": "60721b8b",
      "execution_count": null,
      "outputs": []
    },
    {
      "cell_type": "code",
      "metadata": {
        "colab": {
          "base_uri": "https://localhost:8080/",
          "height": 223
        },
        "id": "04763945",
        "outputId": "d1293b0f-2b4e-40ed-80fb-20a4b0c781fb"
      },
      "source": [
        "df.head()"
      ],
      "id": "04763945",
      "execution_count": null,
      "outputs": [
        {
          "data": {
            "text/html": [
              "<div>\n",
              "<style scoped>\n",
              "    .dataframe tbody tr th:only-of-type {\n",
              "        vertical-align: middle;\n",
              "    }\n",
              "\n",
              "    .dataframe tbody tr th {\n",
              "        vertical-align: top;\n",
              "    }\n",
              "\n",
              "    .dataframe thead th {\n",
              "        text-align: right;\n",
              "    }\n",
              "</style>\n",
              "<table border=\"1\" class=\"dataframe\">\n",
              "  <thead>\n",
              "    <tr style=\"text-align: right;\">\n",
              "      <th></th>\n",
              "      <th>age</th>\n",
              "      <th>sex</th>\n",
              "      <th>on_thyroxine</th>\n",
              "      <th>query_on_thyroxine</th>\n",
              "      <th>on_antithyroid_medication</th>\n",
              "      <th>sick</th>\n",
              "      <th>pregnant</th>\n",
              "      <th>thyroid_surgery</th>\n",
              "      <th>I131_treatment</th>\n",
              "      <th>query_hypothyroid</th>\n",
              "      <th>query_hyperthyroid</th>\n",
              "      <th>lithium</th>\n",
              "      <th>goitre</th>\n",
              "      <th>tumor</th>\n",
              "      <th>hypopituitary</th>\n",
              "      <th>psych</th>\n",
              "      <th>TSH_measured</th>\n",
              "      <th>TSH</th>\n",
              "      <th>T3_measured</th>\n",
              "      <th>T3</th>\n",
              "      <th>TT4_measured</th>\n",
              "      <th>TT4</th>\n",
              "      <th>T4U_measured</th>\n",
              "      <th>T4U</th>\n",
              "      <th>FTI_measured</th>\n",
              "      <th>FTI</th>\n",
              "      <th>TBG_measured</th>\n",
              "      <th>TBG</th>\n",
              "      <th>referral_source</th>\n",
              "      <th>Class</th>\n",
              "    </tr>\n",
              "  </thead>\n",
              "  <tbody>\n",
              "    <tr>\n",
              "      <th>0</th>\n",
              "      <td>41</td>\n",
              "      <td>F</td>\n",
              "      <td>f</td>\n",
              "      <td>f</td>\n",
              "      <td>f</td>\n",
              "      <td>f</td>\n",
              "      <td>f</td>\n",
              "      <td>f</td>\n",
              "      <td>f</td>\n",
              "      <td>f</td>\n",
              "      <td>f</td>\n",
              "      <td>f</td>\n",
              "      <td>f</td>\n",
              "      <td>f</td>\n",
              "      <td>f</td>\n",
              "      <td>f</td>\n",
              "      <td>t</td>\n",
              "      <td>1.3</td>\n",
              "      <td>t</td>\n",
              "      <td>2.5</td>\n",
              "      <td>t</td>\n",
              "      <td>125</td>\n",
              "      <td>t</td>\n",
              "      <td>1.14</td>\n",
              "      <td>t</td>\n",
              "      <td>109</td>\n",
              "      <td>f</td>\n",
              "      <td>?</td>\n",
              "      <td>SVHC</td>\n",
              "      <td>negative</td>\n",
              "    </tr>\n",
              "    <tr>\n",
              "      <th>1</th>\n",
              "      <td>23</td>\n",
              "      <td>F</td>\n",
              "      <td>f</td>\n",
              "      <td>f</td>\n",
              "      <td>f</td>\n",
              "      <td>f</td>\n",
              "      <td>f</td>\n",
              "      <td>f</td>\n",
              "      <td>f</td>\n",
              "      <td>f</td>\n",
              "      <td>f</td>\n",
              "      <td>f</td>\n",
              "      <td>f</td>\n",
              "      <td>f</td>\n",
              "      <td>f</td>\n",
              "      <td>f</td>\n",
              "      <td>t</td>\n",
              "      <td>4.1</td>\n",
              "      <td>t</td>\n",
              "      <td>2</td>\n",
              "      <td>t</td>\n",
              "      <td>102</td>\n",
              "      <td>f</td>\n",
              "      <td>?</td>\n",
              "      <td>f</td>\n",
              "      <td>?</td>\n",
              "      <td>f</td>\n",
              "      <td>?</td>\n",
              "      <td>other</td>\n",
              "      <td>negative</td>\n",
              "    </tr>\n",
              "    <tr>\n",
              "      <th>2</th>\n",
              "      <td>46</td>\n",
              "      <td>M</td>\n",
              "      <td>f</td>\n",
              "      <td>f</td>\n",
              "      <td>f</td>\n",
              "      <td>f</td>\n",
              "      <td>f</td>\n",
              "      <td>f</td>\n",
              "      <td>f</td>\n",
              "      <td>f</td>\n",
              "      <td>f</td>\n",
              "      <td>f</td>\n",
              "      <td>f</td>\n",
              "      <td>f</td>\n",
              "      <td>f</td>\n",
              "      <td>f</td>\n",
              "      <td>t</td>\n",
              "      <td>0.98</td>\n",
              "      <td>f</td>\n",
              "      <td>?</td>\n",
              "      <td>t</td>\n",
              "      <td>109</td>\n",
              "      <td>t</td>\n",
              "      <td>0.91</td>\n",
              "      <td>t</td>\n",
              "      <td>120</td>\n",
              "      <td>f</td>\n",
              "      <td>?</td>\n",
              "      <td>other</td>\n",
              "      <td>negative</td>\n",
              "    </tr>\n",
              "    <tr>\n",
              "      <th>3</th>\n",
              "      <td>70</td>\n",
              "      <td>F</td>\n",
              "      <td>t</td>\n",
              "      <td>f</td>\n",
              "      <td>f</td>\n",
              "      <td>f</td>\n",
              "      <td>f</td>\n",
              "      <td>f</td>\n",
              "      <td>f</td>\n",
              "      <td>f</td>\n",
              "      <td>f</td>\n",
              "      <td>f</td>\n",
              "      <td>f</td>\n",
              "      <td>f</td>\n",
              "      <td>f</td>\n",
              "      <td>f</td>\n",
              "      <td>t</td>\n",
              "      <td>0.16</td>\n",
              "      <td>t</td>\n",
              "      <td>1.9</td>\n",
              "      <td>t</td>\n",
              "      <td>175</td>\n",
              "      <td>f</td>\n",
              "      <td>?</td>\n",
              "      <td>f</td>\n",
              "      <td>?</td>\n",
              "      <td>f</td>\n",
              "      <td>?</td>\n",
              "      <td>other</td>\n",
              "      <td>negative</td>\n",
              "    </tr>\n",
              "    <tr>\n",
              "      <th>4</th>\n",
              "      <td>70</td>\n",
              "      <td>F</td>\n",
              "      <td>f</td>\n",
              "      <td>f</td>\n",
              "      <td>f</td>\n",
              "      <td>f</td>\n",
              "      <td>f</td>\n",
              "      <td>f</td>\n",
              "      <td>f</td>\n",
              "      <td>f</td>\n",
              "      <td>f</td>\n",
              "      <td>f</td>\n",
              "      <td>f</td>\n",
              "      <td>f</td>\n",
              "      <td>f</td>\n",
              "      <td>f</td>\n",
              "      <td>t</td>\n",
              "      <td>0.72</td>\n",
              "      <td>t</td>\n",
              "      <td>1.2</td>\n",
              "      <td>t</td>\n",
              "      <td>61</td>\n",
              "      <td>t</td>\n",
              "      <td>0.87</td>\n",
              "      <td>t</td>\n",
              "      <td>70</td>\n",
              "      <td>f</td>\n",
              "      <td>?</td>\n",
              "      <td>SVI</td>\n",
              "      <td>negative</td>\n",
              "    </tr>\n",
              "  </tbody>\n",
              "</table>\n",
              "</div>"
            ],
            "text/plain": [
              "  age sex on_thyroxine  ... TBG referral_source     Class\n",
              "0  41   F            f  ...   ?            SVHC  negative\n",
              "1  23   F            f  ...   ?           other  negative\n",
              "2  46   M            f  ...   ?           other  negative\n",
              "3  70   F            t  ...   ?           other  negative\n",
              "4  70   F            f  ...   ?             SVI  negative\n",
              "\n",
              "[5 rows x 30 columns]"
            ]
          },
          "execution_count": 4,
          "metadata": {
            "tags": []
          },
          "output_type": "execute_result"
        }
      ]
    },
    {
      "cell_type": "code",
      "metadata": {
        "id": "00c750ed",
        "scrolled": true,
        "outputId": "692f60f3-d423-4524-9a5a-dc71cda704c5"
      },
      "source": [
        "df.columns\n",
        "#Column 'Class' is target variable"
      ],
      "id": "00c750ed",
      "execution_count": null,
      "outputs": [
        {
          "data": {
            "text/plain": [
              "Index(['age', 'sex', 'on_thyroxine', 'query_on_thyroxine',\n",
              "       'on_antithyroid_medication', 'sick', 'pregnant', 'thyroid_surgery',\n",
              "       'I131_treatment', 'query_hypothyroid', 'query_hyperthyroid', 'lithium',\n",
              "       'goitre', 'tumor', 'hypopituitary', 'psych', 'TSH_measured', 'TSH',\n",
              "       'T3_measured', 'T3', 'TT4_measured', 'TT4', 'T4U_measured', 'T4U',\n",
              "       'FTI_measured', 'FTI', 'TBG_measured', 'TBG', 'referral_source',\n",
              "       'Class'],\n",
              "      dtype='object')"
            ]
          },
          "execution_count": 8,
          "metadata": {
            "tags": []
          },
          "output_type": "execute_result"
        }
      ]
    },
    {
      "cell_type": "code",
      "metadata": {
        "id": "ee204be3",
        "outputId": "1109e242-5c8d-4f58-e252-84fc4280c74d"
      },
      "source": [
        "df['Class'].unique()"
      ],
      "id": "ee204be3",
      "execution_count": null,
      "outputs": [
        {
          "data": {
            "text/plain": [
              "array(['negative', 'compensated_hypothyroid', 'primary_hypothyroid',\n",
              "       'secondary_hypothyroid'], dtype=object)"
            ]
          },
          "execution_count": 10,
          "metadata": {
            "tags": []
          },
          "output_type": "execute_result"
        }
      ]
    },
    {
      "cell_type": "code",
      "metadata": {
        "id": "6bcedc28",
        "scrolled": true,
        "outputId": "6cdbf5b9-95cb-4c99-f689-d251171e261e"
      },
      "source": [
        "df.isna().sum()\n",
        "# \"?\" means Nan I suppose"
      ],
      "id": "6bcedc28",
      "execution_count": null,
      "outputs": [
        {
          "data": {
            "text/plain": [
              "age                          0\n",
              "sex                          0\n",
              "on_thyroxine                 0\n",
              "query_on_thyroxine           0\n",
              "on_antithyroid_medication    0\n",
              "sick                         0\n",
              "pregnant                     0\n",
              "thyroid_surgery              0\n",
              "I131_treatment               0\n",
              "query_hypothyroid            0\n",
              "query_hyperthyroid           0\n",
              "lithium                      0\n",
              "goitre                       0\n",
              "tumor                        0\n",
              "hypopituitary                0\n",
              "psych                        0\n",
              "TSH_measured                 0\n",
              "TSH                          0\n",
              "T3_measured                  0\n",
              "T3                           0\n",
              "TT4_measured                 0\n",
              "TT4                          0\n",
              "T4U_measured                 0\n",
              "T4U                          0\n",
              "FTI_measured                 0\n",
              "FTI                          0\n",
              "TBG_measured                 0\n",
              "TBG                          0\n",
              "referral_source              0\n",
              "Class                        0\n",
              "dtype: int64"
            ]
          },
          "execution_count": 11,
          "metadata": {
            "tags": []
          },
          "output_type": "execute_result"
        }
      ]
    },
    {
      "cell_type": "code",
      "metadata": {
        "id": "17cd3cbd",
        "scrolled": true,
        "outputId": "4d731305-daa4-43d1-b150-1df71bd5b737"
      },
      "source": [
        "df.replace({'?':np.NAN}, inplace = True)\n",
        "df.isna().sum()"
      ],
      "id": "17cd3cbd",
      "execution_count": null,
      "outputs": [
        {
          "data": {
            "text/plain": [
              "age                             1\n",
              "sex                           150\n",
              "on_thyroxine                    0\n",
              "query_on_thyroxine              0\n",
              "on_antithyroid_medication       0\n",
              "sick                            0\n",
              "pregnant                        0\n",
              "thyroid_surgery                 0\n",
              "I131_treatment                  0\n",
              "query_hypothyroid               0\n",
              "query_hyperthyroid              0\n",
              "lithium                         0\n",
              "goitre                          0\n",
              "tumor                           0\n",
              "hypopituitary                   0\n",
              "psych                           0\n",
              "TSH_measured                    0\n",
              "TSH                           369\n",
              "T3_measured                     0\n",
              "T3                            769\n",
              "TT4_measured                    0\n",
              "TT4                           231\n",
              "T4U_measured                    0\n",
              "T4U                           387\n",
              "FTI_measured                    0\n",
              "FTI                           385\n",
              "TBG_measured                    0\n",
              "TBG                          3772\n",
              "referral_source                 0\n",
              "Class                           0\n",
              "dtype: int64"
            ]
          },
          "execution_count": 14,
          "metadata": {
            "tags": []
          },
          "output_type": "execute_result"
        }
      ]
    },
    {
      "cell_type": "code",
      "metadata": {
        "id": "967951fb",
        "scrolled": true,
        "outputId": "eef3ff1e-e2ad-4c1a-ba5f-7c302a9f044e"
      },
      "source": [
        "total = df.isnull().sum().sort_values(ascending=False)\n",
        "percent = (df.isnull().sum()/df.isnull().count()*100).sort_values(ascending=False)\n",
        "missing_data = pd.concat([total, percent], axis=1, keys=['Total', 'Percent'])\n",
        "missing_data.head(20)"
      ],
      "id": "967951fb",
      "execution_count": null,
      "outputs": [
        {
          "data": {
            "text/html": [
              "<div>\n",
              "<style scoped>\n",
              "    .dataframe tbody tr th:only-of-type {\n",
              "        vertical-align: middle;\n",
              "    }\n",
              "\n",
              "    .dataframe tbody tr th {\n",
              "        vertical-align: top;\n",
              "    }\n",
              "\n",
              "    .dataframe thead th {\n",
              "        text-align: right;\n",
              "    }\n",
              "</style>\n",
              "<table border=\"1\" class=\"dataframe\">\n",
              "  <thead>\n",
              "    <tr style=\"text-align: right;\">\n",
              "      <th></th>\n",
              "      <th>Total</th>\n",
              "      <th>Percent</th>\n",
              "    </tr>\n",
              "  </thead>\n",
              "  <tbody>\n",
              "    <tr>\n",
              "      <th>TBG</th>\n",
              "      <td>3772</td>\n",
              "      <td>100.000000</td>\n",
              "    </tr>\n",
              "    <tr>\n",
              "      <th>T3</th>\n",
              "      <td>769</td>\n",
              "      <td>20.387063</td>\n",
              "    </tr>\n",
              "    <tr>\n",
              "      <th>T4U</th>\n",
              "      <td>387</td>\n",
              "      <td>10.259809</td>\n",
              "    </tr>\n",
              "    <tr>\n",
              "      <th>FTI</th>\n",
              "      <td>385</td>\n",
              "      <td>10.206787</td>\n",
              "    </tr>\n",
              "    <tr>\n",
              "      <th>TSH</th>\n",
              "      <td>369</td>\n",
              "      <td>9.782609</td>\n",
              "    </tr>\n",
              "    <tr>\n",
              "      <th>TT4</th>\n",
              "      <td>231</td>\n",
              "      <td>6.124072</td>\n",
              "    </tr>\n",
              "    <tr>\n",
              "      <th>sex</th>\n",
              "      <td>150</td>\n",
              "      <td>3.976670</td>\n",
              "    </tr>\n",
              "    <tr>\n",
              "      <th>age</th>\n",
              "      <td>1</td>\n",
              "      <td>0.026511</td>\n",
              "    </tr>\n",
              "    <tr>\n",
              "      <th>referral_source</th>\n",
              "      <td>0</td>\n",
              "      <td>0.000000</td>\n",
              "    </tr>\n",
              "    <tr>\n",
              "      <th>TBG_measured</th>\n",
              "      <td>0</td>\n",
              "      <td>0.000000</td>\n",
              "    </tr>\n",
              "    <tr>\n",
              "      <th>FTI_measured</th>\n",
              "      <td>0</td>\n",
              "      <td>0.000000</td>\n",
              "    </tr>\n",
              "    <tr>\n",
              "      <th>T4U_measured</th>\n",
              "      <td>0</td>\n",
              "      <td>0.000000</td>\n",
              "    </tr>\n",
              "    <tr>\n",
              "      <th>TT4_measured</th>\n",
              "      <td>0</td>\n",
              "      <td>0.000000</td>\n",
              "    </tr>\n",
              "    <tr>\n",
              "      <th>T3_measured</th>\n",
              "      <td>0</td>\n",
              "      <td>0.000000</td>\n",
              "    </tr>\n",
              "    <tr>\n",
              "      <th>TSH_measured</th>\n",
              "      <td>0</td>\n",
              "      <td>0.000000</td>\n",
              "    </tr>\n",
              "    <tr>\n",
              "      <th>psych</th>\n",
              "      <td>0</td>\n",
              "      <td>0.000000</td>\n",
              "    </tr>\n",
              "    <tr>\n",
              "      <th>hypopituitary</th>\n",
              "      <td>0</td>\n",
              "      <td>0.000000</td>\n",
              "    </tr>\n",
              "    <tr>\n",
              "      <th>tumor</th>\n",
              "      <td>0</td>\n",
              "      <td>0.000000</td>\n",
              "    </tr>\n",
              "    <tr>\n",
              "      <th>goitre</th>\n",
              "      <td>0</td>\n",
              "      <td>0.000000</td>\n",
              "    </tr>\n",
              "    <tr>\n",
              "      <th>lithium</th>\n",
              "      <td>0</td>\n",
              "      <td>0.000000</td>\n",
              "    </tr>\n",
              "  </tbody>\n",
              "</table>\n",
              "</div>"
            ],
            "text/plain": [
              "                 Total     Percent\n",
              "TBG               3772  100.000000\n",
              "T3                 769   20.387063\n",
              "T4U                387   10.259809\n",
              "FTI                385   10.206787\n",
              "TSH                369    9.782609\n",
              "TT4                231    6.124072\n",
              "sex                150    3.976670\n",
              "age                  1    0.026511\n",
              "referral_source      0    0.000000\n",
              "TBG_measured         0    0.000000\n",
              "FTI_measured         0    0.000000\n",
              "T4U_measured         0    0.000000\n",
              "TT4_measured         0    0.000000\n",
              "T3_measured          0    0.000000\n",
              "TSH_measured         0    0.000000\n",
              "psych                0    0.000000\n",
              "hypopituitary        0    0.000000\n",
              "tumor                0    0.000000\n",
              "goitre               0    0.000000\n",
              "lithium              0    0.000000"
            ]
          },
          "execution_count": 16,
          "metadata": {
            "tags": []
          },
          "output_type": "execute_result"
        }
      ]
    },
    {
      "cell_type": "code",
      "metadata": {
        "id": "8addea73"
      },
      "source": [
        "#Drop column TBG because 100% of data is missing\n",
        "df.drop('TBG', axis = 1, inplace = True)"
      ],
      "id": "8addea73",
      "execution_count": null,
      "outputs": []
    },
    {
      "cell_type": "code",
      "metadata": {
        "id": "eefcfec3",
        "scrolled": true,
        "outputId": "9060b0af-a1d8-45d2-f7ff-5041c2b717f1"
      },
      "source": [
        "df.info()"
      ],
      "id": "eefcfec3",
      "execution_count": null,
      "outputs": [
        {
          "name": "stdout",
          "output_type": "stream",
          "text": [
            "<class 'pandas.core.frame.DataFrame'>\n",
            "RangeIndex: 3772 entries, 0 to 3771\n",
            "Data columns (total 29 columns):\n",
            " #   Column                     Non-Null Count  Dtype \n",
            "---  ------                     --------------  ----- \n",
            " 0   age                        3771 non-null   object\n",
            " 1   sex                        3622 non-null   object\n",
            " 2   on_thyroxine               3772 non-null   object\n",
            " 3   query_on_thyroxine         3772 non-null   object\n",
            " 4   on_antithyroid_medication  3772 non-null   object\n",
            " 5   sick                       3772 non-null   object\n",
            " 6   pregnant                   3772 non-null   object\n",
            " 7   thyroid_surgery            3772 non-null   object\n",
            " 8   I131_treatment             3772 non-null   object\n",
            " 9   query_hypothyroid          3772 non-null   object\n",
            " 10  query_hyperthyroid         3772 non-null   object\n",
            " 11  lithium                    3772 non-null   object\n",
            " 12  goitre                     3772 non-null   object\n",
            " 13  tumor                      3772 non-null   object\n",
            " 14  hypopituitary              3772 non-null   object\n",
            " 15  psych                      3772 non-null   object\n",
            " 16  TSH_measured               3772 non-null   object\n",
            " 17  TSH                        3403 non-null   object\n",
            " 18  T3_measured                3772 non-null   object\n",
            " 19  T3                         3003 non-null   object\n",
            " 20  TT4_measured               3772 non-null   object\n",
            " 21  TT4                        3541 non-null   object\n",
            " 22  T4U_measured               3772 non-null   object\n",
            " 23  T4U                        3385 non-null   object\n",
            " 24  FTI_measured               3772 non-null   object\n",
            " 25  FTI                        3387 non-null   object\n",
            " 26  TBG_measured               3772 non-null   object\n",
            " 27  referral_source            3772 non-null   object\n",
            " 28  Class                      3772 non-null   object\n",
            "dtypes: object(29)\n",
            "memory usage: 854.7+ KB\n"
          ]
        }
      ]
    },
    {
      "cell_type": "code",
      "metadata": {
        "id": "674076f9",
        "scrolled": true,
        "outputId": "5787aa92-a021-4591-d484-4d6690c5cef8"
      },
      "source": [
        "#Get unique values from each column\n",
        "for column in df.columns:\n",
        "    listOfValues=set(df[column])\n",
        "    print(column,\": \",listOfValues)"
      ],
      "id": "674076f9",
      "execution_count": null,
      "outputs": [
        {
          "name": "stdout",
          "output_type": "stream",
          "text": [
            "age :  {nan, '21', '6', '40', '51', '27', '86', '48', '29', '31', '44', '45', '30', '64', '24', '61', '12', '54', '69', '34', '81', '47', '23', '65', '10', '43', '71', '72', '88', '32', '36', '75', '455', '22', '60', '20', '76', '89', '91', '13', '55', '68', '63', '38', '73', '85', '46', '33', '41', '59', '39', '14', '77', '82', '57', '35', '15', '94', '62', '49', '42', '16', '90', '4', '18', '28', '74', '52', '84', '87', '2', '37', '25', '7', '19', '67', '70', '79', '17', '26', '1', '56', '83', '11', '78', '58', '5', '93', '66', '80', '53', '92', '50', '8'}\n",
            "sex :  {nan, 'F', 'M'}\n",
            "on_thyroxine :  {'f', 't'}\n",
            "query_on_thyroxine :  {'f', 't'}\n",
            "on_antithyroid_medication :  {'f', 't'}\n",
            "sick :  {'f', 't'}\n",
            "pregnant :  {'f', 't'}\n",
            "thyroid_surgery :  {'f', 't'}\n",
            "I131_treatment :  {'f', 't'}\n",
            "query_hypothyroid :  {'f', 't'}\n",
            "query_hyperthyroid :  {'f', 't'}\n",
            "lithium :  {'f', 't'}\n",
            "goitre :  {'f', 't'}\n",
            "tumor :  {'f', 't'}\n",
            "hypopituitary :  {'f', 't'}\n",
            "psych :  {'f', 't'}\n",
            "TSH_measured :  {'t', 'f'}\n",
            "TSH :  {nan, '0.4', '8.8', '0.8', '7.6', '6', '0.35', '3.3', '21', '0.97', '12.1', '5.1', '7.4', '0.33', '8.3', '230', '0.67', '0.37', '0.74', '51', '0.42', '0.14', '0.13', '4.8', '40', '117', '1.7', '188', '27', '0.66', '86', '4.3', '29', '5.5', '31', '14.4', '2.1', '1.9', '0.92', '3.4', '0.025', '0.045', '45', '0.1', '7.3', '4.6', '44', '0.93', '24', '30.5', '0.26', '0.34', '151', '61', '236', '6.2', '12', '0.06', '7.7', '54', '178', '0.99', '0.44', '400', '34', '0.47', '1.6', '0.57', '0.065', '468', '26.4', '0.27', '0.84', '47', '5.2', '0.45', '6.1', '23', '65', '0.77', '6.8', '10', '0.76', '5.73', '0.68', '530', '1.1', '6.9', '0.49', '9.4', '30', '8.9', '9.1', '11.4', '0.52', '1.5', '0.78', '43', '0.64', '0.38', '0.69', '0.17', '32', '160', '0.87', '0.95', '126', '36', '0.41', '0.12', '0.86', '99', '6.3', '22', '0.54', '0.65', '0.51', '60', '8.1', '20', '0.23', '76', '89', '0.02', '3.1', '0.82', '0.98', '0.46', '1.3', '13', '8.2', '9.9', '55', '6.6', '3.8', '3.6', '0.04', '9.6', '9.3', '38', '9.5', '0.21', '0.18', '2.7', '0.62', '0.79', '0.63', '183', '199', '2.2', '0.6', '14.8', '0.55', '3.5', '9.8', '5.7', '33', '46', '0.24', '0.75', '41', '39', '0.85', '0.7', '4.1', '0.61', '0.05', '4.5', '14', '0.36', '10.3', '82', '18.4', '5.9', '0.71', '0.25', '109', '35', '2.5', '0.88', '108', '0.59', '8.4', '1.02', '0.32', '15', '0.3', '5.4', '8.6', '0.5', '0.89', '4.2', '0.72', '478', '16', '42', '139', '4.4', '143', '0.015', '0.53', '0.22', '4', '52', '28', '2.4', '18', '0.43', '11.1', '0.08', '6.4', '0.2', '0.055', '1.8', '2', '0.31', '0.9', '0.56', '4.7', '0.58', '5.8', '9', '4.9', '440', '0.94', '0.15', '0.96', '100', '9.2', '5.3', '25', '9.7', '3.2', '7.1', '0.73', '2.8', '5.6', '3', '0.83', '98', '7', '19', '7.8', '3.7', '1.01', '116', '3.9', '0.03', '0.19', '0.28', '70', '17', '6.7', '26', '1', '0.01', '0.48', '7.9', '7.5', '0.91', '11', '78', '145', '5', '58', '1.2', '8.5', '66', '0.81', '165', '0.16', '0.29', '1.4', '2.6', '6.5', '2.9', '0.39', '80', '0.09', '7.2', '0.07', '103', '2.3', '0.005', '50', '8', '472', '0.035'}\n",
            "T3_measured :  {'t', 'f'}\n",
            "T3 :  {nan, '0.4', '4.9', '0.8', '7.6', '6', '3.3', '1.5', '0.7', '5.1', '4.1', '0.05', '5.3', '4.8', '4.5', '3.2', '7.1', '2.8', '1.7', '10.6', '3', '4.3', '5.5', '1.1', '3.7', '7', '0.9', '1.44', '1.9', '2.1', '3.4', '3.9', '2.5', '4.6', '7.3', '0.1', '6.7', '0.3', '5.4', '3.1', '1', '6.2', '1.3', '0.5', '4.2', '5', '8.5', '1.2', '1.6', '6.6', '3.8', '4.4', '3.6', '1.4', '2.6', '4', '2.9', '5.7', '5.2', '2.4', '6.1', '2.3', '2.7', '0.2', '2', '1.8', '2.2', '0.6', '4.7', '3.5'}\n",
            "TT4_measured :  {'t', 'f'}\n",
            "TT4 :  {nan, '21', '6', '206', '171', '230', '40', '4.8', '51', '111', '117', '188', '105', '115', '27', '86', '112', '48', '29', '31', '177', '197', '44', '45', '30', '64', '24', '175', '200', '61', '151', '263', '12', '178', '225', '54', '69', '193', '244', '204', '34', '205', '81', '222', '232', '47', '23', '169', '430', '65', '110', '261', '219', '181', '123', '158', '10', '137', '155', '173', '96', '152', '256', '272', '142', '182', '237', '43', '130', '72', '101', '71', '180', '257', '144', '186', '88', '32', '160', '126', '36', '99', '75', '22', '60', '201', '141', '170', '76', '216', '89', '91', '192', '13', '240', '235', '168', '172', '97', '55', '113', '163', '162', '68', '118', '207', '252', '114', '63', '38', '187', '73', '196', '9.5', '85', '183', '199', '125', '46', '211', '189', '33', '132', '41', '212', '59', '39', '14', '77', '120', '82', '179', '161', '167', '233', '57', '109', '198', '35', '150', '108', '184', '15', '129', '94', '154', '248', '107', '246', '127', '153', '104', '62', '49', '217', '139', '42', '16', '119', '143', '90', '146', '4', '18', '74', '52', '28', '84', '87', '176', '209', '2', '195', '140', '122', '138', '214', '128', '5.8', '239', '37', '301', '372', '100', '25', '255', '124', '3', '98', '95', '147', '134', '19', '213', '116', '273', '231', '220', '70', '133', '67', '79', '223', '191', '17', '102', '258', '56', '83', '157', '250', '11', '78', '174', '145', '149', '58', '93', '194', '66', '121', '253', '148', '164', '80', '165', '289', '53', '2.9', '92', '156', '159', '135', '103', '203', '226', '210', '50', '106', '136', '131', '166'}\n",
            "T4U_measured :  {'t', 'f'}\n",
            "T4U :  {nan, '1.36', '0.8', '1.33', '0.97', '1.25', '0.67', '0.74', '2.32', '1.7', '0.66', '0.92', '1.47', '1.37', '1.27', '0.93', '1.04', '1.67', '1.51', '0.99', '1.17', '0.47', '0.57', '1.08', '1.34', '1.54', '0.84', '1.16', '0.77', '0.76', '1.32', '0.68', '1.1', '1.41', '0.49', '1.83', '1.55', '1.58', '0.52', '1.84', '0.78', '1.5', '1.05', '0.64', '0.38', '0.69', '1.53', '0.87', '0.95', '0.944', '0.41', '0.86', '1.35', '0.54', '0.65', '1.97', '1.65', '1.59', '1.43', '1.68', '0.82', '1.23', '0.98', '0.46', '1.3', '1.18', '1.42', '1.46', '1.09', '1.15', '0.62', '1.29', '0.79', '0.63', '0.6', '0.75', '1.62', '0.85', '0.7', '0.61', '1.31', '0.36', '0.71', '1.44', '2.03', '2.12', '0.25', '1.14', '0.88', '1.02', '1.82', '0.59', '1.75', '0.5', '0.89', '0.72', '1.26', '0.53', '1.63', '1.38', '1.8', '0.31', '0.9', '1.11', '1.19', '0.56', '1.69', '1.49', '0.58', '1.93', '1.28', '0.94', '1.06', '1.71', '1.22', '0.96', '0.73', '1.48', '0.83', '1.24', '1.61', '2.01', '1.01', '1.56', '1.79', '1.39', '1.74', '1.94', '1.13', '1', '0.48', '1.66', '0.91', '1.73', '1.45', '1.2', '1.03', '0.81', '1.57', '1.4', '1.12', '1.21', '1.52', '1.77', '1.88', '1.76', '1.07'}\n",
            "FTI_measured :  {'t', 'f'}\n",
            "FTI :  {nan, '283', '7.6', '21', '206', '171', '40', '51', '111', '117', '188', '105', '115', '27', '112', '86', '48', '29', '177', '197', '64', '24', '200', '175', '151', '61', '228', '178', '54', '312', '69', '190', '34', '244', '204', '205', '81', '222', '232', '47', '169', '65', '110', '10', '173', '123', '155', '158', '137', '219', '181', '96', '152', '227', '142', '182', '349', '242', '8.9', '265', '9.1', '237', '43', '130', '72', '71', '180', '101', '186', '144', '88', '32', '160', '126', '36', '291', '99', '75', '60', '20', '201', '141', '170', '76', '216', '89', '91', '13', '274', '172', '235', '168', '97', '55', '113', '163', '162', '68', '118', '207', '114', '63', '187', '73', '196', '185', '221', '85', '183', '46', '125', '199', '189', '33', '132', '41', '59', '39', '251', '14', '77', '120', '179', '82', '161', '167', '57', '395', '245', '109', '198', '35', '150', '108', '8.4', '184', '15', '5.4', '94', '129', '154', '218', '107', '127', '153', '104', '62', '16', '139', '42', '217', '49', '119', '143', '90', '146', '4', '166', '52', '28', '74', '18', '84', '87', '176', '209', '2', '195', '140', '122', '214', '138', '128', '37', '9', '224', '100', '215', '2.8', '124', '3', '98', '95', '147', '134', '362', '7', '213', '19', '116', '220', '70', '67', '79', '133', '17', '191', '223', '102', '26', '56', '83', '157', '11', '78', '174', '145', '149', '58', '93', '8.5', '66', '247', '121', '253', '148', '165', '80', '164', '53', '92', '156', '281', '159', '135', '103', '203', '249', '210', '50', '106', '136', '131', '194', '280'}\n",
            "TBG_measured :  {'f'}\n",
            "referral_source :  {'SVHC', 'SVHD', 'other', 'SVI', 'STMW'}\n",
            "Class :  {'compensated_hypothyroid', 'secondary_hypothyroid', 'primary_hypothyroid', 'negative'}\n"
          ]
        }
      ]
    },
    {
      "cell_type": "code",
      "metadata": {
        "id": "a5ec7dc7"
      },
      "source": [
        "#convert str numbers to float\n",
        "numerical_features = ['age', 'TSH', 'T3', 'TT4', 'T4U', 'FTI']\n",
        "for col in numerical_features:\n",
        "    df[col] = df[col].astype(float)"
      ],
      "id": "a5ec7dc7",
      "execution_count": null,
      "outputs": []
    },
    {
      "cell_type": "code",
      "metadata": {
        "id": "d15d61f6",
        "scrolled": true,
        "outputId": "89eaef52-b475-40c2-fcf2-c73079f56270"
      },
      "source": [
        "df.info()"
      ],
      "id": "d15d61f6",
      "execution_count": null,
      "outputs": [
        {
          "name": "stdout",
          "output_type": "stream",
          "text": [
            "<class 'pandas.core.frame.DataFrame'>\n",
            "RangeIndex: 3772 entries, 0 to 3771\n",
            "Data columns (total 29 columns):\n",
            " #   Column                     Non-Null Count  Dtype  \n",
            "---  ------                     --------------  -----  \n",
            " 0   age                        3771 non-null   float64\n",
            " 1   sex                        3622 non-null   object \n",
            " 2   on_thyroxine               3772 non-null   object \n",
            " 3   query_on_thyroxine         3772 non-null   object \n",
            " 4   on_antithyroid_medication  3772 non-null   object \n",
            " 5   sick                       3772 non-null   object \n",
            " 6   pregnant                   3772 non-null   object \n",
            " 7   thyroid_surgery            3772 non-null   object \n",
            " 8   I131_treatment             3772 non-null   object \n",
            " 9   query_hypothyroid          3772 non-null   object \n",
            " 10  query_hyperthyroid         3772 non-null   object \n",
            " 11  lithium                    3772 non-null   object \n",
            " 12  goitre                     3772 non-null   object \n",
            " 13  tumor                      3772 non-null   object \n",
            " 14  hypopituitary              3772 non-null   object \n",
            " 15  psych                      3772 non-null   object \n",
            " 16  TSH_measured               3772 non-null   object \n",
            " 17  TSH                        3403 non-null   float64\n",
            " 18  T3_measured                3772 non-null   object \n",
            " 19  T3                         3003 non-null   float64\n",
            " 20  TT4_measured               3772 non-null   object \n",
            " 21  TT4                        3541 non-null   float64\n",
            " 22  T4U_measured               3772 non-null   object \n",
            " 23  T4U                        3385 non-null   float64\n",
            " 24  FTI_measured               3772 non-null   object \n",
            " 25  FTI                        3387 non-null   float64\n",
            " 26  TBG_measured               3772 non-null   object \n",
            " 27  referral_source            3772 non-null   object \n",
            " 28  Class                      3772 non-null   object \n",
            "dtypes: float64(6), object(23)\n",
            "memory usage: 854.7+ KB\n"
          ]
        }
      ]
    },
    {
      "cell_type": "code",
      "metadata": {
        "id": "5e835104"
      },
      "source": [
        "df.replace({\"t\":1,\"f\":0, \"y\":1, \"n\":0, \"negative\":0, \"compensated_hypothyroid\": 1, \"primary_hypothyroid\":2,\"secondary_hypothyroid\":3, \"F\":1, \"M\":0}, inplace = True)"
      ],
      "id": "5e835104",
      "execution_count": null,
      "outputs": []
    },
    {
      "cell_type": "code",
      "metadata": {
        "id": "69915abd",
        "scrolled": true,
        "outputId": "c9fbab37-e504-4add-fd36-20e5d43bd0b1"
      },
      "source": [
        "df.dtypes"
      ],
      "id": "69915abd",
      "execution_count": null,
      "outputs": [
        {
          "data": {
            "text/plain": [
              "age                          float64\n",
              "sex                          float64\n",
              "on_thyroxine                   int64\n",
              "query_on_thyroxine             int64\n",
              "on_antithyroid_medication      int64\n",
              "sick                           int64\n",
              "pregnant                       int64\n",
              "thyroid_surgery                int64\n",
              "I131_treatment                 int64\n",
              "query_hypothyroid              int64\n",
              "query_hyperthyroid             int64\n",
              "lithium                        int64\n",
              "goitre                         int64\n",
              "tumor                          int64\n",
              "hypopituitary                  int64\n",
              "psych                          int64\n",
              "TSH_measured                   int64\n",
              "TSH                          float64\n",
              "T3_measured                    int64\n",
              "T3                           float64\n",
              "TT4_measured                   int64\n",
              "TT4                          float64\n",
              "T4U_measured                   int64\n",
              "T4U                          float64\n",
              "FTI_measured                   int64\n",
              "FTI                          float64\n",
              "TBG_measured                   int64\n",
              "referral_source               object\n",
              "Class                          int64\n",
              "dtype: object"
            ]
          },
          "execution_count": 46,
          "metadata": {
            "tags": []
          },
          "output_type": "execute_result"
        }
      ]
    },
    {
      "cell_type": "code",
      "metadata": {
        "id": "3816796d",
        "outputId": "53afc0a8-bc3a-46a8-fca1-f45313fd471f"
      },
      "source": [
        "#Use One-hot Encoding for this variable\n",
        "df['referral_source'].unique()"
      ],
      "id": "3816796d",
      "execution_count": null,
      "outputs": [
        {
          "data": {
            "text/plain": [
              "array(['SVHC', 'other', 'SVI', 'STMW', 'SVHD'], dtype=object)"
            ]
          },
          "execution_count": 47,
          "metadata": {
            "tags": []
          },
          "output_type": "execute_result"
        }
      ]
    },
    {
      "cell_type": "code",
      "metadata": {
        "id": "a8541b55"
      },
      "source": [
        "referral_source = pd.get_dummies(df.referral_source, drop_first=True)\n",
        "df = pd.concat([df, referral_source], axis=1)"
      ],
      "id": "a8541b55",
      "execution_count": null,
      "outputs": []
    },
    {
      "cell_type": "code",
      "metadata": {
        "id": "096c3ce5"
      },
      "source": [
        "df.drop('referral_source', axis = 1, inplace = True)"
      ],
      "id": "096c3ce5",
      "execution_count": null,
      "outputs": []
    },
    {
      "cell_type": "code",
      "metadata": {
        "id": "9b8d540e",
        "scrolled": true,
        "outputId": "a258b170-48d6-4f25-f70c-0c23fc7709a4"
      },
      "source": [
        "df.dtypes"
      ],
      "id": "9b8d540e",
      "execution_count": null,
      "outputs": [
        {
          "data": {
            "text/plain": [
              "age                          float64\n",
              "sex                          float64\n",
              "on_thyroxine                   int64\n",
              "query_on_thyroxine             int64\n",
              "on_antithyroid_medication      int64\n",
              "sick                           int64\n",
              "pregnant                       int64\n",
              "thyroid_surgery                int64\n",
              "I131_treatment                 int64\n",
              "query_hypothyroid              int64\n",
              "query_hyperthyroid             int64\n",
              "lithium                        int64\n",
              "goitre                         int64\n",
              "tumor                          int64\n",
              "hypopituitary                  int64\n",
              "psych                          int64\n",
              "TSH_measured                   int64\n",
              "TSH                          float64\n",
              "T3_measured                    int64\n",
              "T3                           float64\n",
              "TT4_measured                   int64\n",
              "TT4                          float64\n",
              "T4U_measured                   int64\n",
              "T4U                          float64\n",
              "FTI_measured                   int64\n",
              "FTI                          float64\n",
              "TBG_measured                   int64\n",
              "Class                          int64\n",
              "SVHC                           uint8\n",
              "SVHD                           uint8\n",
              "SVI                            uint8\n",
              "other                          uint8\n",
              "dtype: object"
            ]
          },
          "execution_count": 55,
          "metadata": {
            "tags": []
          },
          "output_type": "execute_result"
        }
      ]
    },
    {
      "cell_type": "code",
      "metadata": {
        "id": "c4299649"
      },
      "source": [
        "#Filling missing values\n",
        "df = df.interpolate(method = 'spline', order = 4)"
      ],
      "id": "c4299649",
      "execution_count": null,
      "outputs": []
    },
    {
      "cell_type": "code",
      "metadata": {
        "id": "fda3a088",
        "scrolled": true,
        "outputId": "110ac4b2-1a80-45cb-a190-07dbf6bbcc97"
      },
      "source": [
        "df.isna().sum()"
      ],
      "id": "fda3a088",
      "execution_count": null,
      "outputs": [
        {
          "data": {
            "text/plain": [
              "age                          0\n",
              "sex                          0\n",
              "on_thyroxine                 0\n",
              "query_on_thyroxine           0\n",
              "on_antithyroid_medication    0\n",
              "sick                         0\n",
              "pregnant                     0\n",
              "thyroid_surgery              0\n",
              "I131_treatment               0\n",
              "query_hypothyroid            0\n",
              "query_hyperthyroid           0\n",
              "lithium                      0\n",
              "goitre                       0\n",
              "tumor                        0\n",
              "hypopituitary                0\n",
              "psych                        0\n",
              "TSH_measured                 0\n",
              "TSH                          0\n",
              "T3_measured                  0\n",
              "T3                           0\n",
              "TT4_measured                 0\n",
              "TT4                          0\n",
              "T4U_measured                 0\n",
              "T4U                          0\n",
              "FTI_measured                 0\n",
              "FTI                          0\n",
              "TBG_measured                 0\n",
              "Class                        0\n",
              "SVHC                         0\n",
              "SVHD                         0\n",
              "SVI                          0\n",
              "other                        0\n",
              "dtype: int64"
            ]
          },
          "execution_count": 65,
          "metadata": {
            "tags": []
          },
          "output_type": "execute_result"
        }
      ]
    },
    {
      "cell_type": "markdown",
      "metadata": {
        "id": "79d0ecc6"
      },
      "source": [
        "      Ok, we've prepared data filling missing values and encoding categorical features. Let's take a look at correaltion"
      ],
      "id": "79d0ecc6"
    },
    {
      "cell_type": "code",
      "metadata": {
        "id": "56a46586",
        "scrolled": true,
        "outputId": "c8282176-a4f6-4953-b1bb-9bbfd9f1f538"
      },
      "source": [
        "corr_val = abs(data[data.columns[0:]].corr()['Class'][:])\n",
        "corr_val = corr_val.drop('Class')\n",
        "corr_val = corr_val[corr_val > 0.10]\n",
        "corr_val"
      ],
      "id": "56a46586",
      "execution_count": null,
      "outputs": [
        {
          "data": {
            "text/plain": [
              "TSH    0.495365\n",
              "T3     0.208860\n",
              "TT4    0.328965\n",
              "FTI    0.336499\n",
              "Name: Class, dtype: float64"
            ]
          },
          "execution_count": 73,
          "metadata": {
            "tags": []
          },
          "output_type": "execute_result"
        }
      ]
    },
    {
      "cell_type": "markdown",
      "metadata": {
        "id": "5441d93e"
      },
      "source": [
        "This 4 variables have the highest correlation with target. I'll use them for prediction"
      ],
      "id": "5441d93e"
    },
    {
      "cell_type": "code",
      "metadata": {
        "id": "ed6c8e7c",
        "scrolled": true,
        "outputId": "3a135a7a-1d6a-4a07-97e7-539d3e5ebf8c"
      },
      "source": [
        "for column in ['TSH','T3','TT4','FTI' ]:\n",
        "    print(column.title())\n",
        "    sns.boxplot(data = df[column])\n",
        "    plt.show()"
      ],
      "id": "ed6c8e7c",
      "execution_count": null,
      "outputs": [
        {
          "name": "stdout",
          "output_type": "stream",
          "text": [
            "Tsh\n"
          ]
        },
        {
          "data": {
            "image/png": "[encoded data removed]",
            "text/plain": [
              "<Figure size 432x288 with 1 Axes>"
            ]
          },
          "metadata": {
            "tags": []
          },
          "output_type": "display_data"
        },
        {
          "name": "stdout",
          "output_type": "stream",
          "text": [
            "T3\n"
          ]
        },
        {
          "data": {
            "image/png": "[encoded data removed]",
            "text/plain": [
              "<Figure size 432x288 with 1 Axes>"
            ]
          },
          "metadata": {
            "tags": []
          },
          "output_type": "display_data"
        },
        {
          "name": "stdout",
          "output_type": "stream",
          "text": [
            "Tt4\n"
          ]
        },
        {
          "data": {
            "image/png": "[encoded data removed]",
            "text/plain": [
              "<Figure size 432x288 with 1 Axes>"
            ]
          },
          "metadata": {
            "tags": []
          },
          "output_type": "display_data"
        },
        {
          "name": "stdout",
          "output_type": "stream",
          "text": [
            "Fti\n"
          ]
        },
        {
          "data": {
            "image/png": "[encoded data removed]",
            "text/plain": [
              "<Figure size 432x288 with 1 Axes>"
            ]
          },
          "metadata": {
            "tags": []
          },
          "output_type": "display_data"
        }
      ]
    },
    {
      "cell_type": "code",
      "metadata": {
        "id": "b4192e99"
      },
      "source": [
        "X = df[['TSH', 'T3', 'TT4','FTI']]\n",
        "y = df[['Class']]"
      ],
      "id": "b4192e99",
      "execution_count": null,
      "outputs": []
    },
    {
      "cell_type": "code",
      "metadata": {
        "id": "51b3f28b"
      },
      "source": [
        "X_train, X_test, Y_train, Y_test=train_test_split(X, y, test_size=0.2, random_state = 42)"
      ],
      "id": "51b3f28b",
      "execution_count": null,
      "outputs": []
    },
    {
      "cell_type": "code",
      "metadata": {
        "id": "4af7f020",
        "outputId": "c9f447d0-bf26-40c1-9bf3-33ce0b036ccb"
      },
      "source": [
        "X_train.shape, X_test.shape"
      ],
      "id": "4af7f020",
      "execution_count": null,
      "outputs": [
        {
          "data": {
            "text/plain": [
              "((3017, 4), (755, 4))"
            ]
          },
          "execution_count": 79,
          "metadata": {
            "tags": []
          },
          "output_type": "execute_result"
        }
      ]
    },
    {
      "cell_type": "code",
      "metadata": {
        "id": "77d3247b",
        "outputId": "548b35c9-d0fd-4420-eb47-c26984b455d3"
      },
      "source": [
        "Y_train.shape, Y_test.shape"
      ],
      "id": "77d3247b",
      "execution_count": null,
      "outputs": [
        {
          "data": {
            "text/plain": [
              "((3017, 1), (755, 1))"
            ]
          },
          "execution_count": 82,
          "metadata": {
            "tags": []
          },
          "output_type": "execute_result"
        }
      ]
    },
    {
      "cell_type": "code",
      "metadata": {
        "id": "50ab7801",
        "outputId": "0c08602a-aaf3-4c81-b159-964612e2396b"
      },
      "source": [
        "Logistic_model = LogisticRegression()\n",
        "Logistic_model.fit(X_train, Y_train)"
      ],
      "id": "50ab7801",
      "execution_count": null,
      "outputs": [
        {
          "data": {
            "text/plain": [
              "LogisticRegression()"
            ]
          },
          "execution_count": 83,
          "metadata": {
            "tags": []
          },
          "output_type": "execute_result"
        }
      ]
    },
    {
      "cell_type": "code",
      "metadata": {
        "id": "b7a676a7"
      },
      "source": [
        "Y_pred = Logistic_model.predict(X_test)"
      ],
      "id": "b7a676a7",
      "execution_count": null,
      "outputs": []
    },
    {
      "cell_type": "code",
      "metadata": {
        "id": "0d67f4d4"
      },
      "source": [
        "#There I made a dataset to make results easy to understand\n",
        "result = pd.DataFrame(columns=[\"Classifier\", \"Accuracy\", \"Precision\", \"Recall\", \"FScore\"])\n",
        "pr, rc, fs, sup = metrics.precision_recall_fscore_support(Y_test, Y_pred, average='macro')\n",
        "result = result.append({\"Classifier\": 'Logistic Regression',\"Accuracy\": round(metrics.accuracy_score(Y_test, Y_pred), 5),\n",
        "                              \"Precision\": round(pr, 5), \"Recall\":round(rc, 5), \"FScore\":round(fs, 5)}, ignore_index=True)\n",
        "result.set_index(\"Accuracy\", inplace=True)"
      ],
      "id": "0d67f4d4",
      "execution_count": null,
      "outputs": []
    },
    {
      "cell_type": "code",
      "metadata": {
        "id": "1761c88f",
        "outputId": "432f9195-7458-4710-b224-254815fc78cf"
      },
      "source": [
        "result"
      ],
      "id": "1761c88f",
      "execution_count": null,
      "outputs": [
        {
          "data": {
            "text/html": [
              "<div>\n",
              "<style scoped>\n",
              "    .dataframe tbody tr th:only-of-type {\n",
              "        vertical-align: middle;\n",
              "    }\n",
              "\n",
              "    .dataframe tbody tr th {\n",
              "        vertical-align: top;\n",
              "    }\n",
              "\n",
              "    .dataframe thead th {\n",
              "        text-align: right;\n",
              "    }\n",
              "</style>\n",
              "<table border=\"1\" class=\"dataframe\">\n",
              "  <thead>\n",
              "    <tr style=\"text-align: right;\">\n",
              "      <th></th>\n",
              "      <th>Classifier</th>\n",
              "      <th>Precision</th>\n",
              "      <th>Recall</th>\n",
              "      <th>FScore</th>\n",
              "    </tr>\n",
              "    <tr>\n",
              "      <th>Accuracy</th>\n",
              "      <th></th>\n",
              "      <th></th>\n",
              "      <th></th>\n",
              "      <th></th>\n",
              "    </tr>\n",
              "  </thead>\n",
              "  <tbody>\n",
              "    <tr>\n",
              "      <th>0.93245</th>\n",
              "      <td>Logistic Regression</td>\n",
              "      <td>0.44902</td>\n",
              "      <td>0.39106</td>\n",
              "      <td>0.41271</td>\n",
              "    </tr>\n",
              "  </tbody>\n",
              "</table>\n",
              "</div>"
            ],
            "text/plain": [
              "                   Classifier  Precision   Recall   FScore\n",
              "Accuracy                                                  \n",
              "0.93245   Logistic Regression    0.44902  0.39106  0.41271"
            ]
          },
          "execution_count": 88,
          "metadata": {
            "tags": []
          },
          "output_type": "execute_result"
        }
      ]
    },
    {
      "cell_type": "code",
      "metadata": {
        "id": "52bcb55e",
        "outputId": "c4baf9f3-2694-4d49-b5da-c6eec2d8170d"
      },
      "source": [
        "Neighbor_model = KNeighborsClassifier(3)\n",
        "Neighbor_model.fit(X_train,Y_train)"
      ],
      "id": "52bcb55e",
      "execution_count": null,
      "outputs": [
        {
          "data": {
            "text/plain": [
              "KNeighborsClassifier(n_neighbors=3)"
            ]
          },
          "execution_count": 89,
          "metadata": {
            "tags": []
          },
          "output_type": "execute_result"
        }
      ]
    },
    {
      "cell_type": "code",
      "metadata": {
        "id": "087590a5"
      },
      "source": [
        "Y_predN = Neighbor_model.predict(X_test)"
      ],
      "id": "087590a5",
      "execution_count": null,
      "outputs": []
    },
    {
      "cell_type": "code",
      "metadata": {
        "id": "3ec5d287"
      },
      "source": [
        "res = pd.DataFrame(columns=[\"Classifier\", \"Accuracy\", \"Precision\", \"Recall\", \"FScore\"])\n",
        "pr, rc, fs, sup = metrics.precision_recall_fscore_support(Y_test, Y_predN, average='macro')\n",
        "res = res.append({\"Classifier\": 'KNeighbors',\"Accuracy\": round(metrics.accuracy_score(Y_test, Y_predN), 5),\n",
        "                              \"Precision\": round(pr, 5), \"Recall\":round(rc, 5), \"FScore\":round(fs, 5)}, ignore_index=True)\n",
        "res.set_index(\"Accuracy\", inplace=True)"
      ],
      "id": "3ec5d287",
      "execution_count": null,
      "outputs": []
    },
    {
      "cell_type": "code",
      "metadata": {
        "id": "595dee93",
        "outputId": "813e7167-fc87-46b8-eb03-bbdcdaa9921b"
      },
      "source": [
        "res"
      ],
      "id": "595dee93",
      "execution_count": null,
      "outputs": [
        {
          "data": {
            "text/html": [
              "<div>\n",
              "<style scoped>\n",
              "    .dataframe tbody tr th:only-of-type {\n",
              "        vertical-align: middle;\n",
              "    }\n",
              "\n",
              "    .dataframe tbody tr th {\n",
              "        vertical-align: top;\n",
              "    }\n",
              "\n",
              "    .dataframe thead th {\n",
              "        text-align: right;\n",
              "    }\n",
              "</style>\n",
              "<table border=\"1\" class=\"dataframe\">\n",
              "  <thead>\n",
              "    <tr style=\"text-align: right;\">\n",
              "      <th></th>\n",
              "      <th>Classifier</th>\n",
              "      <th>Precision</th>\n",
              "      <th>Recall</th>\n",
              "      <th>FScore</th>\n",
              "    </tr>\n",
              "    <tr>\n",
              "      <th>Accuracy</th>\n",
              "      <th></th>\n",
              "      <th></th>\n",
              "      <th></th>\n",
              "      <th></th>\n",
              "    </tr>\n",
              "  </thead>\n",
              "  <tbody>\n",
              "    <tr>\n",
              "      <th>0.94305</th>\n",
              "      <td>KNeighbors</td>\n",
              "      <td>0.75381</td>\n",
              "      <td>0.73351</td>\n",
              "      <td>0.74338</td>\n",
              "    </tr>\n",
              "  </tbody>\n",
              "</table>\n",
              "</div>"
            ],
            "text/plain": [
              "          Classifier  Precision   Recall   FScore\n",
              "Accuracy                                         \n",
              "0.94305   KNeighbors    0.75381  0.73351  0.74338"
            ]
          },
          "execution_count": 101,
          "metadata": {
            "tags": []
          },
          "output_type": "execute_result"
        }
      ]
    },
    {
      "cell_type": "markdown",
      "metadata": {
        "id": "e241d9f0"
      },
      "source": [
        "  Ok, both models have high accuracy, but Logistic Regression has lower other parametrs than KNeighbors. I guess I can say that KNeighbors is more suitable model for this task. Maybe if I used different filling missing values method the results would be better"
      ],
      "id": "e241d9f0"
    },
    {
      "cell_type": "markdown",
      "metadata": {
        "id": "c874537f"
      },
      "source": [
        "**That's it! Waiting for your comments. Have a fantastic day!**"
      ],
      "id": "c874537f"
    },
    {
      "cell_type": "code",
      "metadata": {
        "id": "10cfa1aa"
      },
      "source": [
        ""
      ],
      "id": "10cfa1aa",
      "execution_count": null,
      "outputs": []
    },
    {
      "cell_type": "markdown",
      "metadata": {
        "id": "i3dlSLqm9BwS"
      },
      "source": [
        "## 1"
      ],
      "id": "i3dlSLqm9BwS"
    },
    {
      "cell_type": "code",
      "metadata": {
        "id": "iYrkVWte9ECO"
      },
      "source": [
        "array = [1, 5, 7, 3, 7, 1, 3, 0, 5, 9]"
      ],
      "id": "iYrkVWte9ECO",
      "execution_count": null,
      "outputs": []
    },
    {
      "cell_type": "code",
      "metadata": {
        "id": "NNbyEWelAPFQ"
      },
      "source": [
        "k = 3"
      ],
      "id": "NNbyEWelAPFQ",
      "execution_count": null,
      "outputs": []
    },
    {
      "cell_type": "code",
      "metadata": {
        "colab": {
          "background_save": true,
          "base_uri": "https://localhost:8080/",
          "height": 128
        },
        "id": "IVprwPCcAdUr",
        "outputId": "9ae989fe-6496-4148-bf12-64cb1ef949b3"
      },
      "source": [
        "\n",
        "for i in range(k-1):\n",
        "  for j in range(i + 1, k):\n",
        "    if array[i] == array[j]:\n",
        "      print(True)\n",
        "return False"
      ],
      "id": "IVprwPCcAdUr",
      "execution_count": null,
      "outputs": [
        {
          "name": "stdout",
          "output_type": "stream",
          "text": [
            "False\n"
          ]
        }
      ]
    },
    {
      "cell_type": "code",
      "metadata": {
        "id": "mKPQOrwsB-A0"
      },
      "source": [
        ""
      ],
      "id": "mKPQOrwsB-A0",
      "execution_count": null,
      "outputs": []
    }
  ]
}