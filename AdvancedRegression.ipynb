{
  "nbformat": 4,
  "nbformat_minor": 0,
  "metadata": {
    "colab": {
      "name": "AdvancedRegression.ipynb",
      "provenance": [],
      "collapsed_sections": [
        "QO1PKrrJauWD",
        "Xg3zEmwNarEv",
        "Wrq1ycVMdFjv",
        "JpmTytDXky99",
        "nYN0okqWL9sv",
        "SugXEg9D-JUK"
      ]
    },
    "kernelspec": {
      "name": "python3",
      "display_name": "Python 3"
    },
    "language_info": {
      "name": "python"
    }
  },
  "cells": [
    {
      "cell_type": "code",
      "metadata": {
        "id": "jIiMwymkSNFA"
      },
      "source": [
        "import numpy as np\n",
        "import pandas as pd\n",
        "import matplotlib.pyplot as plt\n",
        "import seaborn as sns\n",
        "from google_drive_downloader import GoogleDriveDownloader as gdd \n",
        "from sklearn.neighbors import KNeighborsRegressor\n",
        "from sklearn.metrics import r2_score\n",
        "from sklearn.model_selection import GridSearchCV\n",
        "from sklearn.model_selection import RandomizedSearchCV\n",
        "from sklearn.tree import DecisionTreeRegressor\n",
        "from sklearn.ensemble import RandomForestRegressor\n",
        "from sklearn.ensemble import AdaBoostRegressor\n",
        "from sklearn.svm import SVR\n",
        "from sklearn.metrics import mean_absolute_error\n",
        "from sklearn.decomposition import PCA\n",
        "from sklearn.model_selection import train_test_split\n",
        "from sklearn.preprocessing import StandardScaler\n",
        "import warnings\n",
        "%matplotlib inline\n",
        "\n",
        "warnings.filterwarnings('ignore')"
      ],
      "execution_count": null,
      "outputs": []
    },
    {
      "cell_type": "code",
      "metadata": {
        "colab": {
          "base_uri": "https://localhost:8080/"
        },
        "id": "QOXCKwmWSee0",
        "outputId": "00757c9b-e363-4596-e4ab-422f715597f8"
      },
      "source": [
        "gdd.download_file_from_google_drive(file_id = '1p4azCzZlFR5KZNVa4bG-LrZZtx0lPds1', dest_path = '/hour.csv')"
      ],
      "execution_count": null,
      "outputs": [
        {
          "output_type": "stream",
          "name": "stdout",
          "text": [
            "Downloading 1p4azCzZlFR5KZNVa4bG-LrZZtx0lPds1 into /hour.csv... Done.\n"
          ]
        }
      ]
    },
    {
      "cell_type": "code",
      "metadata": {
        "id": "O-YMqZyaUTMn"
      },
      "source": [
        "df = pd.read_csv('/hour.csv')"
      ],
      "execution_count": null,
      "outputs": []
    },
    {
      "cell_type": "code",
      "metadata": {
        "colab": {
          "base_uri": "https://localhost:8080/",
          "height": 206
        },
        "id": "s5jiHntCUWLd",
        "outputId": "4def61d4-c30e-4a24-8789-7d56524d390b"
      },
      "source": [
        "df.head()"
      ],
      "execution_count": null,
      "outputs": [
        {
          "output_type": "execute_result",
          "data": {
            "text/html": [
              "<div>\n",
              "<style scoped>\n",
              "    .dataframe tbody tr th:only-of-type {\n",
              "        vertical-align: middle;\n",
              "    }\n",
              "\n",
              "    .dataframe tbody tr th {\n",
              "        vertical-align: top;\n",
              "    }\n",
              "\n",
              "    .dataframe thead th {\n",
              "        text-align: right;\n",
              "    }\n",
              "</style>\n",
              "<table border=\"1\" class=\"dataframe\">\n",
              "  <thead>\n",
              "    <tr style=\"text-align: right;\">\n",
              "      <th></th>\n",
              "      <th>instant</th>\n",
              "      <th>dteday</th>\n",
              "      <th>season</th>\n",
              "      <th>yr</th>\n",
              "      <th>mnth</th>\n",
              "      <th>hr</th>\n",
              "      <th>holiday</th>\n",
              "      <th>weekday</th>\n",
              "      <th>workingday</th>\n",
              "      <th>weathersit</th>\n",
              "      <th>temp</th>\n",
              "      <th>atemp</th>\n",
              "      <th>hum</th>\n",
              "      <th>windspeed</th>\n",
              "      <th>casual</th>\n",
              "      <th>registered</th>\n",
              "      <th>cnt</th>\n",
              "    </tr>\n",
              "  </thead>\n",
              "  <tbody>\n",
              "    <tr>\n",
              "      <th>0</th>\n",
              "      <td>1</td>\n",
              "      <td>2011-01-01</td>\n",
              "      <td>1</td>\n",
              "      <td>0</td>\n",
              "      <td>1</td>\n",
              "      <td>0</td>\n",
              "      <td>0</td>\n",
              "      <td>6</td>\n",
              "      <td>0</td>\n",
              "      <td>1</td>\n",
              "      <td>0.24</td>\n",
              "      <td>0.2879</td>\n",
              "      <td>0.81</td>\n",
              "      <td>0.0</td>\n",
              "      <td>3</td>\n",
              "      <td>13</td>\n",
              "      <td>16</td>\n",
              "    </tr>\n",
              "    <tr>\n",
              "      <th>1</th>\n",
              "      <td>2</td>\n",
              "      <td>2011-01-01</td>\n",
              "      <td>1</td>\n",
              "      <td>0</td>\n",
              "      <td>1</td>\n",
              "      <td>1</td>\n",
              "      <td>0</td>\n",
              "      <td>6</td>\n",
              "      <td>0</td>\n",
              "      <td>1</td>\n",
              "      <td>0.22</td>\n",
              "      <td>0.2727</td>\n",
              "      <td>0.80</td>\n",
              "      <td>0.0</td>\n",
              "      <td>8</td>\n",
              "      <td>32</td>\n",
              "      <td>40</td>\n",
              "    </tr>\n",
              "    <tr>\n",
              "      <th>2</th>\n",
              "      <td>3</td>\n",
              "      <td>2011-01-01</td>\n",
              "      <td>1</td>\n",
              "      <td>0</td>\n",
              "      <td>1</td>\n",
              "      <td>2</td>\n",
              "      <td>0</td>\n",
              "      <td>6</td>\n",
              "      <td>0</td>\n",
              "      <td>1</td>\n",
              "      <td>0.22</td>\n",
              "      <td>0.2727</td>\n",
              "      <td>0.80</td>\n",
              "      <td>0.0</td>\n",
              "      <td>5</td>\n",
              "      <td>27</td>\n",
              "      <td>32</td>\n",
              "    </tr>\n",
              "    <tr>\n",
              "      <th>3</th>\n",
              "      <td>4</td>\n",
              "      <td>2011-01-01</td>\n",
              "      <td>1</td>\n",
              "      <td>0</td>\n",
              "      <td>1</td>\n",
              "      <td>3</td>\n",
              "      <td>0</td>\n",
              "      <td>6</td>\n",
              "      <td>0</td>\n",
              "      <td>1</td>\n",
              "      <td>0.24</td>\n",
              "      <td>0.2879</td>\n",
              "      <td>0.75</td>\n",
              "      <td>0.0</td>\n",
              "      <td>3</td>\n",
              "      <td>10</td>\n",
              "      <td>13</td>\n",
              "    </tr>\n",
              "    <tr>\n",
              "      <th>4</th>\n",
              "      <td>5</td>\n",
              "      <td>2011-01-01</td>\n",
              "      <td>1</td>\n",
              "      <td>0</td>\n",
              "      <td>1</td>\n",
              "      <td>4</td>\n",
              "      <td>0</td>\n",
              "      <td>6</td>\n",
              "      <td>0</td>\n",
              "      <td>1</td>\n",
              "      <td>0.24</td>\n",
              "      <td>0.2879</td>\n",
              "      <td>0.75</td>\n",
              "      <td>0.0</td>\n",
              "      <td>0</td>\n",
              "      <td>1</td>\n",
              "      <td>1</td>\n",
              "    </tr>\n",
              "  </tbody>\n",
              "</table>\n",
              "</div>"
            ],
            "text/plain": [
              "   instant      dteday  season  yr  ...  windspeed  casual  registered  cnt\n",
              "0        1  2011-01-01       1   0  ...        0.0       3          13   16\n",
              "1        2  2011-01-01       1   0  ...        0.0       8          32   40\n",
              "2        3  2011-01-01       1   0  ...        0.0       5          27   32\n",
              "3        4  2011-01-01       1   0  ...        0.0       3          10   13\n",
              "4        5  2011-01-01       1   0  ...        0.0       0           1    1\n",
              "\n",
              "[5 rows x 17 columns]"
            ]
          },
          "metadata": {},
          "execution_count": 4
        }
      ]
    },
    {
      "cell_type": "markdown",
      "metadata": {
        "id": "QO1PKrrJauWD"
      },
      "source": [
        "###EDA and Preprocessing\n"
      ]
    },
    {
      "cell_type": "code",
      "metadata": {
        "id": "xEjeul6e7lic"
      },
      "source": [
        "scale = StandardScaler()"
      ],
      "execution_count": null,
      "outputs": []
    },
    {
      "cell_type": "code",
      "metadata": {
        "id": "lqI9oytkUXa-",
        "colab": {
          "base_uri": "https://localhost:8080/"
        },
        "outputId": "15540e7c-2ad6-4e7e-f87a-2baab892741e"
      },
      "source": [
        "df.info()"
      ],
      "execution_count": null,
      "outputs": [
        {
          "output_type": "stream",
          "name": "stdout",
          "text": [
            "<class 'pandas.core.frame.DataFrame'>\n",
            "RangeIndex: 17379 entries, 0 to 17378\n",
            "Data columns (total 17 columns):\n",
            " #   Column      Non-Null Count  Dtype  \n",
            "---  ------      --------------  -----  \n",
            " 0   instant     17379 non-null  int64  \n",
            " 1   dteday      17379 non-null  object \n",
            " 2   season      17379 non-null  int64  \n",
            " 3   yr          17379 non-null  int64  \n",
            " 4   mnth        17379 non-null  int64  \n",
            " 5   hr          17379 non-null  int64  \n",
            " 6   holiday     17379 non-null  int64  \n",
            " 7   weekday     17379 non-null  int64  \n",
            " 8   workingday  17379 non-null  int64  \n",
            " 9   weathersit  17379 non-null  int64  \n",
            " 10  temp        17379 non-null  float64\n",
            " 11  atemp       17379 non-null  float64\n",
            " 12  hum         17379 non-null  float64\n",
            " 13  windspeed   17379 non-null  float64\n",
            " 14  casual      17379 non-null  int64  \n",
            " 15  registered  17379 non-null  int64  \n",
            " 16  cnt         17379 non-null  int64  \n",
            "dtypes: float64(4), int64(12), object(1)\n",
            "memory usage: 2.3+ MB\n"
          ]
        }
      ]
    },
    {
      "cell_type": "code",
      "metadata": {
        "id": "w49cY2upUidY"
      },
      "source": [
        "df.rename(columns = {\"cnt\":\"target\"}, inplace = True)"
      ],
      "execution_count": null,
      "outputs": []
    },
    {
      "cell_type": "code",
      "metadata": {
        "id": "IxwwU8sbUtMb",
        "colab": {
          "base_uri": "https://localhost:8080/"
        },
        "outputId": "c0a92492-53ca-4842-ef15-5351d82e26a3"
      },
      "source": [
        "#That's awesome how clear this dataset\n",
        "#Well, I think in the real world it is unreal to find such clear data\n",
        "df.isnull().sum()"
      ],
      "execution_count": null,
      "outputs": [
        {
          "output_type": "execute_result",
          "data": {
            "text/plain": [
              "instant       0\n",
              "dteday        0\n",
              "season        0\n",
              "yr            0\n",
              "mnth          0\n",
              "hr            0\n",
              "holiday       0\n",
              "weekday       0\n",
              "workingday    0\n",
              "weathersit    0\n",
              "temp          0\n",
              "atemp         0\n",
              "hum           0\n",
              "windspeed     0\n",
              "casual        0\n",
              "registered    0\n",
              "target        0\n",
              "dtype: int64"
            ]
          },
          "metadata": {},
          "execution_count": 6
        }
      ]
    },
    {
      "cell_type": "code",
      "metadata": {
        "id": "PQNfPKwQZ8Ed"
      },
      "source": [
        "df['dteday'] = pd.to_datetime(df['dteday'])\n",
        "df = df.set_index(df['dteday'])"
      ],
      "execution_count": null,
      "outputs": []
    },
    {
      "cell_type": "code",
      "metadata": {
        "id": "PY-757I_dHz8"
      },
      "source": [
        "df['day_of_month'] = df.index.day\n",
        "df['day_of_week'] = df.index.dayofweek"
      ],
      "execution_count": null,
      "outputs": []
    },
    {
      "cell_type": "code",
      "metadata": {
        "id": "W5G6MO-ihJRL"
      },
      "source": [
        "df = df.reset_index(drop=True)"
      ],
      "execution_count": null,
      "outputs": []
    },
    {
      "cell_type": "code",
      "metadata": {
        "id": "spSU8vPTh7jB"
      },
      "source": [
        "#season column doesn't match actual seasons. I would use mnth value instead. \n",
        "#Maybe the problem with season is due to the fact that the data was collected in Washington\n",
        "#Also instant column is just indexing\n",
        "df.drop(columns = ['dteday', 'season', 'instant'], inplace = True)"
      ],
      "execution_count": null,
      "outputs": []
    },
    {
      "cell_type": "code",
      "metadata": {
        "colab": {
          "base_uri": "https://localhost:8080/",
          "height": 206
        },
        "id": "O39lNr6QnvHN",
        "outputId": "152915d8-33a6-4a87-afc4-667566fc9a58"
      },
      "source": [
        "df.head()"
      ],
      "execution_count": null,
      "outputs": [
        {
          "output_type": "execute_result",
          "data": {
            "text/html": [
              "<div>\n",
              "<style scoped>\n",
              "    .dataframe tbody tr th:only-of-type {\n",
              "        vertical-align: middle;\n",
              "    }\n",
              "\n",
              "    .dataframe tbody tr th {\n",
              "        vertical-align: top;\n",
              "    }\n",
              "\n",
              "    .dataframe thead th {\n",
              "        text-align: right;\n",
              "    }\n",
              "</style>\n",
              "<table border=\"1\" class=\"dataframe\">\n",
              "  <thead>\n",
              "    <tr style=\"text-align: right;\">\n",
              "      <th></th>\n",
              "      <th>yr</th>\n",
              "      <th>mnth</th>\n",
              "      <th>hr</th>\n",
              "      <th>holiday</th>\n",
              "      <th>weekday</th>\n",
              "      <th>workingday</th>\n",
              "      <th>weathersit</th>\n",
              "      <th>temp</th>\n",
              "      <th>atemp</th>\n",
              "      <th>hum</th>\n",
              "      <th>windspeed</th>\n",
              "      <th>casual</th>\n",
              "      <th>registered</th>\n",
              "      <th>target</th>\n",
              "      <th>day_of_month</th>\n",
              "      <th>day_of_week</th>\n",
              "    </tr>\n",
              "  </thead>\n",
              "  <tbody>\n",
              "    <tr>\n",
              "      <th>0</th>\n",
              "      <td>0</td>\n",
              "      <td>1</td>\n",
              "      <td>0</td>\n",
              "      <td>0</td>\n",
              "      <td>6</td>\n",
              "      <td>0</td>\n",
              "      <td>1</td>\n",
              "      <td>0.24</td>\n",
              "      <td>0.2879</td>\n",
              "      <td>0.81</td>\n",
              "      <td>0.0</td>\n",
              "      <td>3</td>\n",
              "      <td>13</td>\n",
              "      <td>16</td>\n",
              "      <td>1</td>\n",
              "      <td>5</td>\n",
              "    </tr>\n",
              "    <tr>\n",
              "      <th>1</th>\n",
              "      <td>0</td>\n",
              "      <td>1</td>\n",
              "      <td>1</td>\n",
              "      <td>0</td>\n",
              "      <td>6</td>\n",
              "      <td>0</td>\n",
              "      <td>1</td>\n",
              "      <td>0.22</td>\n",
              "      <td>0.2727</td>\n",
              "      <td>0.80</td>\n",
              "      <td>0.0</td>\n",
              "      <td>8</td>\n",
              "      <td>32</td>\n",
              "      <td>40</td>\n",
              "      <td>1</td>\n",
              "      <td>5</td>\n",
              "    </tr>\n",
              "    <tr>\n",
              "      <th>2</th>\n",
              "      <td>0</td>\n",
              "      <td>1</td>\n",
              "      <td>2</td>\n",
              "      <td>0</td>\n",
              "      <td>6</td>\n",
              "      <td>0</td>\n",
              "      <td>1</td>\n",
              "      <td>0.22</td>\n",
              "      <td>0.2727</td>\n",
              "      <td>0.80</td>\n",
              "      <td>0.0</td>\n",
              "      <td>5</td>\n",
              "      <td>27</td>\n",
              "      <td>32</td>\n",
              "      <td>1</td>\n",
              "      <td>5</td>\n",
              "    </tr>\n",
              "    <tr>\n",
              "      <th>3</th>\n",
              "      <td>0</td>\n",
              "      <td>1</td>\n",
              "      <td>3</td>\n",
              "      <td>0</td>\n",
              "      <td>6</td>\n",
              "      <td>0</td>\n",
              "      <td>1</td>\n",
              "      <td>0.24</td>\n",
              "      <td>0.2879</td>\n",
              "      <td>0.75</td>\n",
              "      <td>0.0</td>\n",
              "      <td>3</td>\n",
              "      <td>10</td>\n",
              "      <td>13</td>\n",
              "      <td>1</td>\n",
              "      <td>5</td>\n",
              "    </tr>\n",
              "    <tr>\n",
              "      <th>4</th>\n",
              "      <td>0</td>\n",
              "      <td>1</td>\n",
              "      <td>4</td>\n",
              "      <td>0</td>\n",
              "      <td>6</td>\n",
              "      <td>0</td>\n",
              "      <td>1</td>\n",
              "      <td>0.24</td>\n",
              "      <td>0.2879</td>\n",
              "      <td>0.75</td>\n",
              "      <td>0.0</td>\n",
              "      <td>0</td>\n",
              "      <td>1</td>\n",
              "      <td>1</td>\n",
              "      <td>1</td>\n",
              "      <td>5</td>\n",
              "    </tr>\n",
              "  </tbody>\n",
              "</table>\n",
              "</div>"
            ],
            "text/plain": [
              "   yr  mnth  hr  holiday  ...  registered  target  day_of_month  day_of_week\n",
              "0   0     1   0        0  ...          13      16             1            5\n",
              "1   0     1   1        0  ...          32      40             1            5\n",
              "2   0     1   2        0  ...          27      32             1            5\n",
              "3   0     1   3        0  ...          10      13             1            5\n",
              "4   0     1   4        0  ...           1       1             1            5\n",
              "\n",
              "[5 rows x 16 columns]"
            ]
          },
          "metadata": {},
          "execution_count": 141
        }
      ]
    },
    {
      "cell_type": "code",
      "metadata": {
        "colab": {
          "base_uri": "https://localhost:8080/",
          "height": 601
        },
        "id": "Qb4y_libpXOK",
        "outputId": "3be98053-433a-4771-e284-5e5db3e8663a"
      },
      "source": [
        "#We can see that target is highly correlated with registered, casual, temp, atemp, hr, hum and year\n",
        "#Later I'll train models using temp and atemp features to see what works best\n",
        "f, ax = plt.subplots(figsize = (15, 9))\n",
        "sns.heatmap(df.corr(), vmin = -1, vmax = 1, cmap = 'bwr', annot = True)\n",
        "plt.show()"
      ],
      "execution_count": null,
      "outputs": [
        {
          "output_type": "display_data",
          "data": {
            "image/png": "[encoded data removed]",
            "text/plain": [
              "<Figure size 1080x648 with 2 Axes>"
            ]
          },
          "metadata": {
            "needs_background": "light"
          }
        }
      ]
    },
    {
      "cell_type": "code",
      "metadata": {
        "colab": {
          "base_uri": "https://localhost:8080/",
          "height": 405
        },
        "id": "L8HMz3WoqRjF",
        "outputId": "4d8e0434-e8a6-40bf-8eec-d93f1ac3c82c"
      },
      "source": [
        "plt.figure(figsize=(25,6))\n",
        "sns.pointplot(data = df,x=df.hum,y=df.target,color='black')"
      ],
      "execution_count": null,
      "outputs": [
        {
          "output_type": "execute_result",
          "data": {
            "text/plain": [
              "<matplotlib.axes._subplots.AxesSubplot at 0x7fbcb8408850>"
            ]
          },
          "metadata": {},
          "execution_count": 10
        },
        {
          "output_type": "display_data",
          "data": {
            "image/png": "[encoded data removed]",
            "text/plain": [
              "<Figure size 1800x432 with 1 Axes>"
            ]
          },
          "metadata": {
            "needs_background": "light"
          }
        }
      ]
    },
    {
      "cell_type": "code",
      "metadata": {
        "colab": {
          "base_uri": "https://localhost:8080/",
          "height": 405
        },
        "id": "4EPvu-iiqobj",
        "outputId": "a3903250-949a-408a-aa85-953ed85fb1cd"
      },
      "source": [
        "plt.figure(figsize=(25,6))\n",
        "sns.pointplot(data = df,x=df.atemp,y=df.target,color='black')"
      ],
      "execution_count": null,
      "outputs": [
        {
          "output_type": "execute_result",
          "data": {
            "text/plain": [
              "<matplotlib.axes._subplots.AxesSubplot at 0x7fbcb7c8b850>"
            ]
          },
          "metadata": {},
          "execution_count": 11
        },
        {
          "output_type": "display_data",
          "data": {
            "image/png": "[encoded data removed]",
            "text/plain": [
              "<Figure size 1800x432 with 1 Axes>"
            ]
          },
          "metadata": {
            "needs_background": "light"
          }
        }
      ]
    },
    {
      "cell_type": "code",
      "metadata": {
        "colab": {
          "base_uri": "https://localhost:8080/",
          "height": 409
        },
        "id": "7crz6sFAq_8G",
        "outputId": "3c5042bb-5e34-4be9-9563-336e6c30c623"
      },
      "source": [
        "#Here we can say that between 16 to 19 o'clock the demand is on peak\n",
        "plt.figure(figsize=(16,6))\n",
        "sns.pointplot(data = df,x=df.hr,y=df.target,color='black')"
      ],
      "execution_count": null,
      "outputs": [
        {
          "output_type": "execute_result",
          "data": {
            "text/plain": [
              "<matplotlib.axes._subplots.AxesSubplot at 0x7f41cbcf2c50>"
            ]
          },
          "metadata": {},
          "execution_count": 120
        },
        {
          "output_type": "display_data",
          "data": {
            "image/png": "[encoded data removed]",
            "text/plain": [
              "<Figure size 1152x432 with 1 Axes>"
            ]
          },
          "metadata": {
            "needs_background": "light"
          }
        }
      ]
    },
    {
      "cell_type": "code",
      "metadata": {
        "colab": {
          "base_uri": "https://localhost:8080/",
          "height": 406
        },
        "id": "63YuANl9sG0g",
        "outputId": "04aed490-9f03-4e64-97b4-c22bd3336e11"
      },
      "source": [
        "#Well, the demand is on peak in summer then starting to decrease \n",
        "plt.figure(figsize = (16, 6))\n",
        "sns.pointplot(data = df, x = df.mnth, y = df.target, color = 'black')"
      ],
      "execution_count": null,
      "outputs": [
        {
          "output_type": "execute_result",
          "data": {
            "text/plain": [
              "<matplotlib.axes._subplots.AxesSubplot at 0x7f41d78f8710>"
            ]
          },
          "metadata": {},
          "execution_count": 119
        },
        {
          "output_type": "display_data",
          "data": {
            "image/png": "[encoded data removed]",
            "text/plain": [
              "<Figure size 1152x432 with 1 Axes>"
            ]
          },
          "metadata": {
            "needs_background": "light"
          }
        }
      ]
    },
    {
      "cell_type": "code",
      "metadata": {
        "colab": {
          "base_uri": "https://localhost:8080/",
          "height": 407
        },
        "id": "YiPOwtStu7zq",
        "outputId": "87516ed4-02a1-4dac-844f-126019dee38e"
      },
      "source": [
        "#Least demand is on weekend \n",
        "plt.figure(figsize = (16, 6))\n",
        "sns.pointplot(data = df, x = df.day_of_week, y = df.target, color = 'black')"
      ],
      "execution_count": null,
      "outputs": [
        {
          "output_type": "execute_result",
          "data": {
            "text/plain": [
              "<matplotlib.axes._subplots.AxesSubplot at 0x7f41cd8e04d0>"
            ]
          },
          "metadata": {},
          "execution_count": 118
        },
        {
          "output_type": "display_data",
          "data": {
            "image/png": "[encoded data removed]",
            "text/plain": [
              "<Figure size 1152x432 with 1 Axes>"
            ]
          },
          "metadata": {
            "needs_background": "light"
          }
        }
      ]
    },
    {
      "cell_type": "code",
      "metadata": {
        "colab": {
          "base_uri": "https://localhost:8080/",
          "height": 406
        },
        "id": "2u1EGtKivoBn",
        "outputId": "6265e8eb-0b98-4942-9f01-b88533a1e8ee"
      },
      "source": [
        "plt.figure(figsize=(16,6))\n",
        "sns.boxplot(data = df,x = df[\"hr\"],y = df.target)"
      ],
      "execution_count": null,
      "outputs": [
        {
          "output_type": "execute_result",
          "data": {
            "text/plain": [
              "<matplotlib.axes._subplots.AxesSubplot at 0x7f41cb9c5e90>"
            ]
          },
          "metadata": {},
          "execution_count": 121
        },
        {
          "output_type": "display_data",
          "data": {
            "image/png": "[encoded data removed]",
            "text/plain": [
              "<Figure size 1152x432 with 1 Axes>"
            ]
          },
          "metadata": {
            "needs_background": "light"
          }
        }
      ]
    },
    {
      "cell_type": "code",
      "metadata": {
        "colab": {
          "base_uri": "https://localhost:8080/",
          "height": 406
        },
        "id": "-vj269arYqFN",
        "outputId": "b04af307-45ae-4c98-dc1c-135d25e3e8f7"
      },
      "source": [
        "#The demand doesn't differ on day of month \n",
        "plt.figure(figsize=(25,6))\n",
        "sns.pointplot(data = df, x = df.day_of_month, y = df.target, color = 'red')"
      ],
      "execution_count": null,
      "outputs": [
        {
          "output_type": "execute_result",
          "data": {
            "text/plain": [
              "<matplotlib.axes._subplots.AxesSubplot at 0x7fb103d49c90>"
            ]
          },
          "metadata": {},
          "execution_count": 29
        },
        {
          "output_type": "display_data",
          "data": {
            "image/png": "[encoded data removed]",
            "text/plain": [
              "<Figure size 1800x432 with 1 Axes>"
            ]
          },
          "metadata": {
            "needs_background": "light"
          }
        }
      ]
    },
    {
      "cell_type": "code",
      "metadata": {
        "colab": {
          "base_uri": "https://localhost:8080/",
          "height": 405
        },
        "id": "e7MOQdKsYv8D",
        "outputId": "efd46d33-3a2b-4c57-b108-2599e1e20b70"
      },
      "source": [
        "#Here we can see how demand depends on hours, whether it is working day or not\n",
        "plt.figure(figsize=(16,6))\n",
        "sns.lineplot(x=df.hr,y=df.target,data=df,hue=df.workingday)"
      ],
      "execution_count": null,
      "outputs": [
        {
          "output_type": "execute_result",
          "data": {
            "text/plain": [
              "<matplotlib.axes._subplots.AxesSubplot at 0x7fb10393e9d0>"
            ]
          },
          "metadata": {},
          "execution_count": 30
        },
        {
          "output_type": "display_data",
          "data": {
            "image/png": "[encoded data removed]",
            "text/plain": [
              "<Figure size 1152x432 with 1 Axes>"
            ]
          },
          "metadata": {
            "needs_background": "light"
          }
        }
      ]
    },
    {
      "cell_type": "code",
      "metadata": {
        "id": "m-rmC7pHY59a"
      },
      "source": [
        "df_without_atemp = df.drop(columns = ['atemp'])"
      ],
      "execution_count": null,
      "outputs": []
    },
    {
      "cell_type": "code",
      "metadata": {
        "colab": {
          "base_uri": "https://localhost:8080/"
        },
        "id": "xvKzAKi4zxm8",
        "outputId": "ca1d0839-2b0d-4eb9-91f5-66a921831367"
      },
      "source": [
        "df_without_atemp.columns"
      ],
      "execution_count": null,
      "outputs": [
        {
          "output_type": "execute_result",
          "data": {
            "text/plain": [
              "Index(['yr', 'mnth', 'hr', 'holiday', 'weekday', 'workingday', 'weathersit',\n",
              "       'temp', 'hum', 'windspeed', 'casual', 'registered', 'target',\n",
              "       'day_of_month', 'day_of_week'],\n",
              "      dtype='object')"
            ]
          },
          "metadata": {},
          "execution_count": 224
        }
      ]
    },
    {
      "cell_type": "code",
      "metadata": {
        "colab": {
          "base_uri": "https://localhost:8080/"
        },
        "id": "9ZZKWgf47h26",
        "outputId": "0485cb5f-c984-4357-b89c-f06c117d18c6"
      },
      "source": [
        "df_without_atemp['mnth'].unique()"
      ],
      "execution_count": null,
      "outputs": [
        {
          "output_type": "execute_result",
          "data": {
            "text/plain": [
              "array([ 1,  2,  3,  4,  5,  6,  7,  8,  9, 10, 11, 12])"
            ]
          },
          "metadata": {},
          "execution_count": 10
        }
      ]
    },
    {
      "cell_type": "code",
      "metadata": {
        "id": "UOtF-P057nS6"
      },
      "source": [
        "df_without_atemp_encoded = df_without_atemp.copy()\n",
        "df_without_atemp_encoded['mnth'].replace({1 : 'Jan', 2 : 'Feb', 3 : 'Mar', 4 : 'Apr', 5 : 'May', 6 : 'Jun', 7 : 'Jul', 8 : 'Aug', 9 : 'Sep', 10 : 'Oct', 11 : 'Nov', 12 : 'Dec'}, inplace = True)"
      ],
      "execution_count": null,
      "outputs": []
    },
    {
      "cell_type": "code",
      "metadata": {
        "colab": {
          "base_uri": "https://localhost:8080/"
        },
        "id": "WioPXkVnBCA6",
        "outputId": "dafd53f2-73e2-4bb7-ecc7-3aab354f5dad"
      },
      "source": [
        "df_without_atemp_encoded['mnth'].unique()"
      ],
      "execution_count": null,
      "outputs": [
        {
          "output_type": "execute_result",
          "data": {
            "text/plain": [
              "array(['Jan', 'Feb', 'Mar', 'Apr', 'May', 'Jun', 'Jul', 'Aug', 'Sep',\n",
              "       'Oct', 'Nov', 'Dec'], dtype=object)"
            ]
          },
          "metadata": {},
          "execution_count": 12
        }
      ]
    },
    {
      "cell_type": "code",
      "metadata": {
        "id": "-YCOLtEn9Nnq"
      },
      "source": [
        "months = pd.get_dummies(df_without_atemp_encoded.mnth)\n",
        "df_without_atemp_encoded = pd.concat([df_without_atemp_encoded, months], axis = 1)\n",
        "df_without_atemp_encoded.drop(columns = ['mnth'], inplace = True)"
      ],
      "execution_count": null,
      "outputs": []
    },
    {
      "cell_type": "code",
      "metadata": {
        "id": "zpbFTdaO-cTt"
      },
      "source": [
        "df_without_atemp_encoded['day_of_week'].replace({6 : 'Sun', 0 : 'Mon', 1 : 'Tue', 2 : 'Wed', 3 : 'Thu', 4 : 'Fri', 5 : 'Sat'}, inplace = True)\n",
        "\n",
        "weekdays = pd.get_dummies(df_without_atemp_encoded.day_of_week)\n",
        "df_without_atemp_encoded = pd.concat([df_without_atemp_encoded, weekdays], axis = 1)\n",
        "df_without_atemp_encoded.drop(columns = ['weekday', 'day_of_week'], inplace = True)"
      ],
      "execution_count": null,
      "outputs": []
    },
    {
      "cell_type": "code",
      "metadata": {
        "colab": {
          "base_uri": "https://localhost:8080/",
          "height": 226
        },
        "id": "OG8-Ssh5_F6T",
        "outputId": "0bee8105-73c0-449a-aeb8-87f6dc8e0f66"
      },
      "source": [
        "df_without_atemp_encoded.head()"
      ],
      "execution_count": null,
      "outputs": [
        {
          "output_type": "execute_result",
          "data": {
            "text/html": [
              "<div>\n",
              "<style scoped>\n",
              "    .dataframe tbody tr th:only-of-type {\n",
              "        vertical-align: middle;\n",
              "    }\n",
              "\n",
              "    .dataframe tbody tr th {\n",
              "        vertical-align: top;\n",
              "    }\n",
              "\n",
              "    .dataframe thead th {\n",
              "        text-align: right;\n",
              "    }\n",
              "</style>\n",
              "<table border=\"1\" class=\"dataframe\">\n",
              "  <thead>\n",
              "    <tr style=\"text-align: right;\">\n",
              "      <th></th>\n",
              "      <th>yr</th>\n",
              "      <th>hr</th>\n",
              "      <th>holiday</th>\n",
              "      <th>workingday</th>\n",
              "      <th>weathersit</th>\n",
              "      <th>temp</th>\n",
              "      <th>hum</th>\n",
              "      <th>windspeed</th>\n",
              "      <th>casual</th>\n",
              "      <th>registered</th>\n",
              "      <th>target</th>\n",
              "      <th>day_of_month</th>\n",
              "      <th>Apr</th>\n",
              "      <th>Aug</th>\n",
              "      <th>Dec</th>\n",
              "      <th>Feb</th>\n",
              "      <th>Jan</th>\n",
              "      <th>Jul</th>\n",
              "      <th>Jun</th>\n",
              "      <th>Mar</th>\n",
              "      <th>May</th>\n",
              "      <th>Nov</th>\n",
              "      <th>Oct</th>\n",
              "      <th>Sep</th>\n",
              "      <th>Fri</th>\n",
              "      <th>Mon</th>\n",
              "      <th>Sat</th>\n",
              "      <th>Sun</th>\n",
              "      <th>Thu</th>\n",
              "      <th>Tue</th>\n",
              "      <th>Wed</th>\n",
              "    </tr>\n",
              "  </thead>\n",
              "  <tbody>\n",
              "    <tr>\n",
              "      <th>0</th>\n",
              "      <td>0</td>\n",
              "      <td>0</td>\n",
              "      <td>0</td>\n",
              "      <td>0</td>\n",
              "      <td>1</td>\n",
              "      <td>0.24</td>\n",
              "      <td>0.81</td>\n",
              "      <td>0.0</td>\n",
              "      <td>3</td>\n",
              "      <td>13</td>\n",
              "      <td>16</td>\n",
              "      <td>1</td>\n",
              "      <td>0</td>\n",
              "      <td>0</td>\n",
              "      <td>0</td>\n",
              "      <td>0</td>\n",
              "      <td>1</td>\n",
              "      <td>0</td>\n",
              "      <td>0</td>\n",
              "      <td>0</td>\n",
              "      <td>0</td>\n",
              "      <td>0</td>\n",
              "      <td>0</td>\n",
              "      <td>0</td>\n",
              "      <td>0</td>\n",
              "      <td>0</td>\n",
              "      <td>1</td>\n",
              "      <td>0</td>\n",
              "      <td>0</td>\n",
              "      <td>0</td>\n",
              "      <td>0</td>\n",
              "    </tr>\n",
              "    <tr>\n",
              "      <th>1</th>\n",
              "      <td>0</td>\n",
              "      <td>1</td>\n",
              "      <td>0</td>\n",
              "      <td>0</td>\n",
              "      <td>1</td>\n",
              "      <td>0.22</td>\n",
              "      <td>0.80</td>\n",
              "      <td>0.0</td>\n",
              "      <td>8</td>\n",
              "      <td>32</td>\n",
              "      <td>40</td>\n",
              "      <td>1</td>\n",
              "      <td>0</td>\n",
              "      <td>0</td>\n",
              "      <td>0</td>\n",
              "      <td>0</td>\n",
              "      <td>1</td>\n",
              "      <td>0</td>\n",
              "      <td>0</td>\n",
              "      <td>0</td>\n",
              "      <td>0</td>\n",
              "      <td>0</td>\n",
              "      <td>0</td>\n",
              "      <td>0</td>\n",
              "      <td>0</td>\n",
              "      <td>0</td>\n",
              "      <td>1</td>\n",
              "      <td>0</td>\n",
              "      <td>0</td>\n",
              "      <td>0</td>\n",
              "      <td>0</td>\n",
              "    </tr>\n",
              "    <tr>\n",
              "      <th>2</th>\n",
              "      <td>0</td>\n",
              "      <td>2</td>\n",
              "      <td>0</td>\n",
              "      <td>0</td>\n",
              "      <td>1</td>\n",
              "      <td>0.22</td>\n",
              "      <td>0.80</td>\n",
              "      <td>0.0</td>\n",
              "      <td>5</td>\n",
              "      <td>27</td>\n",
              "      <td>32</td>\n",
              "      <td>1</td>\n",
              "      <td>0</td>\n",
              "      <td>0</td>\n",
              "      <td>0</td>\n",
              "      <td>0</td>\n",
              "      <td>1</td>\n",
              "      <td>0</td>\n",
              "      <td>0</td>\n",
              "      <td>0</td>\n",
              "      <td>0</td>\n",
              "      <td>0</td>\n",
              "      <td>0</td>\n",
              "      <td>0</td>\n",
              "      <td>0</td>\n",
              "      <td>0</td>\n",
              "      <td>1</td>\n",
              "      <td>0</td>\n",
              "      <td>0</td>\n",
              "      <td>0</td>\n",
              "      <td>0</td>\n",
              "    </tr>\n",
              "    <tr>\n",
              "      <th>3</th>\n",
              "      <td>0</td>\n",
              "      <td>3</td>\n",
              "      <td>0</td>\n",
              "      <td>0</td>\n",
              "      <td>1</td>\n",
              "      <td>0.24</td>\n",
              "      <td>0.75</td>\n",
              "      <td>0.0</td>\n",
              "      <td>3</td>\n",
              "      <td>10</td>\n",
              "      <td>13</td>\n",
              "      <td>1</td>\n",
              "      <td>0</td>\n",
              "      <td>0</td>\n",
              "      <td>0</td>\n",
              "      <td>0</td>\n",
              "      <td>1</td>\n",
              "      <td>0</td>\n",
              "      <td>0</td>\n",
              "      <td>0</td>\n",
              "      <td>0</td>\n",
              "      <td>0</td>\n",
              "      <td>0</td>\n",
              "      <td>0</td>\n",
              "      <td>0</td>\n",
              "      <td>0</td>\n",
              "      <td>1</td>\n",
              "      <td>0</td>\n",
              "      <td>0</td>\n",
              "      <td>0</td>\n",
              "      <td>0</td>\n",
              "    </tr>\n",
              "    <tr>\n",
              "      <th>4</th>\n",
              "      <td>0</td>\n",
              "      <td>4</td>\n",
              "      <td>0</td>\n",
              "      <td>0</td>\n",
              "      <td>1</td>\n",
              "      <td>0.24</td>\n",
              "      <td>0.75</td>\n",
              "      <td>0.0</td>\n",
              "      <td>0</td>\n",
              "      <td>1</td>\n",
              "      <td>1</td>\n",
              "      <td>1</td>\n",
              "      <td>0</td>\n",
              "      <td>0</td>\n",
              "      <td>0</td>\n",
              "      <td>0</td>\n",
              "      <td>1</td>\n",
              "      <td>0</td>\n",
              "      <td>0</td>\n",
              "      <td>0</td>\n",
              "      <td>0</td>\n",
              "      <td>0</td>\n",
              "      <td>0</td>\n",
              "      <td>0</td>\n",
              "      <td>0</td>\n",
              "      <td>0</td>\n",
              "      <td>1</td>\n",
              "      <td>0</td>\n",
              "      <td>0</td>\n",
              "      <td>0</td>\n",
              "      <td>0</td>\n",
              "    </tr>\n",
              "  </tbody>\n",
              "</table>\n",
              "</div>"
            ],
            "text/plain": [
              "   yr  hr  holiday  workingday  weathersit  temp  ...  Mon  Sat  Sun  Thu  Tue  Wed\n",
              "0   0   0        0           0           1  0.24  ...    0    1    0    0    0    0\n",
              "1   0   1        0           0           1  0.22  ...    0    1    0    0    0    0\n",
              "2   0   2        0           0           1  0.22  ...    0    1    0    0    0    0\n",
              "3   0   3        0           0           1  0.24  ...    0    1    0    0    0    0\n",
              "4   0   4        0           0           1  0.24  ...    0    1    0    0    0    0\n",
              "\n",
              "[5 rows x 31 columns]"
            ]
          },
          "metadata": {},
          "execution_count": 15
        }
      ]
    },
    {
      "cell_type": "code",
      "metadata": {
        "id": "wk6ZJBI2XOwH"
      },
      "source": [
        "#Same preprocessing for dataframe without temp \n",
        "df_without_temp = df.drop(columns = ['temp'])"
      ],
      "execution_count": null,
      "outputs": []
    },
    {
      "cell_type": "code",
      "metadata": {
        "id": "rf8GcNzAY-qu"
      },
      "source": [
        "df_without_temp_encoded = df_without_temp.copy()\n",
        "df_without_temp_encoded['mnth'].replace({1 : 'Jan', 2 : 'Feb', 3 : 'Mar', 4 : 'Apr', 5 : 'May', 6 : 'Jun', 7 : 'Jul', 8 : 'Aug', 9 : 'Sep', 10 : 'Oct', 11 : 'Nov', 12 : 'Dec'}, inplace = True)"
      ],
      "execution_count": null,
      "outputs": []
    },
    {
      "cell_type": "code",
      "metadata": {
        "id": "PpKj4hgxZMKa"
      },
      "source": [
        "months = pd.get_dummies(df_without_temp_encoded.mnth)\n",
        "df_without_temp_encoded = pd.concat([df_without_temp_encoded, months], axis = 1)\n",
        "df_without_temp_encoded.drop(columns = ['mnth'], inplace = True)"
      ],
      "execution_count": null,
      "outputs": []
    },
    {
      "cell_type": "code",
      "metadata": {
        "id": "fl-d10ulZSGn"
      },
      "source": [
        "df_without_temp_encoded['day_of_week'].replace({6 : 'Sun', 0 : 'Mon', 1 : 'Tue', 2 : 'Wed', 3 : 'Thu', 4 : 'Fri', 5 : 'Sat'}, inplace = True)\n",
        "\n",
        "weekdays = pd.get_dummies(df_without_temp_encoded.day_of_week)\n",
        "df_without_temp_encoded = pd.concat([df_without_temp_encoded, weekdays], axis = 1)\n",
        "df_without_temp_encoded.drop(columns = ['weekday', 'day_of_week'], inplace = True)"
      ],
      "execution_count": null,
      "outputs": []
    },
    {
      "cell_type": "code",
      "metadata": {
        "colab": {
          "base_uri": "https://localhost:8080/",
          "height": 224
        },
        "id": "dWcj5oL1ZZft",
        "outputId": "7127b53e-1754-4719-aed6-849fd3e5b6d5"
      },
      "source": [
        "df_without_temp_encoded.head()"
      ],
      "execution_count": null,
      "outputs": [
        {
          "output_type": "execute_result",
          "data": {
            "text/html": [
              "<div>\n",
              "<style scoped>\n",
              "    .dataframe tbody tr th:only-of-type {\n",
              "        vertical-align: middle;\n",
              "    }\n",
              "\n",
              "    .dataframe tbody tr th {\n",
              "        vertical-align: top;\n",
              "    }\n",
              "\n",
              "    .dataframe thead th {\n",
              "        text-align: right;\n",
              "    }\n",
              "</style>\n",
              "<table border=\"1\" class=\"dataframe\">\n",
              "  <thead>\n",
              "    <tr style=\"text-align: right;\">\n",
              "      <th></th>\n",
              "      <th>yr</th>\n",
              "      <th>hr</th>\n",
              "      <th>holiday</th>\n",
              "      <th>workingday</th>\n",
              "      <th>weathersit</th>\n",
              "      <th>atemp</th>\n",
              "      <th>hum</th>\n",
              "      <th>windspeed</th>\n",
              "      <th>casual</th>\n",
              "      <th>registered</th>\n",
              "      <th>target</th>\n",
              "      <th>day_of_month</th>\n",
              "      <th>Apr</th>\n",
              "      <th>Aug</th>\n",
              "      <th>Dec</th>\n",
              "      <th>Feb</th>\n",
              "      <th>Jan</th>\n",
              "      <th>Jul</th>\n",
              "      <th>Jun</th>\n",
              "      <th>Mar</th>\n",
              "      <th>May</th>\n",
              "      <th>Nov</th>\n",
              "      <th>Oct</th>\n",
              "      <th>Sep</th>\n",
              "      <th>Fri</th>\n",
              "      <th>Mon</th>\n",
              "      <th>Sat</th>\n",
              "      <th>Sun</th>\n",
              "      <th>Thu</th>\n",
              "      <th>Tue</th>\n",
              "      <th>Wed</th>\n",
              "    </tr>\n",
              "  </thead>\n",
              "  <tbody>\n",
              "    <tr>\n",
              "      <th>0</th>\n",
              "      <td>0</td>\n",
              "      <td>0</td>\n",
              "      <td>0</td>\n",
              "      <td>0</td>\n",
              "      <td>1</td>\n",
              "      <td>0.2879</td>\n",
              "      <td>0.81</td>\n",
              "      <td>0.0</td>\n",
              "      <td>3</td>\n",
              "      <td>13</td>\n",
              "      <td>16</td>\n",
              "      <td>1</td>\n",
              "      <td>0</td>\n",
              "      <td>0</td>\n",
              "      <td>0</td>\n",
              "      <td>0</td>\n",
              "      <td>1</td>\n",
              "      <td>0</td>\n",
              "      <td>0</td>\n",
              "      <td>0</td>\n",
              "      <td>0</td>\n",
              "      <td>0</td>\n",
              "      <td>0</td>\n",
              "      <td>0</td>\n",
              "      <td>0</td>\n",
              "      <td>0</td>\n",
              "      <td>1</td>\n",
              "      <td>0</td>\n",
              "      <td>0</td>\n",
              "      <td>0</td>\n",
              "      <td>0</td>\n",
              "    </tr>\n",
              "    <tr>\n",
              "      <th>1</th>\n",
              "      <td>0</td>\n",
              "      <td>1</td>\n",
              "      <td>0</td>\n",
              "      <td>0</td>\n",
              "      <td>1</td>\n",
              "      <td>0.2727</td>\n",
              "      <td>0.80</td>\n",
              "      <td>0.0</td>\n",
              "      <td>8</td>\n",
              "      <td>32</td>\n",
              "      <td>40</td>\n",
              "      <td>1</td>\n",
              "      <td>0</td>\n",
              "      <td>0</td>\n",
              "      <td>0</td>\n",
              "      <td>0</td>\n",
              "      <td>1</td>\n",
              "      <td>0</td>\n",
              "      <td>0</td>\n",
              "      <td>0</td>\n",
              "      <td>0</td>\n",
              "      <td>0</td>\n",
              "      <td>0</td>\n",
              "      <td>0</td>\n",
              "      <td>0</td>\n",
              "      <td>0</td>\n",
              "      <td>1</td>\n",
              "      <td>0</td>\n",
              "      <td>0</td>\n",
              "      <td>0</td>\n",
              "      <td>0</td>\n",
              "    </tr>\n",
              "    <tr>\n",
              "      <th>2</th>\n",
              "      <td>0</td>\n",
              "      <td>2</td>\n",
              "      <td>0</td>\n",
              "      <td>0</td>\n",
              "      <td>1</td>\n",
              "      <td>0.2727</td>\n",
              "      <td>0.80</td>\n",
              "      <td>0.0</td>\n",
              "      <td>5</td>\n",
              "      <td>27</td>\n",
              "      <td>32</td>\n",
              "      <td>1</td>\n",
              "      <td>0</td>\n",
              "      <td>0</td>\n",
              "      <td>0</td>\n",
              "      <td>0</td>\n",
              "      <td>1</td>\n",
              "      <td>0</td>\n",
              "      <td>0</td>\n",
              "      <td>0</td>\n",
              "      <td>0</td>\n",
              "      <td>0</td>\n",
              "      <td>0</td>\n",
              "      <td>0</td>\n",
              "      <td>0</td>\n",
              "      <td>0</td>\n",
              "      <td>1</td>\n",
              "      <td>0</td>\n",
              "      <td>0</td>\n",
              "      <td>0</td>\n",
              "      <td>0</td>\n",
              "    </tr>\n",
              "    <tr>\n",
              "      <th>3</th>\n",
              "      <td>0</td>\n",
              "      <td>3</td>\n",
              "      <td>0</td>\n",
              "      <td>0</td>\n",
              "      <td>1</td>\n",
              "      <td>0.2879</td>\n",
              "      <td>0.75</td>\n",
              "      <td>0.0</td>\n",
              "      <td>3</td>\n",
              "      <td>10</td>\n",
              "      <td>13</td>\n",
              "      <td>1</td>\n",
              "      <td>0</td>\n",
              "      <td>0</td>\n",
              "      <td>0</td>\n",
              "      <td>0</td>\n",
              "      <td>1</td>\n",
              "      <td>0</td>\n",
              "      <td>0</td>\n",
              "      <td>0</td>\n",
              "      <td>0</td>\n",
              "      <td>0</td>\n",
              "      <td>0</td>\n",
              "      <td>0</td>\n",
              "      <td>0</td>\n",
              "      <td>0</td>\n",
              "      <td>1</td>\n",
              "      <td>0</td>\n",
              "      <td>0</td>\n",
              "      <td>0</td>\n",
              "      <td>0</td>\n",
              "    </tr>\n",
              "    <tr>\n",
              "      <th>4</th>\n",
              "      <td>0</td>\n",
              "      <td>4</td>\n",
              "      <td>0</td>\n",
              "      <td>0</td>\n",
              "      <td>1</td>\n",
              "      <td>0.2879</td>\n",
              "      <td>0.75</td>\n",
              "      <td>0.0</td>\n",
              "      <td>0</td>\n",
              "      <td>1</td>\n",
              "      <td>1</td>\n",
              "      <td>1</td>\n",
              "      <td>0</td>\n",
              "      <td>0</td>\n",
              "      <td>0</td>\n",
              "      <td>0</td>\n",
              "      <td>1</td>\n",
              "      <td>0</td>\n",
              "      <td>0</td>\n",
              "      <td>0</td>\n",
              "      <td>0</td>\n",
              "      <td>0</td>\n",
              "      <td>0</td>\n",
              "      <td>0</td>\n",
              "      <td>0</td>\n",
              "      <td>0</td>\n",
              "      <td>1</td>\n",
              "      <td>0</td>\n",
              "      <td>0</td>\n",
              "      <td>0</td>\n",
              "      <td>0</td>\n",
              "    </tr>\n",
              "  </tbody>\n",
              "</table>\n",
              "</div>"
            ],
            "text/plain": [
              "   yr  hr  holiday  workingday  weathersit  ...  Sat  Sun  Thu  Tue  Wed\n",
              "0   0   0        0           0           1  ...    1    0    0    0    0\n",
              "1   0   1        0           0           1  ...    1    0    0    0    0\n",
              "2   0   2        0           0           1  ...    1    0    0    0    0\n",
              "3   0   3        0           0           1  ...    1    0    0    0    0\n",
              "4   0   4        0           0           1  ...    1    0    0    0    0\n",
              "\n",
              "[5 rows x 31 columns]"
            ]
          },
          "metadata": {},
          "execution_count": 18
        }
      ]
    },
    {
      "cell_type": "markdown",
      "metadata": {
        "id": "mUSHWrifITva"
      },
      "source": [
        "# Models"
      ]
    },
    {
      "cell_type": "markdown",
      "metadata": {
        "id": "Xg3zEmwNarEv"
      },
      "source": [
        "## KNR\n"
      ]
    },
    {
      "cell_type": "code",
      "metadata": {
        "id": "m8zsQa-xKAE1"
      },
      "source": [
        "X = df_without_atemp_encoded.drop(['target'], axis = 1)\n",
        "y = df_without_atemp_encoded.target"
      ],
      "execution_count": null,
      "outputs": []
    },
    {
      "cell_type": "code",
      "metadata": {
        "id": "Bg_WIUdADWBK"
      },
      "source": [
        "X = scale.fit_transform(X)"
      ],
      "execution_count": null,
      "outputs": []
    },
    {
      "cell_type": "code",
      "metadata": {
        "id": "YDgEAb_LHVUu"
      },
      "source": [
        "X_train, X_test, y_train, y_test = train_test_split(X, y)"
      ],
      "execution_count": null,
      "outputs": []
    },
    {
      "cell_type": "code",
      "metadata": {
        "id": "1WhZlRs2SuBI"
      },
      "source": [
        "#K-Nearest Regressor (temp)\n",
        "knr = GridSearchCV(KNeighborsRegressor(), {\n",
        "    'weights': ['uniform', 'distance'],\n",
        "    'n_neighbors': [3, 5 ,7, 9],\n",
        "    'metric': ['manhattan', 'minkowski', 'euclidean']\n",
        "}, cv = 5, return_train_score = False)\n",
        "\n",
        "knr.fit(X_train, y_train)\n",
        "\n",
        "knr_results_df = pd.DataFrame(knr.cv_results_)"
      ],
      "execution_count": null,
      "outputs": []
    },
    {
      "cell_type": "code",
      "metadata": {
        "id": "d-GIFIiyViVe"
      },
      "source": [
        "y_pred_knr_temp = knr.predict(X_test)"
      ],
      "execution_count": null,
      "outputs": []
    },
    {
      "cell_type": "code",
      "metadata": {
        "colab": {
          "base_uri": "https://localhost:8080/",
          "height": 206
        },
        "id": "BSF4bvhoWnA9",
        "outputId": "ebf24193-a19b-4aca-f8ec-a47dd1ae1ca9"
      },
      "source": [
        "knr_results_df[['param_weights', 'param_n_neighbors', 'param_metric', 'mean_test_score']].head()"
      ],
      "execution_count": null,
      "outputs": [
        {
          "output_type": "execute_result",
          "data": {
            "text/html": [
              "<div>\n",
              "<style scoped>\n",
              "    .dataframe tbody tr th:only-of-type {\n",
              "        vertical-align: middle;\n",
              "    }\n",
              "\n",
              "    .dataframe tbody tr th {\n",
              "        vertical-align: top;\n",
              "    }\n",
              "\n",
              "    .dataframe thead th {\n",
              "        text-align: right;\n",
              "    }\n",
              "</style>\n",
              "<table border=\"1\" class=\"dataframe\">\n",
              "  <thead>\n",
              "    <tr style=\"text-align: right;\">\n",
              "      <th></th>\n",
              "      <th>param_weights</th>\n",
              "      <th>param_n_neighbors</th>\n",
              "      <th>param_metric</th>\n",
              "      <th>mean_test_score</th>\n",
              "    </tr>\n",
              "  </thead>\n",
              "  <tbody>\n",
              "    <tr>\n",
              "      <th>0</th>\n",
              "      <td>uniform</td>\n",
              "      <td>3</td>\n",
              "      <td>manhattan</td>\n",
              "      <td>0.851613</td>\n",
              "    </tr>\n",
              "    <tr>\n",
              "      <th>1</th>\n",
              "      <td>distance</td>\n",
              "      <td>3</td>\n",
              "      <td>manhattan</td>\n",
              "      <td>0.868909</td>\n",
              "    </tr>\n",
              "    <tr>\n",
              "      <th>2</th>\n",
              "      <td>uniform</td>\n",
              "      <td>5</td>\n",
              "      <td>manhattan</td>\n",
              "      <td>0.840744</td>\n",
              "    </tr>\n",
              "    <tr>\n",
              "      <th>3</th>\n",
              "      <td>distance</td>\n",
              "      <td>5</td>\n",
              "      <td>manhattan</td>\n",
              "      <td>0.866527</td>\n",
              "    </tr>\n",
              "    <tr>\n",
              "      <th>4</th>\n",
              "      <td>uniform</td>\n",
              "      <td>7</td>\n",
              "      <td>manhattan</td>\n",
              "      <td>0.827937</td>\n",
              "    </tr>\n",
              "  </tbody>\n",
              "</table>\n",
              "</div>"
            ],
            "text/plain": [
              "  param_weights param_n_neighbors param_metric  mean_test_score\n",
              "0       uniform                 3    manhattan         0.851613\n",
              "1      distance                 3    manhattan         0.868909\n",
              "2       uniform                 5    manhattan         0.840744\n",
              "3      distance                 5    manhattan         0.866527\n",
              "4       uniform                 7    manhattan         0.827937"
            ]
          },
          "metadata": {},
          "execution_count": 49
        }
      ]
    },
    {
      "cell_type": "code",
      "metadata": {
        "colab": {
          "base_uri": "https://localhost:8080/"
        },
        "id": "1ZZyugTCWUED",
        "outputId": "fb9422fb-e9f1-4fd0-e226-cada34c2a726"
      },
      "source": [
        "print(f'R2 score: {r2_score(y_pred_knr_temp, y_test)}')"
      ],
      "execution_count": null,
      "outputs": [
        {
          "output_type": "stream",
          "name": "stdout",
          "text": [
            "R2 score: 0.8873057645293776\n"
          ]
        }
      ]
    },
    {
      "cell_type": "code",
      "metadata": {
        "colab": {
          "base_uri": "https://localhost:8080/"
        },
        "id": "WaGk5K5uXHm-",
        "outputId": "55d6be62-fb7d-4e1c-f13b-16138ea5a592"
      },
      "source": [
        "print('Mean absolute score (MAE): %.2f'%mean_absolute_error(y_test, y_pred_knr_temp))"
      ],
      "execution_count": null,
      "outputs": [
        {
          "output_type": "stream",
          "name": "stdout",
          "text": [
            "Mean absolute score (MAE): 38.46\n"
          ]
        }
      ]
    },
    {
      "cell_type": "code",
      "metadata": {
        "id": "e_4Jp0UeZ6r6"
      },
      "source": [
        ""
      ],
      "execution_count": null,
      "outputs": []
    },
    {
      "cell_type": "code",
      "metadata": {
        "id": "4t1hLAgLKn5O"
      },
      "source": [
        "X = df_without_temp_encoded.drop(['target'], axis = 1)\n",
        "y = df_without_temp_encoded.target"
      ],
      "execution_count": null,
      "outputs": []
    },
    {
      "cell_type": "code",
      "metadata": {
        "id": "w2nw9w3MZ6Tj"
      },
      "source": [
        "X = scale.fit_transform(X)"
      ],
      "execution_count": null,
      "outputs": []
    },
    {
      "cell_type": "code",
      "metadata": {
        "id": "VPbxC3jOStsl"
      },
      "source": [
        "X_train, X_test, y_train, y_test = train_test_split(X, y)"
      ],
      "execution_count": null,
      "outputs": []
    },
    {
      "cell_type": "code",
      "metadata": {
        "id": "XP_lUCrtaEM2"
      },
      "source": [
        "#K-Nearest Regressor (atemp)\n",
        "knr = GridSearchCV(KNeighborsRegressor(), {\n",
        "    'weights': ['uniform', 'distance'],\n",
        "    'n_neighbors': [3, 5 ,7, 9],\n",
        "    'metric': ['manhattan', 'minkowski', 'euclidean']\n",
        "}, cv = 5, return_train_score = False)\n",
        "\n",
        "knr.fit(X_train, y_train)\n",
        "\n",
        "knr_results_df_2 = pd.DataFrame(knr.cv_results_)"
      ],
      "execution_count": null,
      "outputs": []
    },
    {
      "cell_type": "code",
      "metadata": {
        "id": "paU0xdDvaI6g"
      },
      "source": [
        "y_pred_knr_atemp = knr.predict(X_test)"
      ],
      "execution_count": null,
      "outputs": []
    },
    {
      "cell_type": "code",
      "metadata": {
        "colab": {
          "base_uri": "https://localhost:8080/",
          "height": 206
        },
        "id": "hEn4dtkiaWEG",
        "outputId": "c56f7bae-8587-4149-cfd1-959f2aecb5ad"
      },
      "source": [
        "knr_results_df_2[['param_weights', 'param_n_neighbors', 'param_metric', 'mean_test_score']].head()"
      ],
      "execution_count": null,
      "outputs": [
        {
          "output_type": "execute_result",
          "data": {
            "text/html": [
              "<div>\n",
              "<style scoped>\n",
              "    .dataframe tbody tr th:only-of-type {\n",
              "        vertical-align: middle;\n",
              "    }\n",
              "\n",
              "    .dataframe tbody tr th {\n",
              "        vertical-align: top;\n",
              "    }\n",
              "\n",
              "    .dataframe thead th {\n",
              "        text-align: right;\n",
              "    }\n",
              "</style>\n",
              "<table border=\"1\" class=\"dataframe\">\n",
              "  <thead>\n",
              "    <tr style=\"text-align: right;\">\n",
              "      <th></th>\n",
              "      <th>param_weights</th>\n",
              "      <th>param_n_neighbors</th>\n",
              "      <th>param_metric</th>\n",
              "      <th>mean_test_score</th>\n",
              "    </tr>\n",
              "  </thead>\n",
              "  <tbody>\n",
              "    <tr>\n",
              "      <th>0</th>\n",
              "      <td>uniform</td>\n",
              "      <td>3</td>\n",
              "      <td>manhattan</td>\n",
              "      <td>0.856172</td>\n",
              "    </tr>\n",
              "    <tr>\n",
              "      <th>1</th>\n",
              "      <td>distance</td>\n",
              "      <td>3</td>\n",
              "      <td>manhattan</td>\n",
              "      <td>0.872147</td>\n",
              "    </tr>\n",
              "    <tr>\n",
              "      <th>2</th>\n",
              "      <td>uniform</td>\n",
              "      <td>5</td>\n",
              "      <td>manhattan</td>\n",
              "      <td>0.843012</td>\n",
              "    </tr>\n",
              "    <tr>\n",
              "      <th>3</th>\n",
              "      <td>distance</td>\n",
              "      <td>5</td>\n",
              "      <td>manhattan</td>\n",
              "      <td>0.867595</td>\n",
              "    </tr>\n",
              "    <tr>\n",
              "      <th>4</th>\n",
              "      <td>uniform</td>\n",
              "      <td>7</td>\n",
              "      <td>manhattan</td>\n",
              "      <td>0.831114</td>\n",
              "    </tr>\n",
              "  </tbody>\n",
              "</table>\n",
              "</div>"
            ],
            "text/plain": [
              "  param_weights param_n_neighbors param_metric  mean_test_score\n",
              "0       uniform                 3    manhattan         0.856172\n",
              "1      distance                 3    manhattan         0.872147\n",
              "2       uniform                 5    manhattan         0.843012\n",
              "3      distance                 5    manhattan         0.867595\n",
              "4       uniform                 7    manhattan         0.831114"
            ]
          },
          "metadata": {},
          "execution_count": 57
        }
      ]
    },
    {
      "cell_type": "code",
      "metadata": {
        "colab": {
          "base_uri": "https://localhost:8080/"
        },
        "id": "rvkAB4czaltZ",
        "outputId": "8239cb32-e508-423f-b1bf-54e2b34c4973"
      },
      "source": [
        "print(f'R2 score: {r2_score(y_pred_knr_atemp, y_test)}')"
      ],
      "execution_count": null,
      "outputs": [
        {
          "output_type": "stream",
          "name": "stdout",
          "text": [
            "R2 score: 0.889171124517393\n"
          ]
        }
      ]
    },
    {
      "cell_type": "code",
      "metadata": {
        "colab": {
          "base_uri": "https://localhost:8080/"
        },
        "id": "bplKE9c4aoJH",
        "outputId": "b8d313fb-d66d-42cb-cb09-debc3dc04171"
      },
      "source": [
        "print('Mean absolute score (MAE): %.2f'%mean_absolute_error(y_test, y_pred_knr_atemp))"
      ],
      "execution_count": null,
      "outputs": [
        {
          "output_type": "stream",
          "name": "stdout",
          "text": [
            "Mean absolute score (MAE): 38.29\n"
          ]
        }
      ]
    },
    {
      "cell_type": "markdown",
      "metadata": {
        "id": "pTeeBpKkcwSb"
      },
      "source": [
        "Well, knr performed very well. MAE score is good for both classifiers"
      ]
    },
    {
      "cell_type": "markdown",
      "metadata": {
        "id": "Wrq1ycVMdFjv"
      },
      "source": [
        "## Decision Tree Regressor"
      ]
    },
    {
      "cell_type": "code",
      "metadata": {
        "id": "8_dlUMMjdDzG"
      },
      "source": [
        "X = df_without_atemp.drop(['target'], axis = 1)\n",
        "y = df_without_atemp.target"
      ],
      "execution_count": null,
      "outputs": []
    },
    {
      "cell_type": "code",
      "metadata": {
        "id": "j4e7FP-KdTCQ"
      },
      "source": [
        "X_train, X_test, y_train, y_test = train_test_split(X, y)"
      ],
      "execution_count": null,
      "outputs": []
    },
    {
      "cell_type": "code",
      "metadata": {
        "colab": {
          "base_uri": "https://localhost:8080/",
          "height": 206
        },
        "id": "5n1Ji-X9fEEb",
        "outputId": "50230e35-d58d-466b-8461-5734cb8ae441"
      },
      "source": [
        "#Decision Tree Regressor (temp)\n",
        "dtr_temp = GridSearchCV(DecisionTreeRegressor(),{\n",
        "    'max_depth': [3, 7, 15],\n",
        "    'min_samples_split': [0.2, 0.5, 1, 2],\n",
        "    'min_samples_leaf':[0.1, 0.5, 2],\n",
        "    'max_features': ['sqrt', 'log2', 'auto']\n",
        "}, cv = 5, return_train_score = False)\n",
        "\n",
        "dtr_temp.fit(X_train, y_train)\n",
        "pd.DataFrame(dtr_temp.cv_results_)[['param_max_depth','param_min_samples_split', 'param_min_samples_leaf', 'param_max_features', 'mean_test_score']].head()"
      ],
      "execution_count": null,
      "outputs": [
        {
          "output_type": "execute_result",
          "data": {
            "text/html": [
              "<div>\n",
              "<style scoped>\n",
              "    .dataframe tbody tr th:only-of-type {\n",
              "        vertical-align: middle;\n",
              "    }\n",
              "\n",
              "    .dataframe tbody tr th {\n",
              "        vertical-align: top;\n",
              "    }\n",
              "\n",
              "    .dataframe thead th {\n",
              "        text-align: right;\n",
              "    }\n",
              "</style>\n",
              "<table border=\"1\" class=\"dataframe\">\n",
              "  <thead>\n",
              "    <tr style=\"text-align: right;\">\n",
              "      <th></th>\n",
              "      <th>param_max_depth</th>\n",
              "      <th>param_min_samples_split</th>\n",
              "      <th>param_min_samples_leaf</th>\n",
              "      <th>param_max_features</th>\n",
              "      <th>mean_test_score</th>\n",
              "    </tr>\n",
              "  </thead>\n",
              "  <tbody>\n",
              "    <tr>\n",
              "      <th>0</th>\n",
              "      <td>3</td>\n",
              "      <td>0.2</td>\n",
              "      <td>0.1</td>\n",
              "      <td>sqrt</td>\n",
              "      <td>0.545489</td>\n",
              "    </tr>\n",
              "    <tr>\n",
              "      <th>1</th>\n",
              "      <td>3</td>\n",
              "      <td>0.5</td>\n",
              "      <td>0.1</td>\n",
              "      <td>sqrt</td>\n",
              "      <td>0.637057</td>\n",
              "    </tr>\n",
              "    <tr>\n",
              "      <th>2</th>\n",
              "      <td>3</td>\n",
              "      <td>1</td>\n",
              "      <td>0.1</td>\n",
              "      <td>sqrt</td>\n",
              "      <td>NaN</td>\n",
              "    </tr>\n",
              "    <tr>\n",
              "      <th>3</th>\n",
              "      <td>3</td>\n",
              "      <td>2</td>\n",
              "      <td>0.1</td>\n",
              "      <td>sqrt</td>\n",
              "      <td>0.596931</td>\n",
              "    </tr>\n",
              "    <tr>\n",
              "      <th>4</th>\n",
              "      <td>3</td>\n",
              "      <td>0.2</td>\n",
              "      <td>0.5</td>\n",
              "      <td>sqrt</td>\n",
              "      <td>-0.000528</td>\n",
              "    </tr>\n",
              "  </tbody>\n",
              "</table>\n",
              "</div>"
            ],
            "text/plain": [
              "  param_max_depth param_min_samples_split  ... param_max_features mean_test_score\n",
              "0               3                     0.2  ...               sqrt        0.545489\n",
              "1               3                     0.5  ...               sqrt        0.637057\n",
              "2               3                       1  ...               sqrt             NaN\n",
              "3               3                       2  ...               sqrt        0.596931\n",
              "4               3                     0.2  ...               sqrt       -0.000528\n",
              "\n",
              "[5 rows x 5 columns]"
            ]
          },
          "metadata": {},
          "execution_count": 91
        }
      ]
    },
    {
      "cell_type": "code",
      "metadata": {
        "id": "seo6qcX2iWCM"
      },
      "source": [
        "y_pred_dtr_temp = dtr_temp.predict(X_test)"
      ],
      "execution_count": null,
      "outputs": []
    },
    {
      "cell_type": "code",
      "metadata": {
        "colab": {
          "base_uri": "https://localhost:8080/"
        },
        "id": "6RoP_PT0jFKe",
        "outputId": "4c967655-b2ed-4b00-e695-0966473c4951"
      },
      "source": [
        "print(f'R2 score: {r2_score(y_pred_dtr_temp, y_test)}')"
      ],
      "execution_count": null,
      "outputs": [
        {
          "output_type": "stream",
          "name": "stdout",
          "text": [
            "R2 score: 0.9992432636873388\n"
          ]
        }
      ]
    },
    {
      "cell_type": "code",
      "metadata": {
        "colab": {
          "base_uri": "https://localhost:8080/"
        },
        "id": "hIFUA9IfjFv7",
        "outputId": "1adb69a4-b6a1-4bfa-fb03-994fab7d72aa"
      },
      "source": [
        "print('Mean absolute score (MAE): %.2f'%mean_absolute_error(y_test, y_pred_dtr_temp))"
      ],
      "execution_count": null,
      "outputs": [
        {
          "output_type": "stream",
          "name": "stdout",
          "text": [
            "Mean absolute score (MAE): 2.43\n"
          ]
        }
      ]
    },
    {
      "cell_type": "code",
      "metadata": {
        "id": "Rv4S7ypVjVY1"
      },
      "source": [
        ""
      ],
      "execution_count": null,
      "outputs": []
    },
    {
      "cell_type": "code",
      "metadata": {
        "id": "2Z6-cgROjiRt"
      },
      "source": [
        "X = df_without_temp.drop(['target'], axis = 1)\n",
        "y = df_without_temp.target"
      ],
      "execution_count": null,
      "outputs": []
    },
    {
      "cell_type": "code",
      "metadata": {
        "id": "gNn6Oi6Mj2Hw"
      },
      "source": [
        "X_train, X_test, y_train, y_test = train_test_split(X, y)"
      ],
      "execution_count": null,
      "outputs": []
    },
    {
      "cell_type": "code",
      "metadata": {
        "colab": {
          "base_uri": "https://localhost:8080/",
          "height": 206
        },
        "id": "SFkle7dPjuQk",
        "outputId": "a648f6d2-42a4-4b84-8ea3-caa74eb53408"
      },
      "source": [
        "#Decision Tree Regressor (atemp)\n",
        "dtr_atemp = GridSearchCV(DecisionTreeRegressor(),{\n",
        "    'max_depth': [3, 7, 15],\n",
        "    'min_samples_split': [0.2, 0.5, 1, 2],\n",
        "    'min_samples_leaf':[0.1, 0.5, 2],\n",
        "    'max_features': ['sqrt', 'log2', 'auto']\n",
        "}, cv = 5, return_train_score = False)\n",
        "\n",
        "dtr_atemp.fit(X_train, y_train)\n",
        "pd.DataFrame(dtr_atemp.cv_results_)[['param_max_depth','param_min_samples_split', 'param_min_samples_leaf', 'param_max_features', 'mean_test_score']].head()"
      ],
      "execution_count": null,
      "outputs": [
        {
          "output_type": "execute_result",
          "data": {
            "text/html": [
              "<div>\n",
              "<style scoped>\n",
              "    .dataframe tbody tr th:only-of-type {\n",
              "        vertical-align: middle;\n",
              "    }\n",
              "\n",
              "    .dataframe tbody tr th {\n",
              "        vertical-align: top;\n",
              "    }\n",
              "\n",
              "    .dataframe thead th {\n",
              "        text-align: right;\n",
              "    }\n",
              "</style>\n",
              "<table border=\"1\" class=\"dataframe\">\n",
              "  <thead>\n",
              "    <tr style=\"text-align: right;\">\n",
              "      <th></th>\n",
              "      <th>param_max_depth</th>\n",
              "      <th>param_min_samples_split</th>\n",
              "      <th>param_min_samples_leaf</th>\n",
              "      <th>param_max_features</th>\n",
              "      <th>mean_test_score</th>\n",
              "    </tr>\n",
              "  </thead>\n",
              "  <tbody>\n",
              "    <tr>\n",
              "      <th>0</th>\n",
              "      <td>3</td>\n",
              "      <td>0.2</td>\n",
              "      <td>0.1</td>\n",
              "      <td>sqrt</td>\n",
              "      <td>0.569900</td>\n",
              "    </tr>\n",
              "    <tr>\n",
              "      <th>1</th>\n",
              "      <td>3</td>\n",
              "      <td>0.5</td>\n",
              "      <td>0.1</td>\n",
              "      <td>sqrt</td>\n",
              "      <td>0.540517</td>\n",
              "    </tr>\n",
              "    <tr>\n",
              "      <th>2</th>\n",
              "      <td>3</td>\n",
              "      <td>1</td>\n",
              "      <td>0.1</td>\n",
              "      <td>sqrt</td>\n",
              "      <td>NaN</td>\n",
              "    </tr>\n",
              "    <tr>\n",
              "      <th>3</th>\n",
              "      <td>3</td>\n",
              "      <td>2</td>\n",
              "      <td>0.1</td>\n",
              "      <td>sqrt</td>\n",
              "      <td>0.675447</td>\n",
              "    </tr>\n",
              "    <tr>\n",
              "      <th>4</th>\n",
              "      <td>3</td>\n",
              "      <td>0.2</td>\n",
              "      <td>0.5</td>\n",
              "      <td>sqrt</td>\n",
              "      <td>-0.000545</td>\n",
              "    </tr>\n",
              "  </tbody>\n",
              "</table>\n",
              "</div>"
            ],
            "text/plain": [
              "  param_max_depth param_min_samples_split  ... param_max_features mean_test_score\n",
              "0               3                     0.2  ...               sqrt        0.569900\n",
              "1               3                     0.5  ...               sqrt        0.540517\n",
              "2               3                       1  ...               sqrt             NaN\n",
              "3               3                       2  ...               sqrt        0.675447\n",
              "4               3                     0.2  ...               sqrt       -0.000545\n",
              "\n",
              "[5 rows x 5 columns]"
            ]
          },
          "metadata": {},
          "execution_count": 97
        }
      ]
    },
    {
      "cell_type": "code",
      "metadata": {
        "id": "O-Df7bGFj8I4"
      },
      "source": [
        "y_pred_dtr_atemp = dtr_atemp.predict(X_test)"
      ],
      "execution_count": null,
      "outputs": []
    },
    {
      "cell_type": "code",
      "metadata": {
        "colab": {
          "base_uri": "https://localhost:8080/"
        },
        "id": "FhhYJSrEkD8E",
        "outputId": "badfcc78-209b-4ccb-a2e1-6372ef8a2cb2"
      },
      "source": [
        "print(f'R2 score: {r2_score(y_pred_dtr_atemp, y_test)}')"
      ],
      "execution_count": null,
      "outputs": [
        {
          "output_type": "stream",
          "name": "stdout",
          "text": [
            "R2 score: 0.9992492711861036\n"
          ]
        }
      ]
    },
    {
      "cell_type": "code",
      "metadata": {
        "colab": {
          "base_uri": "https://localhost:8080/"
        },
        "id": "jXDCQHgzkHKS",
        "outputId": "481fdcbc-e473-49bd-dc8e-4e5073fb49ed"
      },
      "source": [
        "print('Mean absolute score (MAE): %.2f'%mean_absolute_error(y_test, y_pred_dtr_atemp))"
      ],
      "execution_count": null,
      "outputs": [
        {
          "output_type": "stream",
          "name": "stdout",
          "text": [
            "Mean absolute score (MAE): 2.40\n"
          ]
        }
      ]
    },
    {
      "cell_type": "markdown",
      "metadata": {
        "id": "G6whzxfakTFr"
      },
      "source": [
        "The results for Decision Tree Regressor impress me"
      ]
    },
    {
      "cell_type": "markdown",
      "metadata": {
        "id": "JpmTytDXky99"
      },
      "source": [
        "## Random Forest"
      ]
    },
    {
      "cell_type": "code",
      "metadata": {
        "id": "PAU_2LuYkMEj"
      },
      "source": [
        "X = df_without_atemp.drop(['target'], axis = 1)\n",
        "y = df_without_atemp.target"
      ],
      "execution_count": null,
      "outputs": []
    },
    {
      "cell_type": "code",
      "metadata": {
        "id": "dnaKZTQhGNVU"
      },
      "source": [
        "X_train, X_test, y_train, y_test = train_test_split(X, y)"
      ],
      "execution_count": null,
      "outputs": []
    },
    {
      "cell_type": "code",
      "metadata": {
        "colab": {
          "base_uri": "https://localhost:8080/",
          "height": 258
        },
        "id": "iuU3Ts9gGd8R",
        "outputId": "6e09ced5-ff5b-42cb-9eae-75710448d0b5"
      },
      "source": [
        "#Random Forest (temp)\n",
        "\n",
        "rf_temp = RandomizedSearchCV(RandomForestRegressor(), {\n",
        "    'bootstrap': [True],\n",
        "    'max_depth': [80, 90, 100, 110],\n",
        "    'max_features': [2, 3],\n",
        "    'min_samples_leaf': [3, 4, 5],\n",
        "    'min_samples_split': [8, 10, 12],\n",
        "    'n_estimators': [100, 200, 300, 1000]\n",
        "}, cv = 3, n_jobs = -1, verbose = 2)\n",
        "\n",
        "rf_temp.fit(X_train, y_train)\n",
        "pd.DataFrame(rf_temp.cv_results_)[['param_bootstrap', 'param_max_depth', 'param_max_features', 'param_min_samples_leaf', \n",
        "                                   'param_min_samples_split', 'param_n_estimators', 'mean_test_score']].head()"
      ],
      "execution_count": null,
      "outputs": [
        {
          "output_type": "stream",
          "name": "stdout",
          "text": [
            "Fitting 3 folds for each of 10 candidates, totalling 30 fits\n"
          ]
        },
        {
          "output_type": "stream",
          "name": "stderr",
          "text": [
            "[Parallel(n_jobs=-1)]: Using backend LokyBackend with 2 concurrent workers.\n",
            "[Parallel(n_jobs=-1)]: Done  30 out of  30 | elapsed:  1.4min finished\n"
          ]
        },
        {
          "output_type": "execute_result",
          "data": {
            "text/html": [
              "<div>\n",
              "<style scoped>\n",
              "    .dataframe tbody tr th:only-of-type {\n",
              "        vertical-align: middle;\n",
              "    }\n",
              "\n",
              "    .dataframe tbody tr th {\n",
              "        vertical-align: top;\n",
              "    }\n",
              "\n",
              "    .dataframe thead th {\n",
              "        text-align: right;\n",
              "    }\n",
              "</style>\n",
              "<table border=\"1\" class=\"dataframe\">\n",
              "  <thead>\n",
              "    <tr style=\"text-align: right;\">\n",
              "      <th></th>\n",
              "      <th>param_bootstrap</th>\n",
              "      <th>param_max_depth</th>\n",
              "      <th>param_max_features</th>\n",
              "      <th>param_min_samples_leaf</th>\n",
              "      <th>param_min_samples_split</th>\n",
              "      <th>param_n_estimators</th>\n",
              "      <th>mean_test_score</th>\n",
              "    </tr>\n",
              "  </thead>\n",
              "  <tbody>\n",
              "    <tr>\n",
              "      <th>0</th>\n",
              "      <td>True</td>\n",
              "      <td>100</td>\n",
              "      <td>3</td>\n",
              "      <td>3</td>\n",
              "      <td>8</td>\n",
              "      <td>100</td>\n",
              "      <td>0.992134</td>\n",
              "    </tr>\n",
              "    <tr>\n",
              "      <th>1</th>\n",
              "      <td>True</td>\n",
              "      <td>80</td>\n",
              "      <td>3</td>\n",
              "      <td>5</td>\n",
              "      <td>12</td>\n",
              "      <td>100</td>\n",
              "      <td>0.989584</td>\n",
              "    </tr>\n",
              "    <tr>\n",
              "      <th>2</th>\n",
              "      <td>True</td>\n",
              "      <td>100</td>\n",
              "      <td>2</td>\n",
              "      <td>3</td>\n",
              "      <td>12</td>\n",
              "      <td>300</td>\n",
              "      <td>0.975678</td>\n",
              "    </tr>\n",
              "    <tr>\n",
              "      <th>3</th>\n",
              "      <td>True</td>\n",
              "      <td>110</td>\n",
              "      <td>3</td>\n",
              "      <td>4</td>\n",
              "      <td>8</td>\n",
              "      <td>1000</td>\n",
              "      <td>0.991876</td>\n",
              "    </tr>\n",
              "    <tr>\n",
              "      <th>4</th>\n",
              "      <td>True</td>\n",
              "      <td>90</td>\n",
              "      <td>2</td>\n",
              "      <td>5</td>\n",
              "      <td>8</td>\n",
              "      <td>100</td>\n",
              "      <td>0.973678</td>\n",
              "    </tr>\n",
              "  </tbody>\n",
              "</table>\n",
              "</div>"
            ],
            "text/plain": [
              "  param_bootstrap param_max_depth  ... param_n_estimators mean_test_score\n",
              "0            True             100  ...                100        0.992134\n",
              "1            True              80  ...                100        0.989584\n",
              "2            True             100  ...                300        0.975678\n",
              "3            True             110  ...               1000        0.991876\n",
              "4            True              90  ...                100        0.973678\n",
              "\n",
              "[5 rows x 7 columns]"
            ]
          },
          "metadata": {},
          "execution_count": 40
        }
      ]
    },
    {
      "cell_type": "code",
      "metadata": {
        "id": "rcpGZ0uRIDTF"
      },
      "source": [
        "y_pred_rf_temp = rf_temp.predict(X_test)"
      ],
      "execution_count": null,
      "outputs": []
    },
    {
      "cell_type": "code",
      "metadata": {
        "colab": {
          "base_uri": "https://localhost:8080/"
        },
        "id": "Lc2vTH7bIX6y",
        "outputId": "0c1de522-e175-486f-8f47-a1248efb0343"
      },
      "source": [
        "print(f'R2 score: {r2_score(y_pred_rf_temp, y_test)}')"
      ],
      "execution_count": null,
      "outputs": [
        {
          "output_type": "stream",
          "name": "stdout",
          "text": [
            "R2 score: 0.9948803936725028\n"
          ]
        }
      ]
    },
    {
      "cell_type": "code",
      "metadata": {
        "colab": {
          "base_uri": "https://localhost:8080/"
        },
        "id": "gB6kvGJXIebN",
        "outputId": "cd26ee15-87d4-4bd2-fc20-2db652ef95be"
      },
      "source": [
        "print('Mean absolute score (MAE): %.2f'%mean_absolute_error(y_test, y_pred_rf_temp))"
      ],
      "execution_count": null,
      "outputs": [
        {
          "output_type": "stream",
          "name": "stdout",
          "text": [
            "Mean absolute score (MAE): 7.32\n"
          ]
        }
      ]
    },
    {
      "cell_type": "code",
      "metadata": {
        "id": "89pHsliJIlSH"
      },
      "source": [
        ""
      ],
      "execution_count": null,
      "outputs": []
    },
    {
      "cell_type": "code",
      "metadata": {
        "id": "RKXHV40DIlyk"
      },
      "source": [
        "X = df_without_temp.drop(['target'], axis = 1)\n",
        "y = df_without_temp.target"
      ],
      "execution_count": null,
      "outputs": []
    },
    {
      "cell_type": "code",
      "metadata": {
        "id": "eiJFSq71Incd"
      },
      "source": [
        "X_train, X_test, y_train, y_test = train_test_split(X, y)"
      ],
      "execution_count": null,
      "outputs": []
    },
    {
      "cell_type": "code",
      "metadata": {
        "colab": {
          "base_uri": "https://localhost:8080/",
          "height": 258
        },
        "id": "PpcCipiGIqsg",
        "outputId": "77a634a5-594b-4e88-ab98-8773996e1043"
      },
      "source": [
        "#Random Forest (atemp)\n",
        "\n",
        "rf_atemp = RandomizedSearchCV(RandomForestRegressor(), {\n",
        "    'bootstrap': [True],\n",
        "    'max_depth': [80, 90, 100, 110],\n",
        "    'max_features': [2, 3],\n",
        "    'min_samples_leaf': [3, 4, 5],\n",
        "    'min_samples_split': [8, 10, 12],\n",
        "    'n_estimators': [100, 200, 300, 1000]\n",
        "}, cv = 3, n_jobs = -1, verbose = 2)\n",
        "\n",
        "rf_atemp.fit(X_train, y_train)\n",
        "pd.DataFrame(rf_atemp.cv_results_)[['param_bootstrap', 'param_max_depth', 'param_max_features', 'param_min_samples_leaf', \n",
        "                                    'param_min_samples_split', 'param_n_estimators', 'mean_test_score']].head()"
      ],
      "execution_count": null,
      "outputs": [
        {
          "output_type": "stream",
          "name": "stdout",
          "text": [
            "Fitting 3 folds for each of 10 candidates, totalling 30 fits\n"
          ]
        },
        {
          "output_type": "stream",
          "name": "stderr",
          "text": [
            "[Parallel(n_jobs=-1)]: Using backend LokyBackend with 2 concurrent workers.\n",
            "[Parallel(n_jobs=-1)]: Done  30 out of  30 | elapsed:  1.1min finished\n"
          ]
        },
        {
          "output_type": "execute_result",
          "data": {
            "text/html": [
              "<div>\n",
              "<style scoped>\n",
              "    .dataframe tbody tr th:only-of-type {\n",
              "        vertical-align: middle;\n",
              "    }\n",
              "\n",
              "    .dataframe tbody tr th {\n",
              "        vertical-align: top;\n",
              "    }\n",
              "\n",
              "    .dataframe thead th {\n",
              "        text-align: right;\n",
              "    }\n",
              "</style>\n",
              "<table border=\"1\" class=\"dataframe\">\n",
              "  <thead>\n",
              "    <tr style=\"text-align: right;\">\n",
              "      <th></th>\n",
              "      <th>param_bootstrap</th>\n",
              "      <th>param_max_depth</th>\n",
              "      <th>param_max_features</th>\n",
              "      <th>param_min_samples_leaf</th>\n",
              "      <th>param_min_samples_split</th>\n",
              "      <th>param_n_estimators</th>\n",
              "      <th>mean_test_score</th>\n",
              "    </tr>\n",
              "  </thead>\n",
              "  <tbody>\n",
              "    <tr>\n",
              "      <th>0</th>\n",
              "      <td>True</td>\n",
              "      <td>110</td>\n",
              "      <td>3</td>\n",
              "      <td>4</td>\n",
              "      <td>12</td>\n",
              "      <td>300</td>\n",
              "      <td>0.990417</td>\n",
              "    </tr>\n",
              "    <tr>\n",
              "      <th>1</th>\n",
              "      <td>True</td>\n",
              "      <td>90</td>\n",
              "      <td>2</td>\n",
              "      <td>4</td>\n",
              "      <td>8</td>\n",
              "      <td>200</td>\n",
              "      <td>0.976574</td>\n",
              "    </tr>\n",
              "    <tr>\n",
              "      <th>2</th>\n",
              "      <td>True</td>\n",
              "      <td>80</td>\n",
              "      <td>3</td>\n",
              "      <td>5</td>\n",
              "      <td>10</td>\n",
              "      <td>1000</td>\n",
              "      <td>0.991028</td>\n",
              "    </tr>\n",
              "    <tr>\n",
              "      <th>3</th>\n",
              "      <td>True</td>\n",
              "      <td>100</td>\n",
              "      <td>2</td>\n",
              "      <td>3</td>\n",
              "      <td>8</td>\n",
              "      <td>200</td>\n",
              "      <td>0.978813</td>\n",
              "    </tr>\n",
              "    <tr>\n",
              "      <th>4</th>\n",
              "      <td>True</td>\n",
              "      <td>110</td>\n",
              "      <td>2</td>\n",
              "      <td>3</td>\n",
              "      <td>12</td>\n",
              "      <td>100</td>\n",
              "      <td>0.973622</td>\n",
              "    </tr>\n",
              "  </tbody>\n",
              "</table>\n",
              "</div>"
            ],
            "text/plain": [
              "  param_bootstrap param_max_depth  ... param_n_estimators mean_test_score\n",
              "0            True             110  ...                300        0.990417\n",
              "1            True              90  ...                200        0.976574\n",
              "2            True              80  ...               1000        0.991028\n",
              "3            True             100  ...                200        0.978813\n",
              "4            True             110  ...                100        0.973622\n",
              "\n",
              "[5 rows x 7 columns]"
            ]
          },
          "metadata": {},
          "execution_count": 46
        }
      ]
    },
    {
      "cell_type": "code",
      "metadata": {
        "id": "lIlZ-LSxJBX3"
      },
      "source": [
        "y_pred_rf_atemp = rf_atemp.predict(X_test) "
      ],
      "execution_count": null,
      "outputs": []
    },
    {
      "cell_type": "code",
      "metadata": {
        "colab": {
          "base_uri": "https://localhost:8080/"
        },
        "id": "iYXkcztDJDnI",
        "outputId": "60d6fca2-b3ca-4de1-9988-2be68e2486e7"
      },
      "source": [
        "print(f'R2 score: {r2_score(y_pred_rf_atemp, y_test)}')"
      ],
      "execution_count": null,
      "outputs": [
        {
          "output_type": "stream",
          "name": "stdout",
          "text": [
            "R2 score: 0.9918701662778985\n"
          ]
        }
      ]
    },
    {
      "cell_type": "code",
      "metadata": {
        "colab": {
          "base_uri": "https://localhost:8080/"
        },
        "id": "4ZccqC7YJG56",
        "outputId": "6216441c-a5dd-4cd3-efaf-fc39a7773dee"
      },
      "source": [
        "print('Mean absolute score (MAE): %.2f'%mean_absolute_error(y_test, y_pred_rf_atemp))"
      ],
      "execution_count": null,
      "outputs": [
        {
          "output_type": "stream",
          "name": "stdout",
          "text": [
            "Mean absolute score (MAE): 8.31\n"
          ]
        }
      ]
    },
    {
      "cell_type": "markdown",
      "metadata": {
        "id": "ChwK58dnKeDK"
      },
      "source": [
        "Random Forest performed a little bit worse than Decision Tree. I think it is because was used Random instead of Grid search "
      ]
    },
    {
      "cell_type": "markdown",
      "metadata": {
        "id": "nYN0okqWL9sv"
      },
      "source": [
        "## SVM Regressor"
      ]
    },
    {
      "cell_type": "code",
      "metadata": {
        "id": "BzuIUBNyL9V8"
      },
      "source": [
        "X = df_without_atemp_encoded.drop(['target'], axis = 1)\n",
        "y = df_without_atemp_encoded.target"
      ],
      "execution_count": null,
      "outputs": []
    },
    {
      "cell_type": "code",
      "metadata": {
        "id": "MD1LiWgKN6lG"
      },
      "source": [
        "X = scale.fit_transform(X)"
      ],
      "execution_count": null,
      "outputs": []
    },
    {
      "cell_type": "code",
      "metadata": {
        "id": "j_PYRbNJKTXZ"
      },
      "source": [
        "X_train, X_test, y_train, y_test = train_test_split(X, y)"
      ],
      "execution_count": null,
      "outputs": []
    },
    {
      "cell_type": "code",
      "metadata": {
        "id": "-ekgZRI_Rkb1"
      },
      "source": [
        "#SVR (temp)\n",
        "svr_temp = RandomizedSearchCV(SVR(), {\n",
        "    'kernel': ['linear', 'poly', 'rbf', 'sigmoid'],\n",
        "    'C': [1, 0.1, 0.01, 0.001, 10, 100],\n",
        "    'gamma': [1, 0.1, 0.01, 0.001]\n",
        "}, cv = 3, refit=True, verbose=2)\n",
        "\n",
        "svr_temp.fit(X_train, y_train)"
      ],
      "execution_count": null,
      "outputs": []
    },
    {
      "cell_type": "code",
      "metadata": {
        "colab": {
          "base_uri": "https://localhost:8080/"
        },
        "id": "Ghq8-vF60-IP",
        "outputId": "dcf30898-3c40-4a96-bf64-9d2cace409e3"
      },
      "source": [
        "svr_temp.best_estimator_"
      ],
      "execution_count": null,
      "outputs": [
        {
          "output_type": "execute_result",
          "data": {
            "text/plain": [
              "SVR(C=0.1, cache_size=200, coef0=0.0, degree=3, epsilon=0.1, gamma=0.01,\n",
              "    kernel='linear', max_iter=-1, shrinking=True, tol=0.001, verbose=False)"
            ]
          },
          "metadata": {},
          "execution_count": 44
        }
      ]
    },
    {
      "cell_type": "code",
      "metadata": {
        "colab": {
          "base_uri": "https://localhost:8080/",
          "height": 204
        },
        "id": "k9xxAtpHz8nL",
        "outputId": "555c28fd-f97a-4cdc-d604-90c8488527aa"
      },
      "source": [
        "pd.DataFrame(svr_temp.cv_results_)[['param_kernel', 'param_C', 'param_gamma','mean_test_score']].head()"
      ],
      "execution_count": null,
      "outputs": [
        {
          "output_type": "execute_result",
          "data": {
            "text/html": [
              "<div>\n",
              "<style scoped>\n",
              "    .dataframe tbody tr th:only-of-type {\n",
              "        vertical-align: middle;\n",
              "    }\n",
              "\n",
              "    .dataframe tbody tr th {\n",
              "        vertical-align: top;\n",
              "    }\n",
              "\n",
              "    .dataframe thead th {\n",
              "        text-align: right;\n",
              "    }\n",
              "</style>\n",
              "<table border=\"1\" class=\"dataframe\">\n",
              "  <thead>\n",
              "    <tr style=\"text-align: right;\">\n",
              "      <th></th>\n",
              "      <th>param_kernel</th>\n",
              "      <th>param_C</th>\n",
              "      <th>param_gamma</th>\n",
              "      <th>mean_test_score</th>\n",
              "    </tr>\n",
              "  </thead>\n",
              "  <tbody>\n",
              "    <tr>\n",
              "      <th>0</th>\n",
              "      <td>poly</td>\n",
              "      <td>1</td>\n",
              "      <td>0.01</td>\n",
              "      <td>-0.041199</td>\n",
              "    </tr>\n",
              "    <tr>\n",
              "      <th>1</th>\n",
              "      <td>rbf</td>\n",
              "      <td>0.1</td>\n",
              "      <td>1</td>\n",
              "      <td>-0.067532</td>\n",
              "    </tr>\n",
              "    <tr>\n",
              "      <th>2</th>\n",
              "      <td>sigmoid</td>\n",
              "      <td>100</td>\n",
              "      <td>0.001</td>\n",
              "      <td>1.000000</td>\n",
              "    </tr>\n",
              "    <tr>\n",
              "      <th>3</th>\n",
              "      <td>poly</td>\n",
              "      <td>0.1</td>\n",
              "      <td>0.001</td>\n",
              "      <td>-0.068212</td>\n",
              "    </tr>\n",
              "    <tr>\n",
              "      <th>4</th>\n",
              "      <td>poly</td>\n",
              "      <td>10</td>\n",
              "      <td>0.1</td>\n",
              "      <td>1.000000</td>\n",
              "    </tr>\n",
              "  </tbody>\n",
              "</table>\n",
              "</div>"
            ],
            "text/plain": [
              "  param_kernel param_C param_gamma  mean_test_score\n",
              "0         poly       1        0.01        -0.041199\n",
              "1          rbf     0.1           1        -0.067532\n",
              "2      sigmoid     100       0.001         1.000000\n",
              "3         poly     0.1       0.001        -0.068212\n",
              "4         poly      10         0.1         1.000000"
            ]
          },
          "metadata": {},
          "execution_count": 60
        }
      ]
    },
    {
      "cell_type": "code",
      "metadata": {
        "id": "7q_Y92diOOsz"
      },
      "source": [
        "y_pred_svr_temp = svr_temp.predict(X_test)"
      ],
      "execution_count": null,
      "outputs": []
    },
    {
      "cell_type": "code",
      "metadata": {
        "id": "4AYCJ3gYOevU",
        "colab": {
          "base_uri": "https://localhost:8080/"
        },
        "outputId": "41fcc85b-6aca-4c55-d6df-34277394deb4"
      },
      "source": [
        "print(f'R2 score: {r2_score(y_pred_svr_temp, y_test)}')"
      ],
      "execution_count": null,
      "outputs": [
        {
          "output_type": "stream",
          "name": "stdout",
          "text": [
            "R2 score: 0.9999998994175243\n"
          ]
        }
      ]
    },
    {
      "cell_type": "code",
      "metadata": {
        "id": "EF462oPeOiDz",
        "colab": {
          "base_uri": "https://localhost:8080/"
        },
        "outputId": "b104850d-b6b2-45e1-f9b7-dd6e6ff7fb13"
      },
      "source": [
        "print(f'Mean absolute score (MAE): %.2f'%mean_absolute_error(y_test, y_pred_svr_temp))"
      ],
      "execution_count": null,
      "outputs": [
        {
          "output_type": "stream",
          "name": "stdout",
          "text": [
            "Mean absolute score (MAE): 0.05\n"
          ]
        }
      ]
    },
    {
      "cell_type": "code",
      "metadata": {
        "id": "PVhgIhXv7q1B"
      },
      "source": [
        ""
      ],
      "execution_count": null,
      "outputs": []
    },
    {
      "cell_type": "code",
      "metadata": {
        "id": "G-BFEWBD7rfj"
      },
      "source": [
        "X = df_without_temp_encoded.drop(['target'], axis = 1)\n",
        "y = df_without_temp_encoded.target"
      ],
      "execution_count": null,
      "outputs": []
    },
    {
      "cell_type": "code",
      "metadata": {
        "id": "aZmsSKlN9DhU"
      },
      "source": [
        "X = scale.fit_transform(X)"
      ],
      "execution_count": null,
      "outputs": []
    },
    {
      "cell_type": "code",
      "metadata": {
        "id": "ON0qTy3n8DHZ"
      },
      "source": [
        "X_train, X_test, y_train, y_test = train_test_split(X, y)"
      ],
      "execution_count": null,
      "outputs": []
    },
    {
      "cell_type": "code",
      "metadata": {
        "colab": {
          "base_uri": "https://localhost:8080/",
          "height": 952
        },
        "id": "FooqaCOj8KdN",
        "outputId": "509f5e29-a373-49f5-cb6c-798d2a36ae01"
      },
      "source": [
        "#SVR (atemp)\n",
        "svr_atemp = RandomizedSearchCV(SVR(), {\n",
        "     'kernel': ['linear', 'poly', 'sigmoid'],\n",
        "    'C': [1, 0.1, 0.01],\n",
        "    'gamma': [1, 0.01, 0.001]\n",
        "}, cv = 2, refit=True, verbose=2)\n",
        "\n",
        "svr_atemp.fit(X_train, y_train)\n",
        "pd.DataFrame(svr_atemp.cv_results_)[['param_kernel', 'param_C', 'param_gamma','mean_test_score']].head()"
      ],
      "execution_count": null,
      "outputs": [
        {
          "output_type": "stream",
          "name": "stdout",
          "text": [
            "Fitting 2 folds for each of 10 candidates, totalling 20 fits\n",
            "[CV] kernel=poly, gamma=0.001, C=1 ...................................\n"
          ]
        },
        {
          "output_type": "stream",
          "name": "stderr",
          "text": [
            "[Parallel(n_jobs=1)]: Using backend SequentialBackend with 1 concurrent workers.\n"
          ]
        },
        {
          "output_type": "stream",
          "name": "stdout",
          "text": [
            "[CV] .................... kernel=poly, gamma=0.001, C=1, total=   5.1s\n",
            "[CV] kernel=poly, gamma=0.001, C=1 ...................................\n"
          ]
        },
        {
          "output_type": "stream",
          "name": "stderr",
          "text": [
            "[Parallel(n_jobs=1)]: Done   1 out of   1 | elapsed:    5.1s remaining:    0.0s\n"
          ]
        },
        {
          "output_type": "stream",
          "name": "stdout",
          "text": [
            "[CV] .................... kernel=poly, gamma=0.001, C=1, total=   4.9s\n",
            "[CV] kernel=sigmoid, gamma=1, C=0.01 .................................\n",
            "[CV] .................. kernel=sigmoid, gamma=1, C=0.01, total=   8.3s\n",
            "[CV] kernel=sigmoid, gamma=1, C=0.01 .................................\n",
            "[CV] .................. kernel=sigmoid, gamma=1, C=0.01, total=   8.3s\n",
            "[CV] kernel=sigmoid, gamma=0.001, C=0.01 .............................\n",
            "[CV] .............. kernel=sigmoid, gamma=0.001, C=0.01, total=   7.2s\n",
            "[CV] kernel=sigmoid, gamma=0.001, C=0.01 .............................\n",
            "[CV] .............. kernel=sigmoid, gamma=0.001, C=0.01, total=   7.2s\n",
            "[CV] kernel=sigmoid, gamma=0.001, C=1 ................................\n",
            "[CV] ................. kernel=sigmoid, gamma=0.001, C=1, total=   7.2s\n",
            "[CV] kernel=sigmoid, gamma=0.001, C=1 ................................\n",
            "[CV] ................. kernel=sigmoid, gamma=0.001, C=1, total=   7.2s\n",
            "[CV] kernel=poly, gamma=1, C=0.01 ....................................\n",
            "[CV] ..................... kernel=poly, gamma=1, C=0.01, total=21.0min\n",
            "[CV] kernel=poly, gamma=1, C=0.01 ....................................\n",
            "[CV] ..................... kernel=poly, gamma=1, C=0.01, total=22.0min\n",
            "[CV] kernel=linear, gamma=0.001, C=0.1 ...............................\n",
            "[CV] ................ kernel=linear, gamma=0.001, C=0.1, total=   2.6s\n",
            "[CV] kernel=linear, gamma=0.001, C=0.1 ...............................\n",
            "[CV] ................ kernel=linear, gamma=0.001, C=0.1, total=   2.5s\n",
            "[CV] kernel=sigmoid, gamma=1, C=1 ....................................\n",
            "[CV] ..................... kernel=sigmoid, gamma=1, C=1, total=   8.7s\n",
            "[CV] kernel=sigmoid, gamma=1, C=1 ....................................\n",
            "[CV] ..................... kernel=sigmoid, gamma=1, C=1, total=   8.8s\n",
            "[CV] kernel=sigmoid, gamma=0.01, C=0.1 ...............................\n",
            "[CV] ................ kernel=sigmoid, gamma=0.01, C=0.1, total=   7.2s\n",
            "[CV] kernel=sigmoid, gamma=0.01, C=0.1 ...............................\n",
            "[CV] ................ kernel=sigmoid, gamma=0.01, C=0.1, total=   7.2s\n",
            "[CV] kernel=linear, gamma=0.01, C=0.01 ...............................\n",
            "[CV] ................ kernel=linear, gamma=0.01, C=0.01, total=   4.4s\n",
            "[CV] kernel=linear, gamma=0.01, C=0.01 ...............................\n",
            "[CV] ................ kernel=linear, gamma=0.01, C=0.01, total=   4.4s\n",
            "[CV] kernel=sigmoid, gamma=0.001, C=0.1 ..............................\n",
            "[CV] ............... kernel=sigmoid, gamma=0.001, C=0.1, total=   7.2s\n",
            "[CV] kernel=sigmoid, gamma=0.001, C=0.1 ..............................\n",
            "[CV] ............... kernel=sigmoid, gamma=0.001, C=0.1, total=   7.2s\n"
          ]
        },
        {
          "output_type": "stream",
          "name": "stderr",
          "text": [
            "[Parallel(n_jobs=1)]: Done  20 out of  20 | elapsed: 45.0min finished\n"
          ]
        },
        {
          "output_type": "execute_result",
          "data": {
            "text/html": [
              "<div>\n",
              "<style scoped>\n",
              "    .dataframe tbody tr th:only-of-type {\n",
              "        vertical-align: middle;\n",
              "    }\n",
              "\n",
              "    .dataframe tbody tr th {\n",
              "        vertical-align: top;\n",
              "    }\n",
              "\n",
              "    .dataframe thead th {\n",
              "        text-align: right;\n",
              "    }\n",
              "</style>\n",
              "<table border=\"1\" class=\"dataframe\">\n",
              "  <thead>\n",
              "    <tr style=\"text-align: right;\">\n",
              "      <th></th>\n",
              "      <th>param_kernel</th>\n",
              "      <th>param_C</th>\n",
              "      <th>param_gamma</th>\n",
              "      <th>mean_test_score</th>\n",
              "    </tr>\n",
              "  </thead>\n",
              "  <tbody>\n",
              "    <tr>\n",
              "      <th>0</th>\n",
              "      <td>poly</td>\n",
              "      <td>1</td>\n",
              "      <td>0.001</td>\n",
              "      <td>-0.067918</td>\n",
              "    </tr>\n",
              "    <tr>\n",
              "      <th>1</th>\n",
              "      <td>sigmoid</td>\n",
              "      <td>0.01</td>\n",
              "      <td>1</td>\n",
              "      <td>0.078601</td>\n",
              "    </tr>\n",
              "    <tr>\n",
              "      <th>2</th>\n",
              "      <td>sigmoid</td>\n",
              "      <td>0.01</td>\n",
              "      <td>0.001</td>\n",
              "      <td>-0.066750</td>\n",
              "    </tr>\n",
              "    <tr>\n",
              "      <th>3</th>\n",
              "      <td>sigmoid</td>\n",
              "      <td>1</td>\n",
              "      <td>0.001</td>\n",
              "      <td>0.049809</td>\n",
              "    </tr>\n",
              "    <tr>\n",
              "      <th>4</th>\n",
              "      <td>poly</td>\n",
              "      <td>0.01</td>\n",
              "      <td>1</td>\n",
              "      <td>0.999999</td>\n",
              "    </tr>\n",
              "  </tbody>\n",
              "</table>\n",
              "</div>"
            ],
            "text/plain": [
              "  param_kernel param_C param_gamma  mean_test_score\n",
              "0         poly       1       0.001        -0.067918\n",
              "1      sigmoid    0.01           1         0.078601\n",
              "2      sigmoid    0.01       0.001        -0.066750\n",
              "3      sigmoid       1       0.001         0.049809\n",
              "4         poly    0.01           1         0.999999"
            ]
          },
          "metadata": {},
          "execution_count": 25
        }
      ]
    },
    {
      "cell_type": "code",
      "metadata": {
        "id": "lyLkbp-Y8hUf"
      },
      "source": [
        "y_pred_svr_atemp = svr_atemp.predict(X_test)"
      ],
      "execution_count": null,
      "outputs": []
    },
    {
      "cell_type": "code",
      "metadata": {
        "colab": {
          "base_uri": "https://localhost:8080/"
        },
        "id": "KSBGxkT-8sN8",
        "outputId": "b8fc2dd9-58c0-4880-a864-e35ace1c2386"
      },
      "source": [
        "print(f'R2 score: {r2_score(y_pred_svr_atemp, y_test)}')"
      ],
      "execution_count": null,
      "outputs": [
        {
          "output_type": "stream",
          "name": "stdout",
          "text": [
            "R2 score: 0.9999998915795477\n"
          ]
        }
      ]
    },
    {
      "cell_type": "code",
      "metadata": {
        "colab": {
          "base_uri": "https://localhost:8080/"
        },
        "id": "FNaNwW8p85z2",
        "outputId": "c541df0a-323c-40a5-8e79-8c268d60374a"
      },
      "source": [
        "print(f'Mean absolute score (MAE): %.2f'%mean_absolute_error(y_test, y_pred_svr_atemp))"
      ],
      "execution_count": null,
      "outputs": [
        {
          "output_type": "stream",
          "name": "stdout",
          "text": [
            "Mean absolute score (MAE): 0.05\n"
          ]
        }
      ]
    },
    {
      "cell_type": "markdown",
      "metadata": {
        "id": "ZBmfcS1B-JnB"
      },
      "source": [
        "SVR performed fantastic"
      ]
    },
    {
      "cell_type": "markdown",
      "metadata": {
        "id": "SugXEg9D-JUK"
      },
      "source": [
        "## AdaBoostRegressor"
      ]
    },
    {
      "cell_type": "code",
      "metadata": {
        "id": "oF1F2uGT-H6P"
      },
      "source": [
        "X = df_without_atemp.drop(['target'], axis = 1)\n",
        "y = df_without_atemp.target"
      ],
      "execution_count": null,
      "outputs": []
    },
    {
      "cell_type": "code",
      "metadata": {
        "id": "mwHbs9KI-Xb8"
      },
      "source": [
        "X_train, X_test, y_train, y_test = train_test_split(X, y)"
      ],
      "execution_count": null,
      "outputs": []
    },
    {
      "cell_type": "code",
      "metadata": {
        "colab": {
          "base_uri": "https://localhost:8080/",
          "height": 204
        },
        "id": "iVd7SfHs-i2v",
        "outputId": "90d2d34c-03a7-4d96-e592-0f86b678b6a7"
      },
      "source": [
        "#AdaBoostRegressor (temp)\n",
        "abr_temp = RandomizedSearchCV(AdaBoostRegressor(),{\n",
        "     'n_estimators': [50, 100],\n",
        "     'learning_rate' : [0.01,0.05,0.1,0.3,1],\n",
        "     'loss' : ['linear', 'square', 'exponential']\n",
        "}, cv = 3, n_iter = 10, n_jobs = -1, return_train_score = False)\n",
        "\n",
        "abr_temp.fit(X_train, y_train)\n",
        "pd.DataFrame(abr_temp.cv_results_)[['param_n_estimators','param_learning_rate', 'param_loss']].head()"
      ],
      "execution_count": null,
      "outputs": [
        {
          "output_type": "execute_result",
          "data": {
            "text/html": [
              "<div>\n",
              "<style scoped>\n",
              "    .dataframe tbody tr th:only-of-type {\n",
              "        vertical-align: middle;\n",
              "    }\n",
              "\n",
              "    .dataframe tbody tr th {\n",
              "        vertical-align: top;\n",
              "    }\n",
              "\n",
              "    .dataframe thead th {\n",
              "        text-align: right;\n",
              "    }\n",
              "</style>\n",
              "<table border=\"1\" class=\"dataframe\">\n",
              "  <thead>\n",
              "    <tr style=\"text-align: right;\">\n",
              "      <th></th>\n",
              "      <th>param_n_estimators</th>\n",
              "      <th>param_learning_rate</th>\n",
              "      <th>param_loss</th>\n",
              "    </tr>\n",
              "  </thead>\n",
              "  <tbody>\n",
              "    <tr>\n",
              "      <th>0</th>\n",
              "      <td>50</td>\n",
              "      <td>0.01</td>\n",
              "      <td>linear</td>\n",
              "    </tr>\n",
              "    <tr>\n",
              "      <th>1</th>\n",
              "      <td>50</td>\n",
              "      <td>0.05</td>\n",
              "      <td>square</td>\n",
              "    </tr>\n",
              "    <tr>\n",
              "      <th>2</th>\n",
              "      <td>100</td>\n",
              "      <td>0.01</td>\n",
              "      <td>exponential</td>\n",
              "    </tr>\n",
              "    <tr>\n",
              "      <th>3</th>\n",
              "      <td>100</td>\n",
              "      <td>1</td>\n",
              "      <td>square</td>\n",
              "    </tr>\n",
              "    <tr>\n",
              "      <th>4</th>\n",
              "      <td>100</td>\n",
              "      <td>0.01</td>\n",
              "      <td>square</td>\n",
              "    </tr>\n",
              "  </tbody>\n",
              "</table>\n",
              "</div>"
            ],
            "text/plain": [
              "  param_n_estimators param_learning_rate   param_loss\n",
              "0                 50                0.01       linear\n",
              "1                 50                0.05       square\n",
              "2                100                0.01  exponential\n",
              "3                100                   1       square\n",
              "4                100                0.01       square"
            ]
          },
          "metadata": {},
          "execution_count": 37
        }
      ]
    },
    {
      "cell_type": "code",
      "metadata": {
        "id": "1B3RtXe0_XGN"
      },
      "source": [
        "y_pred_abr_temp = abr_temp.predict(X_test)"
      ],
      "execution_count": null,
      "outputs": []
    },
    {
      "cell_type": "code",
      "metadata": {
        "colab": {
          "base_uri": "https://localhost:8080/"
        },
        "id": "LSNW96iy_igN",
        "outputId": "7bc825c6-8918-4749-ca91-b709b48e27e2"
      },
      "source": [
        "print(f'R2 score: {r2_score(y_pred_abr_temp, y_test)}')"
      ],
      "execution_count": null,
      "outputs": [
        {
          "output_type": "stream",
          "name": "stdout",
          "text": [
            "R2 score: 0.9811452414925871\n"
          ]
        }
      ]
    },
    {
      "cell_type": "code",
      "metadata": {
        "colab": {
          "base_uri": "https://localhost:8080/"
        },
        "id": "4foMU1op_kkQ",
        "outputId": "34c7ee70-d37b-4c51-814e-bbe4210ee17e"
      },
      "source": [
        "print('Mean absolute score (MAE): %.2f'%mean_absolute_error(y_test, y_pred_abr_temp))"
      ],
      "execution_count": null,
      "outputs": [
        {
          "output_type": "stream",
          "name": "stdout",
          "text": [
            "Mean absolute score (MAE): 19.25\n"
          ]
        }
      ]
    },
    {
      "cell_type": "code",
      "metadata": {
        "id": "LftyJo7N_nCz"
      },
      "source": [
        ""
      ],
      "execution_count": null,
      "outputs": []
    },
    {
      "cell_type": "code",
      "metadata": {
        "id": "4E__1Lzv_nut"
      },
      "source": [
        "X = df_without_temp.drop(['target'], axis = 1)\n",
        "y = df_without_temp.target"
      ],
      "execution_count": null,
      "outputs": []
    },
    {
      "cell_type": "code",
      "metadata": {
        "id": "w4h65MgS_uCs"
      },
      "source": [
        "X_train, X_test, y_train, y_test = train_test_split(X, y)"
      ],
      "execution_count": null,
      "outputs": []
    },
    {
      "cell_type": "code",
      "metadata": {
        "colab": {
          "base_uri": "https://localhost:8080/",
          "height": 204
        },
        "id": "VVUc-ybf_xtc",
        "outputId": "adccd4b1-36b3-4f7e-ed97-bdcab3c9fae5"
      },
      "source": [
        "#AdaBoostRegressor (atemp)\n",
        "abr_atemp = RandomizedSearchCV(AdaBoostRegressor(),{\n",
        "     'n_estimators': [50, 100],\n",
        "     'learning_rate' : [0.01,0.05,0.1,0.3,1],\n",
        "     'loss' : ['linear', 'square', 'exponential']\n",
        "}, cv = 3, n_iter = 10, n_jobs = -1, return_train_score = False)\n",
        "\n",
        "abr_atemp.fit(X_train, y_train)\n",
        "pd.DataFrame(abr_atemp.cv_results_)[['param_n_estimators','param_learning_rate', 'param_loss']].head()"
      ],
      "execution_count": null,
      "outputs": [
        {
          "output_type": "execute_result",
          "data": {
            "text/html": [
              "<div>\n",
              "<style scoped>\n",
              "    .dataframe tbody tr th:only-of-type {\n",
              "        vertical-align: middle;\n",
              "    }\n",
              "\n",
              "    .dataframe tbody tr th {\n",
              "        vertical-align: top;\n",
              "    }\n",
              "\n",
              "    .dataframe thead th {\n",
              "        text-align: right;\n",
              "    }\n",
              "</style>\n",
              "<table border=\"1\" class=\"dataframe\">\n",
              "  <thead>\n",
              "    <tr style=\"text-align: right;\">\n",
              "      <th></th>\n",
              "      <th>param_n_estimators</th>\n",
              "      <th>param_learning_rate</th>\n",
              "      <th>param_loss</th>\n",
              "    </tr>\n",
              "  </thead>\n",
              "  <tbody>\n",
              "    <tr>\n",
              "      <th>0</th>\n",
              "      <td>100</td>\n",
              "      <td>0.3</td>\n",
              "      <td>square</td>\n",
              "    </tr>\n",
              "    <tr>\n",
              "      <th>1</th>\n",
              "      <td>100</td>\n",
              "      <td>0.1</td>\n",
              "      <td>exponential</td>\n",
              "    </tr>\n",
              "    <tr>\n",
              "      <th>2</th>\n",
              "      <td>100</td>\n",
              "      <td>0.05</td>\n",
              "      <td>exponential</td>\n",
              "    </tr>\n",
              "    <tr>\n",
              "      <th>3</th>\n",
              "      <td>100</td>\n",
              "      <td>1</td>\n",
              "      <td>square</td>\n",
              "    </tr>\n",
              "    <tr>\n",
              "      <th>4</th>\n",
              "      <td>100</td>\n",
              "      <td>0.1</td>\n",
              "      <td>square</td>\n",
              "    </tr>\n",
              "  </tbody>\n",
              "</table>\n",
              "</div>"
            ],
            "text/plain": [
              "  param_n_estimators param_learning_rate   param_loss\n",
              "0                100                 0.3       square\n",
              "1                100                 0.1  exponential\n",
              "2                100                0.05  exponential\n",
              "3                100                   1       square\n",
              "4                100                 0.1       square"
            ]
          },
          "metadata": {},
          "execution_count": 43
        }
      ]
    },
    {
      "cell_type": "code",
      "metadata": {
        "id": "Fg63cYoe_5P_"
      },
      "source": [
        "y_pred_abr_atemp = abr_atemp.predict(X_test)"
      ],
      "execution_count": null,
      "outputs": []
    },
    {
      "cell_type": "code",
      "metadata": {
        "colab": {
          "base_uri": "https://localhost:8080/"
        },
        "id": "wSLzImt6_8Hq",
        "outputId": "8a178624-1fe7-4dbd-ed56-c86b6e1ae0a6"
      },
      "source": [
        "print(f'R2 score: {r2_score(y_pred_abr_atemp, y_test)}')"
      ],
      "execution_count": null,
      "outputs": [
        {
          "output_type": "stream",
          "name": "stdout",
          "text": [
            "R2 score: 0.9793842947175593\n"
          ]
        }
      ]
    },
    {
      "cell_type": "code",
      "metadata": {
        "colab": {
          "base_uri": "https://localhost:8080/"
        },
        "id": "UnnhFaYIAA2k",
        "outputId": "71c25e9c-99f4-499a-b50f-d41ff52620ca"
      },
      "source": [
        "print('Mean absolute score (MAE): %.2f'%mean_absolute_error(y_test, y_pred_abr_atemp))"
      ],
      "execution_count": null,
      "outputs": [
        {
          "output_type": "stream",
          "name": "stdout",
          "text": [
            "Mean absolute score (MAE): 20.31\n"
          ]
        }
      ]
    },
    {
      "cell_type": "markdown",
      "metadata": {
        "id": "WJvWKwQxmfVm"
      },
      "source": [
        "Not the best, but great results for adaboost"
      ]
    },
    {
      "cell_type": "markdown",
      "metadata": {
        "id": "-Xj3zIcTmmsz"
      },
      "source": [
        "## Conclusion"
      ]
    },
    {
      "cell_type": "markdown",
      "metadata": {
        "id": "02DvIf4Nmtwm"
      },
      "source": [
        "* The best model is SVR with MAE score 0.05\n",
        "* Current hour is more important, because even if it's not the greatest season, demand is on peak or at the bottom, whether it's 5pm or 2am for example. And the season plot is more monotonous\n",
        "* Well, I can say that feeling temperature is more important, because demand depends on how people feel temperature not on the actual value of it\n",
        "* I don't think the humidity is affect the target very strong, but there is a decreasing trend in it's plot, which means more hum - less demand\n",
        "* The most affectable features are registered, casual, atemp"
      ]
    },
    {
      "cell_type": "code",
      "metadata": {
        "id": "jBnPqWnxdBip"
      },
      "source": [
        "lst = [1, 5, 3, 1, 4, 8, 9, 2, 4]"
      ],
      "execution_count": null,
      "outputs": []
    },
    {
      "cell_type": "code",
      "metadata": {
        "id": "MtBXnwuhdI6m"
      },
      "source": [
        "k = 3"
      ],
      "execution_count": null,
      "outputs": []
    },
    {
      "cell_type": "code",
      "metadata": {
        "id": "rdI-1Gh2dK7V"
      },
      "source": [
        "for i in range(len(lst)) - 1:\n",
        "  for j in range(len(lst)):\n",
        "    if lst[i] == lst[j]:\n",
        "     print(True)\n"
      ],
      "execution_count": null,
      "outputs": []
    }
  ]
}